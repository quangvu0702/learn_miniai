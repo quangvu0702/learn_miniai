{
 "cells": [
  {
   "cell_type": "markdown",
   "id": "756f5d27",
   "metadata": {},
   "source": [
    "### Download files"
   ]
  },
  {
   "cell_type": "code",
   "execution_count": 1,
   "id": "718efb0c",
   "metadata": {},
   "outputs": [],
   "source": [
    "# be familiar with pathlib, urllib, gzip, idx3-ubyte standard, and matplotlib"
   ]
  },
  {
   "cell_type": "code",
   "execution_count": 2,
   "id": "df6d2317",
   "metadata": {},
   "outputs": [],
   "source": [
    "from urllib.request import urlretrieve\n",
    "from pathlib import Path\n",
    "\n",
    "URL_train = 'http://yann.lecun.com/exdb/mnist/train-images-idx3-ubyte.gz'"
   ]
  },
  {
   "cell_type": "code",
   "execution_count": 3,
   "id": "d455d384",
   "metadata": {},
   "outputs": [],
   "source": [
    "data_path = Path('/home/admin/projects/learn_miniai/nbs/data')\n",
    "data_path.mkdir(parents=True, exist_ok=True)\n",
    "train_image_fn = data_path/'train_image.gz'"
   ]
  },
  {
   "cell_type": "code",
   "execution_count": 4,
   "id": "cea92b24",
   "metadata": {},
   "outputs": [],
   "source": [
    "if not train_image_fn.exists(): urlretrieve(URL_train, train_image_fn)"
   ]
  },
  {
   "cell_type": "code",
   "execution_count": 5,
   "id": "c3086f3f",
   "metadata": {},
   "outputs": [
    {
     "name": "stdout",
     "output_type": "stream",
     "text": [
      "\u001b[0m\u001b[01;31mmnist.pkl.gz\u001b[0m  \u001b[01;34mtemp\u001b[0m/  \u001b[01;31mtrain_image.gz\u001b[0m\r\n"
     ]
    }
   ],
   "source": [
    "ls data"
   ]
  },
  {
   "cell_type": "code",
   "execution_count": 6,
   "id": "fafaf7e1",
   "metadata": {},
   "outputs": [],
   "source": [
    "import gzip, pickle, struct\n",
    "import numpy as np"
   ]
  },
  {
   "cell_type": "code",
   "execution_count": 7,
   "id": "bca771f6",
   "metadata": {},
   "outputs": [],
   "source": [
    "with gzip.open(train_image_fn) as f:\n",
    "    magic, size = struct.unpack(\">II\", f.read(8))\n",
    "    nrows, ncols = struct.unpack(\">II\", f.read(8))"
   ]
  },
  {
   "cell_type": "code",
   "execution_count": 8,
   "id": "26743ced",
   "metadata": {},
   "outputs": [
    {
     "data": {
      "text/plain": [
       "(2051, 60000, 28, 28)"
      ]
     },
     "execution_count": 8,
     "metadata": {},
     "output_type": "execute_result"
    }
   ],
   "source": [
    "magic, size, nrows, ncols"
   ]
  },
  {
   "cell_type": "code",
   "execution_count": 9,
   "id": "89c518f0",
   "metadata": {},
   "outputs": [],
   "source": [
    "# play with idx format https://www.fon.hum.uva.nl/praat/manual/IDX_file_format.html"
   ]
  },
  {
   "cell_type": "code",
   "execution_count": 10,
   "id": "1752ec3c",
   "metadata": {},
   "outputs": [
    {
     "name": "stdout",
     "output_type": "stream",
     "text": [
      "value of thirth byte is 8. It means 0x08: unsigned byte\n",
      "value of fourth byte is 3. It means 0x03: 3 dimentions\n",
      "dimention1 (60000,)\n",
      "dimention1 60000\n",
      "dimention2 28\n",
      "dimention3 28\n"
     ]
    }
   ],
   "source": [
    "# magic number                     -- b'\\x00\\x00\\x08\\x03' -> 0x08: unsigned byte, x03 -> 3 number of dimensions\n",
    "#     size in dimension 1\n",
    "#     size in dimension 2\n",
    "#     size in dimension 3\n",
    "#     ....\n",
    "#     size in dimension N\n",
    "#     data\n",
    "with gzip.open(train_image_fn) as f:\n",
    "    magic_number = f.read(4)\n",
    "    print(f\"value of thirth byte is {magic_number[2]}. It means 0x08: unsigned byte\")\n",
    "    print(f\"value of fourth byte is {magic_number[3]}. It means 0x03: 3 dimentions\")\n",
    "    dimention1 = struct.unpack(\">I\", f.read(4))\n",
    "    print(f\"dimention1 {dimention1}\")\n",
    "# read value of each dimentions\n",
    "# Here, \">II\" is the format string used by struct.unpack().]\n",
    "# The first character > specifies that the data should be packed in big-endian byte order,\n",
    "# while the following two I's specify that the data should be interpreted as unsigned integers.\n",
    "\n",
    "with gzip.open(train_image_fn) as f:\n",
    "    # unpack at least 8 byte\n",
    "    magic, dimention1, dimention2, dimention3 = struct.unpack(\">IIII\", f.read(16))\n",
    "#     dimention2, dimention3 = struct.unpack(\">II\", f.read(8))\n",
    "    print(\"dimention1\", dimention1)\n",
    "    print(\"dimention2\", dimention2)\n",
    "    print(\"dimention3\", dimention3)\n",
    "    # next path is data\n",
    "    img_data = np.frombuffer(f.read(), dtype=np.uint8)\n",
    "    assert len(img_data) == dimention1 * dimention2 * dimention3"
   ]
  },
  {
   "cell_type": "code",
   "execution_count": 11,
   "id": "69455e05",
   "metadata": {},
   "outputs": [],
   "source": [
    "img_data = img_data.reshape((dimention1, dimention2, dimention3))"
   ]
  },
  {
   "cell_type": "code",
   "execution_count": 12,
   "id": "3d473629",
   "metadata": {},
   "outputs": [
    {
     "data": {
      "text/plain": [
       "(28, 28)"
      ]
     },
     "execution_count": 12,
     "metadata": {},
     "output_type": "execute_result"
    }
   ],
   "source": [
    "img_data[0].shape"
   ]
  },
  {
   "cell_type": "code",
   "execution_count": 13,
   "id": "a0707750",
   "metadata": {},
   "outputs": [],
   "source": [
    "# display image to test the reading value"
   ]
  },
  {
   "cell_type": "code",
   "execution_count": 14,
   "id": "4074693c",
   "metadata": {},
   "outputs": [],
   "source": [
    "from matplotlib import pyplot as plt"
   ]
  },
  {
   "cell_type": "code",
   "execution_count": 15,
   "id": "ba022edb",
   "metadata": {},
   "outputs": [
    {
     "data": {
      "image/png": "[encoded data removed]",
      "text/plain": [
       "<Figure size 640x480 with 1 Axes>"
      ]
     },
     "metadata": {},
     "output_type": "display_data"
    }
   ],
   "source": [
    "plt.imshow(img_data[2], cmap='gray')\n",
    "plt.show()"
   ]
  },
  {
   "cell_type": "code",
   "execution_count": 16,
   "id": "22d3d4a6",
   "metadata": {},
   "outputs": [],
   "source": [
    "# it cost a lot of effort to load data from draw data IDX_file_format.\n",
    "# we can download mnist from other sources with more easy to use format."
   ]
  },
  {
   "cell_type": "code",
   "execution_count": 17,
   "id": "50e75781",
   "metadata": {},
   "outputs": [],
   "source": [
    "MNIST_URL='https://github.com/mnielsen/neural-networks-and-deep-learning/blob/master/data/mnist.pkl.gz?raw=true'\n",
    "data_fn = data_path/'mnist.pkl.gz'\n",
    "if not data_fn.exists(): urlretrieve(MNIST_URL, data_fn)"
   ]
  },
  {
   "cell_type": "code",
   "execution_count": 18,
   "id": "9bd6f48f",
   "metadata": {},
   "outputs": [
    {
     "name": "stdout",
     "output_type": "stream",
     "text": [
      "\u001b[0m\u001b[01;31mmnist.pkl.gz\u001b[0m  \u001b[01;34mtemp\u001b[0m/  \u001b[01;31mtrain_image.gz\u001b[0m\r\n"
     ]
    }
   ],
   "source": [
    "ls data"
   ]
  },
  {
   "cell_type": "code",
   "execution_count": 19,
   "id": "2cd8b7c0",
   "metadata": {},
   "outputs": [],
   "source": [
    "# This pickle is save by python version 2\n",
    "# Using encoding='latin1' is required for unpickling NumPy arrays\n",
    "# and instances of datetime, date and time pickled by Python 2.\n",
    "\n",
    "with gzip.open(data_fn, mode='rb') as f:\n",
    "    ((x_train, y_train), (x_valid, y_valid), (x_test, y_test)) = pickle.load(f, encoding='latin1')"
   ]
  },
  {
   "cell_type": "code",
   "execution_count": 20,
   "id": "21b1d104",
   "metadata": {},
   "outputs": [
    {
     "data": {
      "text/plain": [
       "((50000, 784), (50000,), (10000, 784), (10000,))"
      ]
     },
     "execution_count": 20,
     "metadata": {},
     "output_type": "execute_result"
    }
   ],
   "source": [
    "x_train.shape, y_train.shape, x_valid.shape, y_valid.shape"
   ]
  },
  {
   "cell_type": "code",
   "execution_count": 21,
   "id": "f3ec815c",
   "metadata": {},
   "outputs": [
    {
     "data": {
      "text/plain": [
       "[]"
      ]
     },
     "execution_count": 21,
     "metadata": {},
     "output_type": "execute_result"
    },
    {
     "data": {
      "image/png": "[encoded data removed]",
      "text/plain": [
       "<Figure size 640x480 with 1 Axes>"
      ]
     },
     "metadata": {},
     "output_type": "display_data"
    }
   ],
   "source": [
    "plt.imshow(x_train[0].reshape((28, 28)), cmap='gray')\n",
    "plt.plot()"
   ]
  },
  {
   "cell_type": "markdown",
   "id": "c273e1da",
   "metadata": {},
   "source": [
    "### Itertools"
   ]
  },
  {
   "cell_type": "code",
   "execution_count": 22,
   "id": "2253fd2f",
   "metadata": {},
   "outputs": [],
   "source": [
    "# be familiar with iterator and iterator building block"
   ]
  },
  {
   "cell_type": "code",
   "execution_count": 23,
   "id": "a289e2df",
   "metadata": {},
   "outputs": [
    {
     "data": {
      "text/plain": [
       "(1, 4)"
      ]
     },
     "execution_count": 23,
     "metadata": {},
     "output_type": "execute_result"
    }
   ],
   "source": [
    "from itertools import chain\n",
    "\n",
    "list1 = [1]\n",
    "list2 = [4]\n",
    "l = chain(list1, list2)\n",
    "next(l), next(l)"
   ]
  },
  {
   "cell_type": "code",
   "execution_count": 24,
   "id": "3093e6a1",
   "metadata": {},
   "outputs": [
    {
     "name": "stdout",
     "output_type": "stream",
     "text": [
      "(1, 4)\n",
      "(2, None)\n",
      "(3, None)\n"
     ]
    }
   ],
   "source": [
    "from itertools import zip_longest\n",
    "\n",
    "list1 = [1, 2, 3]\n",
    "list2 = [4]\n",
    "xs = zip_longest(list1, list2)\n",
    "for x in xs:\n",
    "    print(x)"
   ]
  },
  {
   "cell_type": "code",
   "execution_count": 25,
   "id": "08128131",
   "metadata": {},
   "outputs": [
    {
     "name": "stdout",
     "output_type": "stream",
     "text": [
      "0\n",
      "1\n",
      "2\n",
      "----\n",
      "(1, 0)\n",
      "(2, 1)\n",
      "(3, 2)\n"
     ]
    }
   ],
   "source": [
    "from itertools import count\n",
    "\n",
    "c = count(0)\n",
    "for i in range(3):\n",
    "    print(next(c))\n",
    "print('----')\n",
    "list1 = [1, 2, 3]\n",
    "c = count(0)\n",
    "xs = zip_longest(list1, c)\n",
    "for _ in list1:\n",
    "    print(next(xs))"
   ]
  },
  {
   "cell_type": "code",
   "execution_count": 26,
   "id": "643a9a15",
   "metadata": {},
   "outputs": [
    {
     "name": "stdout",
     "output_type": "stream",
     "text": [
      "('4', '1')\n",
      "('4', '2')\n",
      "('4', '3')\n",
      "('1', '2')\n",
      "('1', '3')\n",
      "('2', '3')\n"
     ]
    }
   ],
   "source": [
    "from itertools import combinations\n",
    "\n",
    "for t in combinations(\"4123\", 2):\n",
    "    print(t)"
   ]
  },
  {
   "cell_type": "code",
   "execution_count": 27,
   "id": "b40a4501",
   "metadata": {},
   "outputs": [
    {
     "name": "stdout",
     "output_type": "stream",
     "text": [
      "('4', '1')\n",
      "('4', '2')\n",
      "('4', '3')\n",
      "('1', '2')\n",
      "('1', '3')\n",
      "('2', '3')\n"
     ]
    }
   ],
   "source": [
    "from itertools import combinations\n",
    "\n",
    "for t in combinations(\"4123\", 2):\n",
    "    print(t)"
   ]
  },
  {
   "cell_type": "code",
   "execution_count": 28,
   "id": "c0d498c8",
   "metadata": {},
   "outputs": [
    {
     "name": "stdout",
     "output_type": "stream",
     "text": [
      "('A', 'B', 'C')\n",
      "('A', 'C', 'B')\n",
      "('B', 'A', 'C')\n",
      "('B', 'C', 'A')\n",
      "('C', 'A', 'B')\n",
      "('C', 'B', 'A')\n"
     ]
    }
   ],
   "source": [
    "from itertools import permutations\n",
    "\n",
    "for t in permutations(\"ABC\", 3):\n",
    "    print(t)"
   ]
  },
  {
   "cell_type": "code",
   "execution_count": 29,
   "id": "f258d9f2",
   "metadata": {
    "scrolled": true
   },
   "outputs": [
    {
     "name": "stdout",
     "output_type": "stream",
     "text": [
      "1\n",
      "2\n",
      "3\n",
      "4\n",
      "5\n"
     ]
    },
    {
     "data": {
      "text/plain": [
       "([1, 2, 3, 4, 5], [6, 7, 8, 9, 10], [])"
      ]
     },
     "execution_count": 29,
     "metadata": {},
     "output_type": "execute_result"
    }
   ],
   "source": [
    "from itertools import islice\n",
    "\n",
    "my_list = [1, 2, 3, 4, 5, 6, 7, 8, 9, 10]\n",
    "for item in islice(my_list, 5):\n",
    "    print(item)\n",
    "    \n",
    "# using islice for iter\n",
    "my_list = [1, 2, 3, 4, 5, 6, 7, 8, 9, 10]\n",
    "xs = iter(my_list)\n",
    "list(islice(xs, 5)), list(islice(xs, 5)), list(islice(xs, 5))"
   ]
  },
  {
   "cell_type": "code",
   "execution_count": 30,
   "id": "9608d752",
   "metadata": {},
   "outputs": [
    {
     "name": "stdout",
     "output_type": "stream",
     "text": [
      "1 2\n"
     ]
    },
    {
     "data": {
      "text/plain": [
       "[[1, 2], [3]]"
      ]
     },
     "execution_count": 30,
     "metadata": {},
     "output_type": "execute_result"
    }
   ],
   "source": [
    "# iter \n",
    "# iter(object) - create a normal iter\n",
    "my_list = [1, 2, 3, 4, 5, 6, 7, 8, 9, 10]\n",
    "xs = iter(my_list)\n",
    "print(next(xs), next(xs))\n",
    "\n",
    "# iter(object, sentinel) - generate data from object function until returned data == sentinel\n",
    "my_list = [1, 2, 3]\n",
    "xs = iter(my_list)\n",
    "next_x = lambda: list(islice(xs, 2))\n",
    "list(iter(next_x, []))"
   ]
  },
  {
   "cell_type": "code",
   "execution_count": 31,
   "id": "9d7731e5",
   "metadata": {},
   "outputs": [
    {
     "name": "stdout",
     "output_type": "stream",
     "text": [
      "3\n",
      "5\n"
     ]
    }
   ],
   "source": [
    "# lambda: define a small, anonymous functions in python\n",
    "three = lambda: 3\n",
    "print(three())\n",
    "\n",
    "plus_three = lambda x: x + 3\n",
    "print(plus_three(2))"
   ]
  },
  {
   "cell_type": "code",
   "execution_count": 32,
   "id": "94f00482",
   "metadata": {},
   "outputs": [],
   "source": [
    "# using islice and iter instead of reshape"
   ]
  },
  {
   "cell_type": "code",
   "execution_count": 33,
   "id": "9e9d2cdd",
   "metadata": {},
   "outputs": [],
   "source": [
    "x0 = x_train[0]"
   ]
  },
  {
   "cell_type": "code",
   "execution_count": 34,
   "id": "0cede4e2",
   "metadata": {
    "scrolled": true
   },
   "outputs": [
    {
     "data": {
      "text/plain": [
       "<matplotlib.image.AxesImage at 0x7fa329543610>"
      ]
     },
     "execution_count": 34,
     "metadata": {},
     "output_type": "execute_result"
    },
    {
     "data": {
      "image/png": "[encoded data removed]",
      "text/plain": [
       "<Figure size 640x480 with 1 Axes>"
      ]
     },
     "metadata": {},
     "output_type": "display_data"
    }
   ],
   "source": [
    "plt.imshow(x0.reshape((28, 28)), cmap='gray')"
   ]
  },
  {
   "cell_type": "code",
   "execution_count": 35,
   "id": "d3322437",
   "metadata": {},
   "outputs": [
    {
     "data": {
      "text/plain": [
       "<matplotlib.image.AxesImage at 0x7fa3295a55b0>"
      ]
     },
     "execution_count": 35,
     "metadata": {},
     "output_type": "execute_result"
    },
    {
     "data": {
      "image/png": "[encoded data removed]",
      "text/plain": [
       "<Figure size 640x480 with 1 Axes>"
      ]
     },
     "metadata": {},
     "output_type": "display_data"
    }
   ],
   "source": [
    "it = iter(x0)\n",
    "\n",
    "def next_row():\n",
    "    return list(islice(it, 28))\n",
    "img = list(iter(next_row, []))\n",
    "\n",
    "plt.imshow(img, cmap='gray')"
   ]
  },
  {
   "cell_type": "code",
   "execution_count": 36,
   "id": "c9463466",
   "metadata": {},
   "outputs": [
    {
     "data": {
      "text/plain": [
       "<matplotlib.image.AxesImage at 0x7fa329df1910>"
      ]
     },
     "execution_count": 36,
     "metadata": {},
     "output_type": "execute_result"
    },
    {
     "data": {
      "image/png": "[encoded data removed]",
      "text/plain": [
       "<Figure size 640x480 with 1 Axes>"
      ]
     },
     "metadata": {},
     "output_type": "display_data"
    }
   ],
   "source": [
    "# using lambda and iter\n",
    "\n",
    "it = iter(x0)\n",
    "img = list(iter(lambda: list(islice(it, 28)), []))\n",
    "plt.imshow(img, cmap='gray')"
   ]
  },
  {
   "cell_type": "markdown",
   "id": "21e7f9f9",
   "metadata": {},
   "source": [
    "### Matrix and Tensor"
   ]
  },
  {
   "cell_type": "code",
   "execution_count": 37,
   "id": "5bc55035",
   "metadata": {},
   "outputs": [
    {
     "data": {
      "text/plain": [
       "0.98828125"
      ]
     },
     "execution_count": 37,
     "metadata": {},
     "output_type": "execute_result"
    }
   ],
   "source": [
    "class Matrix():\n",
    "    def __init__(self, xs): self.xs = xs\n",
    "    def __getitem__(self, idxes): return self.xs[idxes[0]][idxes[1]]\n",
    "        \n",
    "        \n",
    "m = Matrix(img)\n",
    "m[20,15]"
   ]
  },
  {
   "cell_type": "code",
   "execution_count": 38,
   "id": "77367468",
   "metadata": {},
   "outputs": [],
   "source": [
    "from torch import tensor"
   ]
  },
  {
   "cell_type": "code",
   "execution_count": 39,
   "id": "f0fa53bc",
   "metadata": {},
   "outputs": [
    {
     "data": {
      "text/plain": [
       "torch.Size([50000, 784])"
      ]
     },
     "execution_count": 39,
     "metadata": {},
     "output_type": "execute_result"
    }
   ],
   "source": [
    "x_train, y_train, x_valid, y_valid = map(tensor, (x_train, y_train, x_valid, y_valid,))\n",
    "x_train.shape"
   ]
  },
  {
   "cell_type": "code",
   "execution_count": 40,
   "id": "64e8b6e1",
   "metadata": {},
   "outputs": [
    {
     "data": {
      "text/plain": [
       "(tensor(0), tensor(9))"
      ]
     },
     "execution_count": 40,
     "metadata": {},
     "output_type": "execute_result"
    }
   ],
   "source": [
    "y_train.min(), y_train.max()"
   ]
  },
  {
   "cell_type": "code",
   "execution_count": 41,
   "id": "cff7c7b4",
   "metadata": {},
   "outputs": [],
   "source": [
    "imgs = x_train.reshape((-1, 28, 28))"
   ]
  },
  {
   "cell_type": "code",
   "execution_count": 42,
   "id": "bd35d8ca",
   "metadata": {},
   "outputs": [
    {
     "data": {
      "text/plain": [
       "tensor(0.9883)"
      ]
     },
     "execution_count": 42,
     "metadata": {},
     "output_type": "execute_result"
    }
   ],
   "source": [
    "imgs[0, 20, 15]"
   ]
  },
  {
   "cell_type": "code",
   "execution_count": 43,
   "id": "4731cab2",
   "metadata": {},
   "outputs": [
    {
     "data": {
      "image/png": "[encoded data removed]",
      "text/plain": [
       "<Figure size 640x480 with 1 Axes>"
      ]
     },
     "metadata": {},
     "output_type": "display_data"
    }
   ],
   "source": [
    "plt.imshow(imgs[0], cmap='gray')\n",
    "plt.show()"
   ]
  },
  {
   "cell_type": "code",
   "execution_count": 44,
   "id": "5c6c4ae0",
   "metadata": {},
   "outputs": [],
   "source": [
    "n, c = x_train.shape"
   ]
  },
  {
   "cell_type": "markdown",
   "id": "36a00397",
   "metadata": {},
   "source": [
    "### Matrix mutiplication"
   ]
  },
  {
   "cell_type": "code",
   "execution_count": 45,
   "id": "a1e57527",
   "metadata": {},
   "outputs": [],
   "source": [
    "import torch\n",
    "\n",
    "torch.manual_seed(1)\n",
    "\n",
    "weight = torch.randn((784, 10))\n",
    "bias = torch.zeros(10)"
   ]
  },
  {
   "cell_type": "code",
   "execution_count": 46,
   "id": "d16c8825",
   "metadata": {},
   "outputs": [
    {
     "name": "stdout",
     "output_type": "stream",
     "text": [
      "torch.Size([5, 784])\n",
      "torch.Size([784, 10])\n"
     ]
    }
   ],
   "source": [
    "m1 = x_valid[0:5]; print(m1.shape)\n",
    "m2 = weight; print(m2.shape)"
   ]
  },
  {
   "cell_type": "code",
   "execution_count": 47,
   "id": "d1087067",
   "metadata": {},
   "outputs": [],
   "source": [
    "ar, ac = m1.shape\n",
    "br, bc = m2.shape"
   ]
  },
  {
   "cell_type": "code",
   "execution_count": 48,
   "id": "de79928e",
   "metadata": {},
   "outputs": [
    {
     "name": "stdout",
     "output_type": "stream",
     "text": [
      "torch.Size([5, 10])\n"
     ]
    }
   ],
   "source": [
    "t1 = torch.zeros((ar, bc)); print(t1.shape)"
   ]
  },
  {
   "cell_type": "code",
   "execution_count": 49,
   "id": "52ff7b16",
   "metadata": {},
   "outputs": [],
   "source": [
    "for i in range(ar):\n",
    "    for j in range(ac):\n",
    "        for k in range(bc):\n",
    "            t1[i,k] += m1[i,j] * m2[j,k]"
   ]
  },
  {
   "cell_type": "code",
   "execution_count": 50,
   "id": "f47a9ece",
   "metadata": {},
   "outputs": [
    {
     "data": {
      "text/plain": [
       "tensor([[-10.9417,  -0.6844,  -7.0038,  -4.0066,  -2.0857,  -3.3588,   3.9127,\n",
       "          -3.4375, -11.4696,  -2.1153],\n",
       "        [ 14.5430,   5.9977,   2.8914,  -4.0777,   6.5914, -14.7383,  -9.2787,\n",
       "           2.1577, -15.2772,  -2.6758],\n",
       "        [  2.2204,  -3.2171,  -4.7988,  -6.0453,  14.1661,  -8.9824,  -4.7922,\n",
       "          -5.4446, -20.6758,  13.5657],\n",
       "        [ -6.7097,   8.8998,  -7.4611,  -7.8966,   2.6994,  -4.7260, -11.0278,\n",
       "         -12.9776,  -6.4443,   3.6376],\n",
       "        [ -2.4444,  -6.4034,  -2.3984,  -9.0371,  11.1772,  -5.7724,  -8.9214,\n",
       "          -3.7862,  -8.9827,   5.2797]])"
      ]
     },
     "execution_count": 50,
     "metadata": {},
     "output_type": "execute_result"
    }
   ],
   "source": [
    "t1"
   ]
  },
  {
   "cell_type": "code",
   "execution_count": 51,
   "id": "036b02e6",
   "metadata": {},
   "outputs": [],
   "source": [
    "torch.set_printoptions(precision=2, linewidth=170)"
   ]
  },
  {
   "cell_type": "code",
   "execution_count": 52,
   "id": "8845d108",
   "metadata": {},
   "outputs": [
    {
     "data": {
      "text/plain": [
       "tensor([[-10.94,  -0.68,  -7.00,  -4.01,  -2.09,  -3.36,   3.91,  -3.44, -11.47,  -2.12],\n",
       "        [ 14.54,   6.00,   2.89,  -4.08,   6.59, -14.74,  -9.28,   2.16, -15.28,  -2.68],\n",
       "        [  2.22,  -3.22,  -4.80,  -6.05,  14.17,  -8.98,  -4.79,  -5.44, -20.68,  13.57],\n",
       "        [ -6.71,   8.90,  -7.46,  -7.90,   2.70,  -4.73, -11.03, -12.98,  -6.44,   3.64],\n",
       "        [ -2.44,  -6.40,  -2.40,  -9.04,  11.18,  -5.77,  -8.92,  -3.79,  -8.98,   5.28]])"
      ]
     },
     "execution_count": 52,
     "metadata": {},
     "output_type": "execute_result"
    }
   ],
   "source": [
    "t1"
   ]
  },
  {
   "cell_type": "code",
   "execution_count": 53,
   "id": "209029e0",
   "metadata": {},
   "outputs": [
    {
     "data": {
      "text/plain": [
       "tensor([[-10.94,  -0.68,  -7.00,  -4.01,  -2.09,  -3.36,   3.91,  -3.44, -11.47,  -2.12],\n",
       "        [ 14.54,   6.00,   2.89,  -4.08,   6.59, -14.74,  -9.28,   2.16, -15.28,  -2.68],\n",
       "        [  2.22,  -3.22,  -4.80,  -6.05,  14.17,  -8.98,  -4.79,  -5.44, -20.68,  13.57],\n",
       "        [ -6.71,   8.90,  -7.46,  -7.90,   2.70,  -4.73, -11.03, -12.98,  -6.44,   3.64],\n",
       "        [ -2.44,  -6.40,  -2.40,  -9.04,  11.18,  -5.77,  -8.92,  -3.79,  -8.98,   5.28]])"
      ]
     },
     "execution_count": 53,
     "metadata": {},
     "output_type": "execute_result"
    }
   ],
   "source": [
    "m1 @ m2"
   ]
  },
  {
   "cell_type": "code",
   "execution_count": 54,
   "id": "134d37d4",
   "metadata": {},
   "outputs": [
    {
     "data": {
      "text/plain": [
       "True"
      ]
     },
     "execution_count": 54,
     "metadata": {},
     "output_type": "execute_result"
    }
   ],
   "source": [
    "torch.allclose(t1, m1@m2)"
   ]
  },
  {
   "cell_type": "code",
   "execution_count": 55,
   "id": "b94024be",
   "metadata": {},
   "outputs": [
    {
     "data": {
      "text/plain": [
       "tensor([[-10.94,  -0.68,  -7.00,  -4.01,  -2.09,  -3.36,   3.91,  -3.44, -11.47,  -2.12],\n",
       "        [ 14.54,   6.00,   2.89,  -4.08,   6.59, -14.74,  -9.28,   2.16, -15.28,  -2.68],\n",
       "        [  2.22,  -3.22,  -4.80,  -6.05,  14.17,  -8.98,  -4.79,  -5.44, -20.68,  13.57],\n",
       "        [ -6.71,   8.90,  -7.46,  -7.90,   2.70,  -4.73, -11.03, -12.98,  -6.44,   3.64],\n",
       "        [ -2.44,  -6.40,  -2.40,  -9.04,  11.18,  -5.77,  -8.92,  -3.79,  -8.98,   5.28]])"
      ]
     },
     "execution_count": 55,
     "metadata": {},
     "output_type": "execute_result"
    }
   ],
   "source": [
    "def matmul(m1, m2):\n",
    "    ar, ac = m1.shape\n",
    "    br, bc = m2.shape\n",
    "    t1 = torch.zeros((ar, bc))\n",
    "    for i in range(ar):\n",
    "        for j in range(ac):\n",
    "            for k in range(bc):\n",
    "                t1[i,k] += m1[i,j] * m2[j,k]\n",
    "    return t1\n",
    "\n",
    "t1 = matmul(m1, m2)\n",
    "\n",
    "assert torch.allclose(t1, m1@m2)\n",
    "\n",
    "t1"
   ]
  },
  {
   "cell_type": "code",
   "execution_count": 56,
   "id": "b5fa9f72",
   "metadata": {},
   "outputs": [
    {
     "name": "stdout",
     "output_type": "stream",
     "text": [
      "CPU times: user 2.44 s, sys: 48.2 ms, total: 2.49 s\n",
      "Wall time: 464 ms\n"
     ]
    }
   ],
   "source": [
    "%time _ = matmul(m1, m2)"
   ]
  },
  {
   "cell_type": "code",
   "execution_count": 57,
   "id": "62104ffa",
   "metadata": {},
   "outputs": [
    {
     "data": {
      "text/plain": [
       "39200"
      ]
     },
     "execution_count": 57,
     "metadata": {},
     "output_type": "execute_result"
    }
   ],
   "source": [
    "ar * ac * bc"
   ]
  },
  {
   "cell_type": "markdown",
   "id": "14bb00ff",
   "metadata": {},
   "source": [
    "### Numba"
   ]
  },
  {
   "cell_type": "code",
   "execution_count": 58,
   "id": "927007bf",
   "metadata": {},
   "outputs": [],
   "source": [
    "from numba import njit\n",
    "\n",
    "np.set_printoptions(precision=2, linewidth=270)"
   ]
  },
  {
   "cell_type": "code",
   "execution_count": 59,
   "id": "027a5f7e",
   "metadata": {},
   "outputs": [],
   "source": [
    "# pip install numba"
   ]
  },
  {
   "cell_type": "code",
   "execution_count": 60,
   "id": "4f303f44",
   "metadata": {
    "scrolled": true
   },
   "outputs": [
    {
     "name": "stdout",
     "output_type": "stream",
     "text": [
      "CPU times: user 581 ms, sys: 1.2 s, total: 1.78 s\n",
      "Wall time: 191 ms\n"
     ]
    },
    {
     "data": {
      "text/plain": [
       "-10.94173222349491"
      ]
     },
     "execution_count": 60,
     "metadata": {},
     "output_type": "execute_result"
    }
   ],
   "source": [
    "@njit\n",
    "def dot(a,b):\n",
    "    res = .0\n",
    "    for i in range(len(a)): res += a[i] * b[i]\n",
    "    return res\n",
    "\n",
    "a, b = m1[0].numpy(), m2[:, 0].numpy()\n",
    "\n",
    "%time dot(a, b)"
   ]
  },
  {
   "cell_type": "code",
   "execution_count": 61,
   "id": "df170173",
   "metadata": {},
   "outputs": [
    {
     "name": "stdout",
     "output_type": "stream",
     "text": [
      "CPU times: user 6 µs, sys: 0 ns, total: 6 µs\n",
      "Wall time: 7.39 µs\n"
     ]
    },
    {
     "data": {
      "text/plain": [
       "-10.94173222349491"
      ]
     },
     "execution_count": 61,
     "metadata": {},
     "output_type": "execute_result"
    }
   ],
   "source": [
    "%time dot(a, b)"
   ]
  },
  {
   "cell_type": "code",
   "execution_count": 62,
   "id": "bd4e2abe",
   "metadata": {},
   "outputs": [],
   "source": [
    "np_m1, np_m2 = m1.numpy(), m2.numpy()"
   ]
  },
  {
   "cell_type": "code",
   "execution_count": 63,
   "id": "b37fa2fb",
   "metadata": {},
   "outputs": [
    {
     "data": {
      "text/plain": [
       "array([[-10.94,  -0.68,  -7.  ,  -4.01,  -2.09,  -3.36,   3.91,  -3.44, -11.47,  -2.12],\n",
       "       [ 14.54,   6.  ,   2.89,  -4.08,   6.59, -14.74,  -9.28,   2.16, -15.28,  -2.68],\n",
       "       [  2.22,  -3.22,  -4.8 ,  -6.05,  14.17,  -8.98,  -4.79,  -5.44, -20.68,  13.57],\n",
       "       [ -6.71,   8.9 ,  -7.46,  -7.9 ,   2.7 ,  -4.73, -11.03, -12.98,  -6.44,   3.64],\n",
       "       [ -2.44,  -6.4 ,  -2.4 ,  -9.04,  11.18,  -5.77,  -8.92,  -3.79,  -8.98,   5.28]])"
      ]
     },
     "execution_count": 63,
     "metadata": {},
     "output_type": "execute_result"
    }
   ],
   "source": [
    "t1 = np.zeros((ar, bc))\n",
    "for i in range(ar):\n",
    "    for k in range(bc): t1[i,k] = dot(np_m1[i,:], np_m2[:,k])\n",
    "t1"
   ]
  },
  {
   "cell_type": "code",
   "execution_count": 64,
   "id": "ac9ba206",
   "metadata": {},
   "outputs": [
    {
     "name": "stdout",
     "output_type": "stream",
     "text": [
      "CPU times: user 78 µs, sys: 0 ns, total: 78 µs\n",
      "Wall time: 79.9 µs\n"
     ]
    },
    {
     "data": {
      "text/plain": [
       "array([[-10.94,  -0.68,  -7.  ,  -4.01,  -2.09,  -3.36,   3.91,  -3.44, -11.47,  -2.12],\n",
       "       [ 14.54,   6.  ,   2.89,  -4.08,   6.59, -14.74,  -9.28,   2.16, -15.28,  -2.68],\n",
       "       [  2.22,  -3.22,  -4.8 ,  -6.05,  14.17,  -8.98,  -4.79,  -5.44, -20.68,  13.57],\n",
       "       [ -6.71,   8.9 ,  -7.46,  -7.9 ,   2.7 ,  -4.73, -11.03, -12.98,  -6.44,   3.64],\n",
       "       [ -2.44,  -6.4 ,  -2.4 ,  -9.04,  11.18,  -5.77,  -8.92,  -3.79,  -8.98,   5.28]])"
      ]
     },
     "execution_count": 64,
     "metadata": {},
     "output_type": "execute_result"
    }
   ],
   "source": [
    "def jit_matmul(m1, m2):\n",
    "    t1 = np.zeros((ar, bc))\n",
    "    for i in range(ar):\n",
    "        for k in range(bc): t1[i,k] = dot(m1[i,:], m2[:,k])\n",
    "    return t1\n",
    "\n",
    "%time jit_matmul(np_m1, np_m2)"
   ]
  },
  {
   "cell_type": "code",
   "execution_count": 65,
   "id": "86012a49",
   "metadata": {},
   "outputs": [],
   "source": [
    "t2 = jit_matmul(np_m1, np_m2)"
   ]
  },
  {
   "cell_type": "code",
   "execution_count": 66,
   "id": "7ef514ac",
   "metadata": {},
   "outputs": [
    {
     "data": {
      "text/plain": [
       "True"
      ]
     },
     "execution_count": 66,
     "metadata": {},
     "output_type": "execute_result"
    }
   ],
   "source": [
    "torch.allclose(torch.Tensor(t2), m1@m2)"
   ]
  },
  {
   "cell_type": "markdown",
   "id": "19476fdd",
   "metadata": {},
   "source": [
    "### Elementwise opts"
   ]
  },
  {
   "cell_type": "code",
   "execution_count": 67,
   "id": "0c300c93",
   "metadata": {},
   "outputs": [
    {
     "data": {
      "text/plain": [
       "tensor(-10.94)"
      ]
     },
     "execution_count": 67,
     "metadata": {},
     "output_type": "execute_result"
    }
   ],
   "source": [
    "sum(m1[0, :] * m2[:,0])"
   ]
  },
  {
   "cell_type": "code",
   "execution_count": 68,
   "id": "591f504a",
   "metadata": {},
   "outputs": [
    {
     "data": {
      "text/plain": [
       "array([[-10.94,  -0.68,  -7.  ,  -4.01,  -2.09,  -3.36,   3.91,  -3.44, -11.47,  -2.12],\n",
       "       [ 14.54,   6.  ,   2.89,  -4.08,   6.59, -14.74,  -9.28,   2.16, -15.28,  -2.68],\n",
       "       [  2.22,  -3.22,  -4.8 ,  -6.05,  14.17,  -8.98,  -4.79,  -5.44, -20.68,  13.57],\n",
       "       [ -6.71,   8.9 ,  -7.46,  -7.9 ,   2.7 ,  -4.73, -11.03, -12.98,  -6.44,   3.64],\n",
       "       [ -2.44,  -6.4 ,  -2.4 ,  -9.04,  11.18,  -5.77,  -8.92,  -3.79,  -8.98,   5.28]])"
      ]
     },
     "execution_count": 68,
     "metadata": {},
     "output_type": "execute_result"
    }
   ],
   "source": [
    "def matmul(m1, m2):\n",
    "    (ar, ac), (br, bc) = m1.shape, m2.shape\n",
    "    c = np.zeros((ar, bc))\n",
    "    for i in range(ar):\n",
    "        for k in range(bc): c[i,k] = (m1[i, :] * m2[:,k]).sum()\n",
    "    return c\n",
    "\n",
    "matmul(m1, m2)"
   ]
  },
  {
   "cell_type": "code",
   "execution_count": 69,
   "id": "b27dedc7",
   "metadata": {},
   "outputs": [
    {
     "name": "stdout",
     "output_type": "stream",
     "text": [
      "CPU times: user 9.67 ms, sys: 1.52 ms, total: 11.2 ms\n",
      "Wall time: 918 µs\n"
     ]
    }
   ],
   "source": [
    "%time _ = matmul(m1, m2)"
   ]
  },
  {
   "cell_type": "markdown",
   "id": "ee99a464",
   "metadata": {},
   "source": [
    "### Broadcasting"
   ]
  },
  {
   "cell_type": "code",
   "execution_count": 70,
   "id": "f7a446b9",
   "metadata": {},
   "outputs": [],
   "source": [
    "# learn how broadcasting work"
   ]
  },
  {
   "cell_type": "code",
   "execution_count": 71,
   "id": "1c17a902",
   "metadata": {},
   "outputs": [],
   "source": [
    "import torch\n",
    "\n",
    "scalar = torch.tensor(3)\n",
    "vector = torch.tensor([1, 2, 3])\n",
    "matrix = torch.tensor([[1, 2, 3], [4, 5, 6]])"
   ]
  },
  {
   "cell_type": "code",
   "execution_count": 72,
   "id": "974e9a55",
   "metadata": {},
   "outputs": [
    {
     "data": {
      "text/plain": [
       "tensor([4, 5, 6])"
      ]
     },
     "execution_count": 72,
     "metadata": {},
     "output_type": "execute_result"
    }
   ],
   "source": [
    "scalar + vector"
   ]
  },
  {
   "cell_type": "code",
   "execution_count": 73,
   "id": "6cd97e1c",
   "metadata": {},
   "outputs": [
    {
     "name": "stdout",
     "output_type": "stream",
     "text": [
      "torch.Size([3])\n"
     ]
    },
    {
     "data": {
      "text/plain": [
       "tensor([1, 2, 3])"
      ]
     },
     "execution_count": 73,
     "metadata": {},
     "output_type": "execute_result"
    }
   ],
   "source": [
    "print(vector.shape)\n",
    "vector"
   ]
  },
  {
   "cell_type": "code",
   "execution_count": 74,
   "id": "70620eae",
   "metadata": {},
   "outputs": [
    {
     "name": "stdout",
     "output_type": "stream",
     "text": [
      "torch.Size([2, 3])\n"
     ]
    },
    {
     "data": {
      "text/plain": [
       "tensor([[1, 2, 3],\n",
       "        [4, 5, 6]])"
      ]
     },
     "execution_count": 74,
     "metadata": {},
     "output_type": "execute_result"
    }
   ],
   "source": [
    "print(matrix.shape)\n",
    "matrix"
   ]
  },
  {
   "cell_type": "code",
   "execution_count": 75,
   "id": "92c4a2cd",
   "metadata": {},
   "outputs": [
    {
     "name": "stdout",
     "output_type": "stream",
     "text": [
      "torch.Size([2, 3])\n"
     ]
    },
    {
     "data": {
      "text/plain": [
       "tensor([[2, 4, 6],\n",
       "        [5, 7, 9]])"
      ]
     },
     "execution_count": 75,
     "metadata": {},
     "output_type": "execute_result"
    }
   ],
   "source": [
    "print((matrix + vector).shape)\n",
    "matrix + vector"
   ]
  },
  {
   "cell_type": "code",
   "execution_count": 76,
   "id": "7ba9e4cf",
   "metadata": {},
   "outputs": [
    {
     "data": {
      "text/plain": [
       "torch.Size([3, 2])"
      ]
     },
     "execution_count": 76,
     "metadata": {},
     "output_type": "execute_result"
    }
   ],
   "source": [
    "matrix.reshape(3,2).shape"
   ]
  },
  {
   "cell_type": "code",
   "execution_count": 77,
   "id": "ad4d4c3a",
   "metadata": {},
   "outputs": [],
   "source": [
    "# matrix.reshape(3,2) + vector\n",
    "# ---------------------------------------------------------------------------\n",
    "# RuntimeError                              Traceback (most recent call last)\n",
    "# Input In [77], in <cell line: 1>()\n",
    "# ----> 1 matrix.reshape(3,2) + vector\n",
    "\n",
    "# RuntimeError: The size of tensor a (2) must match the size of tensor b (3) at non-singleton dimension 1"
   ]
  },
  {
   "cell_type": "code",
   "execution_count": 78,
   "id": "9bf02a18",
   "metadata": {},
   "outputs": [
    {
     "data": {
      "text/plain": [
       "tensor([[2, 3],\n",
       "        [5, 6],\n",
       "        [8, 9]])"
      ]
     },
     "execution_count": 78,
     "metadata": {},
     "output_type": "execute_result"
    }
   ],
   "source": [
    "matrix.reshape(3,2) + vector.reshape(3,1)"
   ]
  },
  {
   "cell_type": "code",
   "execution_count": 79,
   "id": "2db8ec00",
   "metadata": {},
   "outputs": [
    {
     "data": {
      "text/plain": [
       "torch.Size([5, 3, 4, 1])"
      ]
     },
     "execution_count": 79,
     "metadata": {},
     "output_type": "execute_result"
    }
   ],
   "source": [
    "# (5,3,4,1) and (5,3,1,1) -> (5,3,4,1) one dim is 1\n",
    "(torch.randn((5,3,4,1)) + torch.randn((5,3,1,1))).shape"
   ]
  },
  {
   "cell_type": "code",
   "execution_count": 80,
   "id": "8e3a8378",
   "metadata": {},
   "outputs": [
    {
     "data": {
      "text/plain": [
       "torch.Size([5, 3, 4, 1])"
      ]
     },
     "execution_count": 80,
     "metadata": {},
     "output_type": "execute_result"
    }
   ],
   "source": [
    "# (5,3,4,1) and (  3,4,1) -> (5,3,4,1) - one dim doesn't exist\n",
    "(torch.randn((5,3,4,1)) + torch.randn((3,4,1))).shape"
   ]
  },
  {
   "cell_type": "code",
   "execution_count": 81,
   "id": "65147648",
   "metadata": {},
   "outputs": [
    {
     "data": {
      "text/plain": [
       "torch.Size([5, 3, 4, 1])"
      ]
     },
     "execution_count": 81,
     "metadata": {},
     "output_type": "execute_result"
    }
   ],
   "source": [
    "# (5,3,4,1) and (4,1) -> (5,3,4,1) - two dim doesn't exist\n",
    "(torch.randn((5,3,4,1)) + torch.randn((4,1))).shape"
   ]
  },
  {
   "cell_type": "code",
   "execution_count": 82,
   "id": "de9ac6a1",
   "metadata": {},
   "outputs": [
    {
     "data": {
      "text/plain": [
       "torch.Size([5, 3, 4, 1])"
      ]
     },
     "execution_count": 82,
     "metadata": {},
     "output_type": "execute_result"
    }
   ],
   "source": [
    "# (5,3,4,1) and (1) -> (5,3,4,1) - three dim doesn't exist\n",
    "(torch.randn((5,3,4,1)) + torch.randn((1))).shape"
   ]
  },
  {
   "cell_type": "code",
   "execution_count": 83,
   "id": "fc085ba0",
   "metadata": {},
   "outputs": [],
   "source": [
    "# broadcasting is apply inside out follow query rule. Like 5 vector (3) will create a metric (5,3).\n",
    "# 4 metric (5,3) will create (4,5,3) 3D metric."
   ]
  },
  {
   "cell_type": "code",
   "execution_count": 84,
   "id": "6cc20ed7",
   "metadata": {},
   "outputs": [
    {
     "data": {
      "text/plain": [
       "torch.Size([5, 3, 4, 1])"
      ]
     },
     "execution_count": 84,
     "metadata": {},
     "output_type": "execute_result"
    }
   ],
   "source": [
    "# (5,3,4,1) and (2,1) -> (5,3,4,1) - three dim doesn't exist\n",
    "(torch.randn((5, 3, 4, 1)) + torch.randn((1,1,4,1))).shape"
   ]
  },
  {
   "cell_type": "markdown",
   "id": "3e1f11a1",
   "metadata": {},
   "source": [
    "### Broadcasting matric multiplication"
   ]
  },
  {
   "cell_type": "code",
   "execution_count": 85,
   "id": "c2d015a9",
   "metadata": {},
   "outputs": [
    {
     "data": {
      "text/plain": [
       "torch.Size([5, 784])"
      ]
     },
     "execution_count": 85,
     "metadata": {},
     "output_type": "execute_result"
    }
   ],
   "source": [
    "m1.shape"
   ]
  },
  {
   "cell_type": "code",
   "execution_count": 86,
   "id": "bb5a417c",
   "metadata": {},
   "outputs": [
    {
     "data": {
      "text/plain": [
       "torch.Size([784, 10])"
      ]
     },
     "execution_count": 86,
     "metadata": {},
     "output_type": "execute_result"
    }
   ],
   "source": [
    "m2.shape"
   ]
  },
  {
   "cell_type": "code",
   "execution_count": 87,
   "id": "30263368",
   "metadata": {},
   "outputs": [
    {
     "data": {
      "text/plain": [
       "array([[-10.94,  -0.68,  -7.  ,  -4.01,  -2.09,  -3.36,   3.91,  -3.44, -11.47,  -2.12],\n",
       "       [ 14.54,   6.  ,   2.89,  -4.08,   6.59, -14.74,  -9.28,   2.16, -15.28,  -2.68],\n",
       "       [  2.22,  -3.22,  -4.8 ,  -6.05,  14.17,  -8.98,  -4.79,  -5.44, -20.68,  13.57],\n",
       "       [ -6.71,   8.9 ,  -7.46,  -7.9 ,   2.7 ,  -4.73, -11.03, -12.98,  -6.44,   3.64],\n",
       "       [ -2.44,  -6.4 ,  -2.4 ,  -9.04,  11.18,  -5.77,  -8.92,  -3.79,  -8.98,   5.28]])"
      ]
     },
     "execution_count": 87,
     "metadata": {},
     "output_type": "execute_result"
    }
   ],
   "source": [
    "(ar, ac), (br, bc) = m1.shape, m2.shape\n",
    "c = np.zeros((ar, bc))\n",
    "for i in range(bc): c[:, i] = (m1 * m2[:,i]).sum(1)\n",
    "c"
   ]
  },
  {
   "cell_type": "code",
   "execution_count": 88,
   "id": "3a8baaa2",
   "metadata": {},
   "outputs": [
    {
     "name": "stdout",
     "output_type": "stream",
     "text": [
      "CPU times: user 2.59 s, sys: 1.23 s, total: 3.81 s\n",
      "Wall time: 318 ms\n"
     ]
    },
    {
     "data": {
      "text/plain": [
       "tensor([[  0.96,  -2.96,  -2.11,  ..., -15.09, -17.69,   0.60],\n",
       "        [  6.89,  -0.34,   0.79,  ..., -17.13, -25.36,  16.23],\n",
       "        [-10.18,   7.38,   4.13,  ...,  -6.73,  -6.79,  -1.58],\n",
       "        ...,\n",
       "        [  7.40,   7.64,  -3.50,  ...,  -1.02, -16.22,   2.07],\n",
       "        [  3.25,   9.52,  -9.37,  ...,   2.98, -19.58,  -1.96],\n",
       "        [ 15.70,   4.12,  -5.62,  ...,   8.08, -12.21,   0.42]])"
      ]
     },
     "execution_count": 88,
     "metadata": {},
     "output_type": "execute_result"
    }
   ],
   "source": [
    "def matmul(m1, m2):\n",
    "    (ar, ac), (br, bc) = m1.shape, m2.shape\n",
    "    c = torch.zeros((ar, bc))\n",
    "    for i in range(bc): c[:, i] = (m1 * m2[:,i]).sum(1)\n",
    "    return c\n",
    "\n",
    "torch.allclose(matmul(m1, m2), m1@m2)\n",
    "\n",
    "%time matmul(x_train, weight)"
   ]
  },
  {
   "cell_type": "code",
   "execution_count": 89,
   "id": "1983bcb6",
   "metadata": {},
   "outputs": [],
   "source": [
    "### Einstein"
   ]
  },
  {
   "cell_type": "code",
   "execution_count": 90,
   "id": "93dca073",
   "metadata": {},
   "outputs": [],
   "source": [
    "from torch import einsum\n",
    "# simple way to apply einstein notion in python"
   ]
  },
  {
   "cell_type": "code",
   "execution_count": 91,
   "id": "96d53166",
   "metadata": {},
   "outputs": [
    {
     "data": {
      "text/plain": [
       "tensor([[-10.94,  -0.68,  -7.00,  -4.01,  -2.09,  -3.36,   3.91,  -3.44, -11.47,  -2.12],\n",
       "        [ 14.54,   6.00,   2.89,  -4.08,   6.59, -14.74,  -9.28,   2.16, -15.28,  -2.68],\n",
       "        [  2.22,  -3.22,  -4.80,  -6.05,  14.17,  -8.98,  -4.79,  -5.44, -20.68,  13.57],\n",
       "        [ -6.71,   8.90,  -7.46,  -7.90,   2.70,  -4.73, -11.03, -12.98,  -6.44,   3.64],\n",
       "        [ -2.44,  -6.40,  -2.40,  -9.04,  11.18,  -5.77,  -8.92,  -3.79,  -8.98,   5.28]])"
      ]
     },
     "execution_count": 91,
     "metadata": {},
     "output_type": "execute_result"
    }
   ],
   "source": [
    "import torch\n",
    "\n",
    "c = torch.einsum('ij,jk->ik', m1, m2)\n",
    "c"
   ]
  },
  {
   "cell_type": "code",
   "execution_count": 92,
   "id": "addfebb3",
   "metadata": {},
   "outputs": [
    {
     "name": "stdout",
     "output_type": "stream",
     "text": [
      "CPU times: user 311 ms, sys: 9.68 ms, total: 321 ms\n",
      "Wall time: 26.7 ms\n"
     ]
    },
    {
     "data": {
      "text/plain": [
       "tensor([[  0.96,  -2.96,  -2.11,  ..., -15.09, -17.69,   0.60],\n",
       "        [  6.89,  -0.34,   0.79,  ..., -17.13, -25.36,  16.23],\n",
       "        [-10.18,   7.38,   4.13,  ...,  -6.73,  -6.79,  -1.58],\n",
       "        ...,\n",
       "        [  7.40,   7.64,  -3.50,  ...,  -1.02, -16.22,   2.07],\n",
       "        [  3.25,   9.52,  -9.37,  ...,   2.98, -19.58,  -1.96],\n",
       "        [ 15.70,   4.12,  -5.62,  ...,   8.08, -12.21,   0.42]])"
      ]
     },
     "execution_count": 92,
     "metadata": {},
     "output_type": "execute_result"
    }
   ],
   "source": [
    "%time torch.einsum('ij,jk->ik', x_train, weight)"
   ]
  },
  {
   "cell_type": "markdown",
   "id": "c8caafd5",
   "metadata": {},
   "source": [
    "## pytorch op"
   ]
  },
  {
   "cell_type": "code",
   "execution_count": 95,
   "id": "d9ffd9fe",
   "metadata": {},
   "outputs": [
    {
     "name": "stdout",
     "output_type": "stream",
     "text": [
      "CPU times: user 458 ms, sys: 9.59 ms, total: 467 ms\n",
      "Wall time: 39 ms\n"
     ]
    }
   ],
   "source": [
    "%time _=torch.matmul(x_train, weight)"
   ]
  },
  {
   "cell_type": "code",
   "execution_count": 96,
   "id": "e6b9791b",
   "metadata": {},
   "outputs": [
    {
     "name": "stdout",
     "output_type": "stream",
     "text": [
      "CPU times: user 441 ms, sys: 9.99 ms, total: 451 ms\n",
      "Wall time: 37.5 ms\n"
     ]
    }
   ],
   "source": [
    "%time _=x_train@weight"
   ]
  },
  {
   "cell_type": "markdown",
   "id": "f1f388ce",
   "metadata": {},
   "source": [
    "## cuda"
   ]
  },
  {
   "cell_type": "code",
   "execution_count": 108,
   "id": "526f1e2c",
   "metadata": {},
   "outputs": [
    {
     "name": "stdout",
     "output_type": "stream",
     "text": [
      "Using device: cuda\n"
     ]
    }
   ],
   "source": [
    "# pytorch\n",
    "import torch\n",
    "device = torch.device('cuda' if torch.cuda.is_available() else 'cpu')\n",
    "print('Using device:', device)"
   ]
  },
  {
   "cell_type": "code",
   "execution_count": 111,
   "id": "1848a51a",
   "metadata": {},
   "outputs": [],
   "source": [
    "cuda_x =  x_train.to(device)\n",
    "cuda_weight = weight.to(device)"
   ]
  },
  {
   "cell_type": "code",
   "execution_count": 122,
   "id": "37d3a13b",
   "metadata": {},
   "outputs": [
    {
     "name": "stdout",
     "output_type": "stream",
     "text": [
      "CPU times: user 556 µs, sys: 0 ns, total: 556 µs\n",
      "Wall time: 361 µs\n"
     ]
    }
   ],
   "source": [
    "%time _=cuda_x@cuda_weight"
   ]
  },
  {
   "cell_type": "code",
   "execution_count": 123,
   "id": "875d69c2",
   "metadata": {},
   "outputs": [],
   "source": [
    "# [TODO: numba cuda jit]"
   ]
  },
  {
   "cell_type": "code",
   "execution_count": null,
   "id": "90934bca",
   "metadata": {},
   "outputs": [],
   "source": []
  }
 ],
 "metadata": {
  "kernelspec": {
   "display_name": "Python 3 (ipykernel)",
   "language": "python",
   "name": "python3"
  },
  "language_info": {
   "codemirror_mode": {
    "name": "ipython",
    "version": 3
   },
   "file_extension": ".py",
   "mimetype": "text/x-python",
   "name": "python",
   "nbconvert_exporter": "python",
   "pygments_lexer": "ipython3",
   "version": "3.8.12"
  }
 },
 "nbformat": 4,
 "nbformat_minor": 5
}
