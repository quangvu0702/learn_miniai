{
 "cells": [
  {
   "cell_type": "code",
   "execution_count": 1,
   "id": "b5998fbf",
   "metadata": {},
   "outputs": [],
   "source": [
    "#|default_exp training"
   ]
  },
  {
   "cell_type": "code",
   "execution_count": 2,
   "id": "c6622c9a",
   "metadata": {},
   "outputs": [],
   "source": [
    "#|export\n",
    "import gzip, pickle\n",
    "from pathlib import Path\n",
    "from urllib.request import urlretrieve\n",
    "import torch\n",
    "from torch.utils.data import DataLoader, default_collate\n",
    "from torch import tensor"
   ]
  },
  {
   "cell_type": "code",
   "execution_count": 3,
   "id": "af310b68",
   "metadata": {},
   "outputs": [
    {
     "data": {
      "text/plain": [
       "(torch.Size([50000, 784]), torch.Size([50000]))"
      ]
     },
     "execution_count": 3,
     "metadata": {},
     "output_type": "execute_result"
    }
   ],
   "source": [
    "# load data\n",
    "data_path = Path('/home/admin/projects/learn_miniai/nbs/data')\n",
    "data_path.mkdir(parents=True, exist_ok=True)\n",
    "MNIST_URL='https://github.com/mnielsen/neural-networks-and-deep-learning/blob/master/data/mnist.pkl.gz?raw=true'\n",
    "data_fn = data_path/'mnist.pkl.gz'\n",
    "\n",
    "if not data_fn.exists(): urlretrieve(MNIST_URL, data_fn)\n",
    "\n",
    "with gzip.open(data_fn) as f:\n",
    "    (x_train, y_train), (x_val, y_val), _ = pickle.load(f, encoding='latin')\n",
    "\n",
    "x_train, y_train, x_val, y_val = map(tensor, (x_train, y_train, x_val, y_val,))\n",
    "x_train.shape, y_train.shape"
   ]
  },
  {
   "cell_type": "markdown",
   "id": "8f3c0f48",
   "metadata": {},
   "source": [
    "### inital setup"
   ]
  },
  {
   "cell_type": "code",
   "execution_count": 4,
   "id": "a8537c84",
   "metadata": {},
   "outputs": [],
   "source": [
    "from torch import nn, tensor"
   ]
  },
  {
   "cell_type": "code",
   "execution_count": 5,
   "id": "770fdda6",
   "metadata": {},
   "outputs": [
    {
     "name": "stdout",
     "output_type": "stream",
     "text": [
      "50000 784 50 tensor(10)\n"
     ]
    }
   ],
   "source": [
    "n, m = x_train.shape\n",
    "c = y_train.max() - y_train.min() + 1\n",
    "nh = 50\n",
    "print(n,m,nh, c,)"
   ]
  },
  {
   "cell_type": "code",
   "execution_count": 6,
   "id": "4087aa34",
   "metadata": {},
   "outputs": [
    {
     "data": {
      "text/plain": [
       "torch.Size([50000, 10])"
      ]
     },
     "execution_count": 6,
     "metadata": {},
     "output_type": "execute_result"
    }
   ],
   "source": [
    "class Model(nn.Module):\n",
    "    def __init__(self, n_int, nh, n_out):\n",
    "        super().__init__()\n",
    "        self.layers = nn.Sequential(nn.Linear(n_int, nh), nn.ReLU(), nn.Linear(nh, n_out))\n",
    "\n",
    "    def forward(self, x):\n",
    "        return self.layers(x)\n",
    "    \n",
    "model = Model(m, nh, c)\n",
    "out = model(x_train)\n",
    "out.shape"
   ]
  },
  {
   "cell_type": "markdown",
   "id": "28be2f86",
   "metadata": {},
   "source": [
    "### Cross entropy loss"
   ]
  },
  {
   "cell_type": "code",
   "execution_count": 7,
   "id": "65711a20",
   "metadata": {},
   "outputs": [],
   "source": [
    "import torch\n",
    "from functools import partial\n",
    "from matplotlib import pyplot as plt\n",
    "\n",
    "torch.set_printoptions(precision=2, linewidth=200)"
   ]
  },
  {
   "cell_type": "code",
   "execution_count": 8,
   "id": "9e6eba4c",
   "metadata": {},
   "outputs": [
    {
     "data": {
      "text/plain": [
       "tensor([[ 0.17,  0.04,  0.01,  0.01, -0.07,  0.00,  0.13,  0.04,  0.08, -0.02],\n",
       "        [-0.03,  0.06,  0.13,  0.01, -0.07,  0.09,  0.05,  0.04, -0.05,  0.05],\n",
       "        [ 0.07,  0.02,  0.11, -0.01, -0.04, -0.02,  0.05, -0.03,  0.18,  0.10]], grad_fn=<SliceBackward0>)"
      ]
     },
     "execution_count": 8,
     "metadata": {},
     "output_type": "execute_result"
    }
   ],
   "source": [
    "# soft_max\n",
    "out = out[0:3]\n",
    "out"
   ]
  },
  {
   "cell_type": "code",
   "execution_count": 9,
   "id": "aed37a46",
   "metadata": {},
   "outputs": [],
   "source": [
    "def softmax(out): return out.exp() / out.exp().sum(1, keepdim=True)"
   ]
  },
  {
   "cell_type": "code",
   "execution_count": 10,
   "id": "4c722c2a",
   "metadata": {},
   "outputs": [],
   "source": [
    "def plot_func(f, min=0, max=10):\n",
    "    x = torch.linspace(min, max, 1000)\n",
    "    y = f(x)\n",
    "    plt.figure(figsize=(4, 3))\n",
    "    plt.plot(x, y)\n",
    "    plt.show()"
   ]
  },
  {
   "cell_type": "code",
   "execution_count": 11,
   "id": "16a251e0",
   "metadata": {
    "scrolled": true
   },
   "outputs": [
    {
     "data": {
      "image/png": "[encoded data removed]",
      "text/plain": [
       "<Figure size 400x300 with 1 Axes>"
      ]
     },
     "metadata": {},
     "output_type": "display_data"
    },
    {
     "data": {
      "image/png": "[encoded data removed]",
      "text/plain": [
       "<Figure size 400x300 with 1 Axes>"
      ]
     },
     "metadata": {},
     "output_type": "display_data"
    }
   ],
   "source": [
    "import math\n",
    "\n",
    "plot_func(torch.log, max=1)\n",
    "plot_func(lambda x: -torch.log(x), max=1)"
   ]
  },
  {
   "cell_type": "code",
   "execution_count": 12,
   "id": "c5455659",
   "metadata": {},
   "outputs": [],
   "source": [
    "log_prob = softmax(out).log()"
   ]
  },
  {
   "cell_type": "code",
   "execution_count": 13,
   "id": "ba787672",
   "metadata": {},
   "outputs": [
    {
     "data": {
      "text/plain": [
       "tensor([[-2.17, -2.30, -2.34, -2.34, -2.42, -2.34, -2.21, -2.31, -2.27, -2.36],\n",
       "        [-2.36, -2.27, -2.20, -2.32, -2.40, -2.24, -2.29, -2.29, -2.38, -2.28],\n",
       "        [-2.28, -2.33, -2.23, -2.36, -2.38, -2.37, -2.29, -2.38, -2.17, -2.25]], grad_fn=<LogBackward0>)"
      ]
     },
     "execution_count": 13,
     "metadata": {},
     "output_type": "execute_result"
    }
   ],
   "source": [
    "log_prob"
   ]
  },
  {
   "cell_type": "code",
   "execution_count": 14,
   "id": "00c55e33",
   "metadata": {},
   "outputs": [
    {
     "data": {
      "text/plain": [
       "tensor([[-2.17, -2.30, -2.34, -2.34, -2.42, -2.34, -2.21, -2.31, -2.27, -2.36],\n",
       "        [-2.36, -2.27, -2.20, -2.32, -2.40, -2.24, -2.29, -2.29, -2.38, -2.28],\n",
       "        [-2.28, -2.33, -2.23, -2.36, -2.38, -2.37, -2.29, -2.38, -2.17, -2.25]], grad_fn=<SubBackward0>)"
      ]
     },
     "execution_count": 14,
     "metadata": {},
     "output_type": "execute_result"
    }
   ],
   "source": [
    "out - out.exp().sum(1, keepdim=True).log()"
   ]
  },
  {
   "cell_type": "code",
   "execution_count": 15,
   "id": "166642bf",
   "metadata": {},
   "outputs": [
    {
     "data": {
      "text/plain": [
       "True"
      ]
     },
     "execution_count": 15,
     "metadata": {},
     "output_type": "execute_result"
    }
   ],
   "source": [
    "def log_softmax(out): return out - out.exp().sum(1, keepdim=True).log()\n",
    "torch.allclose(log_softmax(out), log_prob)"
   ]
  },
  {
   "cell_type": "code",
   "execution_count": 16,
   "id": "2c7950a1",
   "metadata": {},
   "outputs": [
    {
     "data": {
      "text/plain": [
       "tensor([5, 0, 4])"
      ]
     },
     "execution_count": 16,
     "metadata": {},
     "output_type": "execute_result"
    }
   ],
   "source": [
    "y_train[0:3]"
   ]
  },
  {
   "cell_type": "code",
   "execution_count": 17,
   "id": "7d731aee",
   "metadata": {},
   "outputs": [
    {
     "name": "stdout",
     "output_type": "stream",
     "text": [
      "torch.Size([3, 10])\n"
     ]
    },
    {
     "data": {
      "text/plain": [
       "tensor([[-2.17, -2.30, -2.34, -2.34, -2.42, -2.34, -2.21, -2.31, -2.27, -2.36],\n",
       "        [-2.36, -2.27, -2.20, -2.32, -2.40, -2.24, -2.29, -2.29, -2.38, -2.28],\n",
       "        [-2.28, -2.33, -2.23, -2.36, -2.38, -2.37, -2.29, -2.38, -2.17, -2.25]], grad_fn=<LogBackward0>)"
      ]
     },
     "execution_count": 17,
     "metadata": {},
     "output_type": "execute_result"
    }
   ],
   "source": [
    "print(log_prob.shape)\n",
    "log_prob"
   ]
  },
  {
   "cell_type": "code",
   "execution_count": 18,
   "id": "9eb439e9",
   "metadata": {},
   "outputs": [
    {
     "data": {
      "text/plain": [
       "tensor([5, 0, 4])"
      ]
     },
     "execution_count": 18,
     "metadata": {},
     "output_type": "execute_result"
    }
   ],
   "source": [
    "y_train[0:3]"
   ]
  },
  {
   "cell_type": "code",
   "execution_count": 19,
   "id": "2102daaa",
   "metadata": {},
   "outputs": [
    {
     "data": {
      "text/plain": [
       "(tensor(-2.34, grad_fn=<SelectBackward0>),\n",
       " tensor(-2.36, grad_fn=<SelectBackward0>),\n",
       " tensor(-2.38, grad_fn=<SelectBackward0>))"
      ]
     },
     "execution_count": 19,
     "metadata": {},
     "output_type": "execute_result"
    }
   ],
   "source": [
    "log_prob[0, 5], log_prob[1, 0], log_prob[2, 4]"
   ]
  },
  {
   "cell_type": "code",
   "execution_count": 20,
   "id": "2d6f7358",
   "metadata": {},
   "outputs": [
    {
     "data": {
      "text/plain": [
       "torch.Size([3, 1])"
      ]
     },
     "execution_count": 20,
     "metadata": {},
     "output_type": "execute_result"
    }
   ],
   "source": [
    "y_train[0:3].unsqueeze(1).shape"
   ]
  },
  {
   "cell_type": "code",
   "execution_count": 21,
   "id": "915d1ee2",
   "metadata": {},
   "outputs": [
    {
     "data": {
      "text/plain": [
       "tensor([[-2.34],\n",
       "        [-2.36],\n",
       "        [-2.38]], grad_fn=<GatherBackward0>)"
      ]
     },
     "execution_count": 21,
     "metadata": {},
     "output_type": "execute_result"
    }
   ],
   "source": [
    "log_prob.gather(1, y_train[0:3].unsqueeze(1))"
   ]
  },
  {
   "cell_type": "code",
   "execution_count": 22,
   "id": "eae64d9a",
   "metadata": {},
   "outputs": [
    {
     "data": {
      "text/plain": [
       "tensor(2.36, grad_fn=<NegBackward0>)"
      ]
     },
     "execution_count": 22,
     "metadata": {},
     "output_type": "execute_result"
    }
   ],
   "source": [
    "def cross_entropy_loss(out, y):\n",
    "    log_prob = log_softmax(out)\n",
    "    loss = -log_prob.gather(1, y.unsqueeze(1)).mean()\n",
    "    return loss\n",
    "\n",
    "loss = cross_entropy_loss(out, y_train[0:3]); loss"
   ]
  },
  {
   "cell_type": "code",
   "execution_count": 23,
   "id": "0ce99af6",
   "metadata": {},
   "outputs": [
    {
     "data": {
      "text/plain": [
       "tensor(-2.30)"
      ]
     },
     "execution_count": 23,
     "metadata": {},
     "output_type": "execute_result"
    }
   ],
   "source": [
    "tensor(1/10).log()"
   ]
  },
  {
   "cell_type": "code",
   "execution_count": 24,
   "id": "d0f997f7",
   "metadata": {},
   "outputs": [
    {
     "data": {
      "text/plain": [
       "tensor(False)"
      ]
     },
     "execution_count": 24,
     "metadata": {},
     "output_type": "execute_result"
    }
   ],
   "source": [
    "import torch.nn.functional as F\n",
    "F.cross_entropy(out, y_train[0:3]) == loss"
   ]
  },
  {
   "cell_type": "markdown",
   "id": "2d40d9a6",
   "metadata": {},
   "source": [
    "### Basic train loop"
   ]
  },
  {
   "cell_type": "markdown",
   "id": "00f90e38",
   "metadata": {},
   "source": [
    "Basically the training loop repeats over the following steps:\n",
    "- get the output of the model on a batch of inputs\n",
    "- compare the output to the labels we have and compute a loss\n",
    "- calculate the gradients of the loss with respect to every parameter of the model\n",
    "- update said parameters with those gradients to make them a little bit better"
   ]
  },
  {
   "cell_type": "code",
   "execution_count": 25,
   "id": "0891f9f3",
   "metadata": {},
   "outputs": [],
   "source": [
    "loss_func = F.cross_entropy"
   ]
  },
  {
   "cell_type": "code",
   "execution_count": 26,
   "id": "21fc28a2",
   "metadata": {},
   "outputs": [
    {
     "name": "stdout",
     "output_type": "stream",
     "text": [
      "torch.Size([50, 784])\n",
      "torch.Size([50])\n"
     ]
    },
    {
     "data": {
      "text/plain": [
       "tensor(2.33, grad_fn=<NllLossBackward0>)"
      ]
     },
     "execution_count": 26,
     "metadata": {},
     "output_type": "execute_result"
    }
   ],
   "source": [
    "epoch = 3\n",
    "bs = 50\n",
    "lr = 0.1\n",
    "xb = x_train[0:bs]; print(xb.shape)\n",
    "yb = y_train[0:bs]; print(yb.shape)\n",
    "pred = model(xb)\n",
    "loss = loss_func(pred, yb); loss"
   ]
  },
  {
   "cell_type": "code",
   "execution_count": 27,
   "id": "33cb55ed",
   "metadata": {},
   "outputs": [
    {
     "data": {
      "text/plain": [
       "tensor(0.04)"
      ]
     },
     "execution_count": 27,
     "metadata": {},
     "output_type": "execute_result"
    }
   ],
   "source": [
    "(pred.argmax(1) == yb).float().mean()"
   ]
  },
  {
   "cell_type": "code",
   "execution_count": 28,
   "id": "a373fc46",
   "metadata": {},
   "outputs": [],
   "source": [
    "#|export\n",
    "def accuracy(pred, yb): return (pred.argmax(1) == yb).float().mean()"
   ]
  },
  {
   "cell_type": "code",
   "execution_count": 29,
   "id": "65963183",
   "metadata": {},
   "outputs": [],
   "source": [
    "#|export\n",
    "def report(loss, pred, yb): print(f\"Loss {loss:.2f} and accuracy: {accuracy(pred, yb):.1%}\")"
   ]
  },
  {
   "cell_type": "code",
   "execution_count": 30,
   "id": "58da0442",
   "metadata": {},
   "outputs": [
    {
     "name": "stdout",
     "output_type": "stream",
     "text": [
      "Loss 2.33 and accuracy: 4.0%\n"
     ]
    }
   ],
   "source": [
    "report(loss, pred, yb)"
   ]
  },
  {
   "cell_type": "code",
   "execution_count": 31,
   "id": "98c2d965",
   "metadata": {},
   "outputs": [],
   "source": [
    "loss.backward()"
   ]
  },
  {
   "cell_type": "code",
   "execution_count": 32,
   "id": "a593a217",
   "metadata": {},
   "outputs": [
    {
     "name": "stdout",
     "output_type": "stream",
     "text": [
      "torch.Size([50, 784])\n",
      "torch.Size([50, 784])\n",
      "torch.Size([50])\n",
      "torch.Size([50])\n",
      "torch.Size([10, 50])\n",
      "torch.Size([10, 50])\n",
      "torch.Size([10])\n",
      "torch.Size([10])\n"
     ]
    }
   ],
   "source": [
    "for p in model.layers.parameters():\n",
    "    print(p.shape)\n",
    "    print(p.grad.shape)"
   ]
  },
  {
   "cell_type": "code",
   "execution_count": 33,
   "id": "ca8da0b3",
   "metadata": {},
   "outputs": [],
   "source": [
    "for p in model.layers.parameters():\n",
    "    p.data -= lr * p.grad"
   ]
  },
  {
   "cell_type": "code",
   "execution_count": 34,
   "id": "833d9986",
   "metadata": {},
   "outputs": [
    {
     "name": "stdout",
     "output_type": "stream",
     "text": [
      "Loss 2.30 and accuracy: 8.0%\n"
     ]
    }
   ],
   "source": [
    "pred = model(xb)\n",
    "loss = loss_func(pred, yb); loss\n",
    "report(loss, pred, yb)"
   ]
  },
  {
   "cell_type": "code",
   "execution_count": 35,
   "id": "baf119c3",
   "metadata": {},
   "outputs": [],
   "source": [
    "def zero():\n",
    "    for p in model.layers.parameters():\n",
    "        p.grad = None\n",
    "\n",
    "zero()"
   ]
  },
  {
   "cell_type": "code",
   "execution_count": 36,
   "id": "e092fe8c",
   "metadata": {},
   "outputs": [],
   "source": [
    "i = slice(1, 30)"
   ]
  },
  {
   "cell_type": "code",
   "execution_count": 37,
   "id": "5170d66d",
   "metadata": {},
   "outputs": [
    {
     "name": "stdout",
     "output_type": "stream",
     "text": [
      "Loss 0.23 and accuracy: 92.0%\n",
      "Loss 0.15 and accuracy: 94.0%\n",
      "Loss 0.11 and accuracy: 94.0%\n"
     ]
    }
   ],
   "source": [
    "for _ in range(epoch):\n",
    "    for i in range(0, n, bs):\n",
    "        ib = slice(i, min(i + bs, n))\n",
    "        xb, yb = x_train[ib], y_train[ib]\n",
    "        pred = model(xb)\n",
    "        loss = loss_func(pred, yb)\n",
    "        loss.backward()\n",
    "        with torch.no_grad():\n",
    "            for p in model.layers.parameters():\n",
    "                p.data -= lr * p.grad\n",
    "                p.grad.zero_()\n",
    "    report(loss, pred, yb)"
   ]
  },
  {
   "cell_type": "markdown",
   "id": "96eff8d4",
   "metadata": {},
   "source": [
    "### Optim"
   ]
  },
  {
   "cell_type": "code",
   "execution_count": 38,
   "id": "5caa3a28",
   "metadata": {},
   "outputs": [
    {
     "name": "stdout",
     "output_type": "stream",
     "text": [
      "Loss 0.23 and accuracy: 92.0%\n",
      "Loss 0.14 and accuracy: 94.0%\n",
      "Loss 0.11 and accuracy: 96.0%\n"
     ]
    }
   ],
   "source": [
    "class Optim():\n",
    "    def __init__(self, parameters):\n",
    "        self.parameters = list(parameters)\n",
    "        \n",
    "    def step(self):\n",
    "        with torch.no_grad():\n",
    "            for p in self.parameters: p.data -= lr * p.grad\n",
    "            \n",
    "    def zero_grad(self):\n",
    "        with torch.no_grad():\n",
    "            for p in self.parameters: p.grad.zero_()\n",
    "\n",
    "model = Model(m, nh, c)\n",
    "optim = Optim(model.layers.parameters())\n",
    "\n",
    "for _ in range(epoch):\n",
    "    for i in range(0, n, bs):\n",
    "        ib = slice(i, min(i + bs, n))\n",
    "        xb, yb = x_train[ib], y_train[ib]\n",
    "        pred = model(xb)\n",
    "        loss = loss_func(pred, yb)\n",
    "        loss.backward()\n",
    "        optim.step()\n",
    "        optim.zero_grad()\n",
    "    report(loss, pred, yb)"
   ]
  },
  {
   "cell_type": "code",
   "execution_count": 39,
   "id": "eb66ce83",
   "metadata": {},
   "outputs": [],
   "source": [
    "from torch.optim import SGD"
   ]
  },
  {
   "cell_type": "code",
   "execution_count": 40,
   "id": "2f2a709f",
   "metadata": {},
   "outputs": [
    {
     "name": "stdout",
     "output_type": "stream",
     "text": [
      "Loss 0.21 and accuracy: 92.0%\n",
      "Loss 0.14 and accuracy: 94.0%\n",
      "Loss 0.10 and accuracy: 94.0%\n"
     ]
    }
   ],
   "source": [
    "def get_model():\n",
    "    model = Model(m, nh, c)\n",
    "    optim = SGD(model.parameters(), lr=lr)\n",
    "    return model, optim\n",
    "\n",
    "model, optim = get_model()\n",
    "\n",
    "for _ in range(epoch):\n",
    "    for i in range(0, n, bs):\n",
    "        ib = slice(i, min(i + bs, n))\n",
    "        xb, yb = x_train[ib], y_train[ib]\n",
    "        pred = model(xb)\n",
    "        loss = loss_func(pred, yb)\n",
    "        loss.backward()\n",
    "        optim.step()\n",
    "        optim.zero_grad()\n",
    "    report(loss, pred, yb)"
   ]
  },
  {
   "cell_type": "code",
   "execution_count": 41,
   "id": "13e4d023",
   "metadata": {},
   "outputs": [],
   "source": [
    "# Dateset and DataLoader"
   ]
  },
  {
   "cell_type": "code",
   "execution_count": 42,
   "id": "bb46efc7",
   "metadata": {},
   "outputs": [],
   "source": [
    "#|export\n",
    "class Dataset():\n",
    "    def __init__(self, x, y): self.x, self.y = x, y\n",
    "    def __len__(self): return len(self.x)\n",
    "    def __getitem__(self, i): return self.x[i], self.y[i]"
   ]
  },
  {
   "cell_type": "code",
   "execution_count": 43,
   "id": "91eb5baa",
   "metadata": {},
   "outputs": [
    {
     "data": {
      "text/plain": [
       "(torch.Size([784]), tensor(5))"
      ]
     },
     "execution_count": 43,
     "metadata": {},
     "output_type": "execute_result"
    }
   ],
   "source": [
    "ds_train = Dataset(x_train, y_train)\n",
    "\n",
    "len(ds_train)\n",
    "x, y = ds_train[0]\n",
    "x.shape, y"
   ]
  },
  {
   "cell_type": "code",
   "execution_count": 44,
   "id": "bd2dcd5a",
   "metadata": {},
   "outputs": [
    {
     "data": {
      "text/plain": [
       "(tensor([[0., 0., 0.,  ..., 0., 0., 0.],\n",
       "         [0., 0., 0.,  ..., 0., 0., 0.],\n",
       "         [0., 0., 0.,  ..., 0., 0., 0.],\n",
       "         ...,\n",
       "         [0., 0., 0.,  ..., 0., 0., 0.],\n",
       "         [0., 0., 0.,  ..., 0., 0., 0.],\n",
       "         [0., 0., 0.,  ..., 0., 0., 0.]]),\n",
       " tensor([5, 0, 4, 1, 9, 2, 1, 3, 1, 4, 3, 5, 3, 6, 1, 7, 2, 8, 6, 9, 4, 0, 9, 1, 1, 2, 4, 3, 2, 7, 3, 8, 6, 9, 0, 5, 6, 0, 7, 6, 1, 8, 7, 9, 3, 9, 8, 5, 9, 3]))"
      ]
     },
     "execution_count": 44,
     "metadata": {},
     "output_type": "execute_result"
    }
   ],
   "source": [
    "class DataLoader():\n",
    "    def __init__(self, ds, bs): self.ds, self.bs = ds, bs\n",
    "    def __iter__(self):\n",
    "        for i in range(0, len(self.ds), self.bs): yield self.ds[i:i + self.bs]\n",
    "\n",
    "dl_train = DataLoader(ds_train, bs)\n",
    "\n",
    "next(iter(dl_train))"
   ]
  },
  {
   "cell_type": "code",
   "execution_count": 45,
   "id": "cbfea84f",
   "metadata": {},
   "outputs": [
    {
     "name": "stdout",
     "output_type": "stream",
     "text": [
      "Loss 0.22 and accuracy: 92.0%\n",
      "Loss 0.13 and accuracy: 98.0%\n",
      "Loss 0.08 and accuracy: 98.0%\n"
     ]
    }
   ],
   "source": [
    "model, optim = get_model()\n",
    "def fit(epoch):\n",
    "    for _ in range(epoch):\n",
    "        for xb, yb in dl_train:\n",
    "            pred = model(xb)\n",
    "            loss = loss_func(pred, yb)\n",
    "            loss.backward()\n",
    "            optim.step()\n",
    "            optim.zero_grad()\n",
    "        report(loss, pred, yb)\n",
    "        \n",
    "fit(epoch)"
   ]
  },
  {
   "cell_type": "markdown",
   "id": "784a749b",
   "metadata": {},
   "source": [
    "### Random sampling"
   ]
  },
  {
   "cell_type": "code",
   "execution_count": 46,
   "id": "ec25d5ac",
   "metadata": {},
   "outputs": [
    {
     "name": "stdout",
     "output_type": "stream",
     "text": [
      "[0, 1, 2]\n"
     ]
    }
   ],
   "source": [
    "import random\n",
    "from itertools import islice\n",
    "class Sample():\n",
    "    def __init__(self, x, shuffle=False):\n",
    "        self.n, self.shuffle = len(x), shuffle\n",
    "    def __iter__(self):\n",
    "        idxs = list(range(self.n))\n",
    "        if self.shuffle == True: random.shuffle(idxs)\n",
    "        return iter(idxs)\n",
    "    \n",
    "sample = Sample(x_train); print(list(islice(sample, 3)))\n",
    "# sample = Sample(x_train, shuffle=True); print(list(islice(sample, 3)))"
   ]
  },
  {
   "cell_type": "code",
   "execution_count": 47,
   "id": "bd687249",
   "metadata": {},
   "outputs": [],
   "source": [
    "bs = 4\n",
    "sample = iter(sample)\n",
    "get_batch = lambda: list(islice(sample, bs))"
   ]
  },
  {
   "cell_type": "code",
   "execution_count": 48,
   "id": "5fe923a3",
   "metadata": {},
   "outputs": [
    {
     "name": "stdout",
     "output_type": "stream",
     "text": [
      "[0, 1, 2, 3]\n",
      "[4, 5, 6, 7]\n",
      "[8, 9, 10, 11]\n",
      "[12, 13, 14, 15]\n"
     ]
    }
   ],
   "source": [
    "for i in range(4): print(get_batch())"
   ]
  },
  {
   "cell_type": "code",
   "execution_count": 49,
   "id": "8d7d0dea",
   "metadata": {},
   "outputs": [],
   "source": [
    "bs = 4\n",
    "\n",
    "class BatchSample():\n",
    "    def __init__(self, x, bs, shuffle=False):\n",
    "        self.sample = Sample(x, shuffle)\n",
    "        self.bs = bs\n",
    "    def __iter__(self):\n",
    "        sample = iter(self.sample) \n",
    "        return iter(lambda: list(islice(sample, bs)), [])"
   ]
  },
  {
   "cell_type": "code",
   "execution_count": 50,
   "id": "95b8eb76",
   "metadata": {},
   "outputs": [
    {
     "name": "stdout",
     "output_type": "stream",
     "text": [
      "0 [0, 1, 2, 3]\n",
      "1 [4, 5, 6, 7]\n",
      "2 [8, 9, 10, 11]\n",
      "3 [12, 13, 14, 15]\n",
      "4 [16, 17, 18, 19]\n",
      "5 [20, 21, 22, 23]\n"
     ]
    }
   ],
   "source": [
    "batch_sample = BatchSample(x_train, 4, shuffle=False)\n",
    "\n",
    "for i, b in enumerate(batch_sample):\n",
    "    print(i, b)\n",
    "    if i > 4: break"
   ]
  },
  {
   "cell_type": "code",
   "execution_count": 51,
   "id": "7bc7dc24",
   "metadata": {},
   "outputs": [
    {
     "name": "stdout",
     "output_type": "stream",
     "text": [
      "0 [11417, 11279, 49588, 1614]\n",
      "1 [7094, 43262, 5472, 13949]\n",
      "2 [16940, 16486, 46192, 39254]\n",
      "3 [22449, 18432, 15393, 31571]\n",
      "4 [5222, 7010, 7931, 26145]\n",
      "5 [7697, 24429, 28705, 36702]\n"
     ]
    }
   ],
   "source": [
    "batch_sample = BatchSample(x_train, 4, shuffle=True)\n",
    "\n",
    "for i, b in enumerate(batch_sample):\n",
    "    print(i, b)\n",
    "    if i > 4: break"
   ]
  },
  {
   "cell_type": "code",
   "execution_count": 52,
   "id": "bec8c989",
   "metadata": {},
   "outputs": [
    {
     "data": {
      "text/plain": [
       "(tensor([[0., 0., 0.,  ..., 0., 0., 0.],\n",
       "         [0., 0., 0.,  ..., 0., 0., 0.],\n",
       "         [0., 0., 0.,  ..., 0., 0., 0.],\n",
       "         [0., 0., 0.,  ..., 0., 0., 0.]]),\n",
       " tensor([7, 0, 4, 6]))"
      ]
     },
     "execution_count": 52,
     "metadata": {},
     "output_type": "execute_result"
    }
   ],
   "source": [
    "ds_train[b]"
   ]
  },
  {
   "cell_type": "code",
   "execution_count": 53,
   "id": "7f4f86d8",
   "metadata": {},
   "outputs": [],
   "source": [
    "# put BatchSample into DataLoader\n",
    "class DataLoader():\n",
    "    def __init__(self, ds, bs, shuffle=False): self.ds, self.bs, self.shuffle = ds, bs, shuffle\n",
    "    def __iter__(self):\n",
    "        batch_sample = BatchSample(self.ds, bs, self.shuffle)\n",
    "        for b in batch_sample: yield self.ds[b]"
   ]
  },
  {
   "cell_type": "code",
   "execution_count": 54,
   "id": "3d7918f4",
   "metadata": {},
   "outputs": [
    {
     "data": {
      "text/plain": [
       "(torch.Size([4, 784]), tensor([5, 0, 4, 1]))"
      ]
     },
     "execution_count": 54,
     "metadata": {},
     "output_type": "execute_result"
    }
   ],
   "source": [
    "dl_train = DataLoader(ds_train, bs)\n",
    "xb, yb = next(iter(dl_train))\n",
    "xb.shape, yb"
   ]
  },
  {
   "cell_type": "code",
   "execution_count": 55,
   "id": "a5490197",
   "metadata": {},
   "outputs": [
    {
     "data": {
      "text/plain": [
       "(torch.Size([4, 784]), tensor([0, 0, 6, 1]))"
      ]
     },
     "execution_count": 55,
     "metadata": {},
     "output_type": "execute_result"
    }
   ],
   "source": [
    "dl_train = DataLoader(ds_train, bs, shuffle=True)\n",
    "xb, yb = next(iter(dl_train))\n",
    "xb.shape, yb"
   ]
  },
  {
   "cell_type": "code",
   "execution_count": 56,
   "id": "936b34e2",
   "metadata": {},
   "outputs": [
    {
     "data": {
      "text/plain": [
       "<matplotlib.image.AxesImage at 0x7fd1d1903bb0>"
      ]
     },
     "execution_count": 56,
     "metadata": {},
     "output_type": "execute_result"
    },
    {
     "data": {
      "image/png": "[encoded data removed]",
      "text/plain": [
       "<Figure size 200x200 with 1 Axes>"
      ]
     },
     "metadata": {},
     "output_type": "display_data"
    }
   ],
   "source": [
    "plt.figure(figsize=(2,2))\n",
    "plt.imshow(xb[0].view(28, 28), cmap='gray')"
   ]
  },
  {
   "cell_type": "code",
   "execution_count": 57,
   "id": "7f244091",
   "metadata": {},
   "outputs": [
    {
     "name": "stdout",
     "output_type": "stream",
     "text": [
      "Loss 0.23 and accuracy: 100.0%\n",
      "Loss 0.81 and accuracy: 75.0%\n",
      "Loss 1.45 and accuracy: 75.0%\n"
     ]
    }
   ],
   "source": [
    "model, optim = get_model()\n",
    "dl_train = DataLoader(ds_train, bs=50, shuffle=False)\n",
    "def fit(epoch):\n",
    "    for _ in range(epoch):\n",
    "        for xb, yb in dl_train:\n",
    "            pred = model(xb)\n",
    "            loss = loss_func(pred, yb)\n",
    "            loss.backward()\n",
    "            optim.step()\n",
    "            optim.zero_grad()\n",
    "        report(loss, pred, yb)\n",
    "        \n",
    "fit(epoch)"
   ]
  },
  {
   "cell_type": "code",
   "execution_count": 58,
   "id": "6db5999b",
   "metadata": {},
   "outputs": [],
   "source": [
    "## A collate function is used to customize collation of input samples into a batch for yielding from the data loader\n",
    "def collate(b):\n",
    "    # do anything\n",
    "    return b"
   ]
  },
  {
   "cell_type": "code",
   "execution_count": 59,
   "id": "e0bc6721",
   "metadata": {},
   "outputs": [],
   "source": [
    "class DataLoader():\n",
    "    def __init__(self, ds, bs, collate, shuffle=False):\n",
    "        self.ds, self.bs, self.collate, self.shuffle = ds, bs, collate, shuffle\n",
    "    def __iter__(self):\n",
    "        batch_sample = BatchSample(self.ds, bs, self.shuffle)\n",
    "        for b in batch_sample: yield self.collate(self.ds[b])"
   ]
  },
  {
   "cell_type": "code",
   "execution_count": 60,
   "id": "ccf24cee",
   "metadata": {},
   "outputs": [
    {
     "data": {
      "text/plain": [
       "(torch.Size([4, 784]), tensor([7, 7, 3, 1]))"
      ]
     },
     "execution_count": 60,
     "metadata": {},
     "output_type": "execute_result"
    }
   ],
   "source": [
    "dl_train = DataLoader(ds_train, bs, collate, shuffle=True)\n",
    "xb, yb = next(iter(dl_train))\n",
    "xb.shape, yb"
   ]
  },
  {
   "cell_type": "code",
   "execution_count": 61,
   "id": "9c20536a",
   "metadata": {},
   "outputs": [
    {
     "data": {
      "text/plain": [
       "<matplotlib.image.AxesImage at 0x7fd1d18b07c0>"
      ]
     },
     "execution_count": 61,
     "metadata": {},
     "output_type": "execute_result"
    },
    {
     "data": {
      "image/png": "[encoded data removed]",
      "text/plain": [
       "<Figure size 200x200 with 1 Axes>"
      ]
     },
     "metadata": {},
     "output_type": "display_data"
    }
   ],
   "source": [
    "plt.figure(figsize=(2,2))\n",
    "plt.imshow(xb[0].view(28, 28), cmap='gray')"
   ]
  },
  {
   "cell_type": "markdown",
   "id": "4594cfeb",
   "metadata": {},
   "source": [
    "### All Dateset, Dataloader, Sampler, BatchSampler, collate are already implemented on Pytorch"
   ]
  },
  {
   "cell_type": "code",
   "execution_count": 62,
   "id": "0e86161f",
   "metadata": {},
   "outputs": [],
   "source": [
    "from torch.utils.data import Dataset"
   ]
  },
  {
   "cell_type": "code",
   "execution_count": 63,
   "id": "bf7218d8",
   "metadata": {},
   "outputs": [
    {
     "name": "stdout",
     "output_type": "stream",
     "text": [
      "50000 10000\n"
     ]
    },
    {
     "data": {
      "text/plain": [
       "(torch.Size([784]), tensor(5))"
      ]
     },
     "execution_count": 63,
     "metadata": {},
     "output_type": "execute_result"
    }
   ],
   "source": [
    "# Dataset is a class with 3 main functions: __init__, __len__, __getitem__\n",
    "# We have to create a complete new dataset whenever we work with different type of data.\n",
    "\n",
    "# Using the old class\n",
    "\n",
    "class CustomDataset(Dataset):\n",
    "    def __init__(self, x, y): self.x, self.y = x, y\n",
    "    def __len__(self): return len(self.x)\n",
    "    def __getitem__(self, i): return self.x[i], self.y[i]\n",
    "\n",
    "ds_train = CustomDataset(x_train, y_train)\n",
    "ds_val = CustomDataset(x_val, y_val)\n",
    "print(len(ds_train), len(ds_val))\n",
    "x, y = ds_train[0]\n",
    "x.shape, y"
   ]
  },
  {
   "cell_type": "code",
   "execution_count": 64,
   "id": "ef5a8c18",
   "metadata": {},
   "outputs": [],
   "source": [
    "from torch.utils.data import DataLoader"
   ]
  },
  {
   "cell_type": "code",
   "execution_count": 65,
   "id": "22398636",
   "metadata": {},
   "outputs": [],
   "source": [
    "dl_train = DataLoader(ds_train, batch_size=5)"
   ]
  },
  {
   "cell_type": "code",
   "execution_count": 66,
   "id": "92383009",
   "metadata": {},
   "outputs": [
    {
     "name": "stdout",
     "output_type": "stream",
     "text": [
      "Loss 0.23 and accuracy: 92.0%\n",
      "Loss 0.16 and accuracy: 96.0%\n",
      "Loss 0.11 and accuracy: 98.0%\n"
     ]
    }
   ],
   "source": [
    "model, optim = get_model()\n",
    "dl_train = DataLoader(ds_train, batch_size=50)\n",
    "def fit(epoch):\n",
    "    for _ in range(epoch):\n",
    "        for xb, yb in dl_train:\n",
    "            pred = model(xb)\n",
    "            loss = loss_func(pred, yb)\n",
    "            loss.backward()\n",
    "            optim.step()\n",
    "            optim.zero_grad()\n",
    "        report(loss, pred, yb)\n",
    "        \n",
    "fit(epoch)"
   ]
  },
  {
   "cell_type": "code",
   "execution_count": 67,
   "id": "bd23f166",
   "metadata": {},
   "outputs": [
    {
     "name": "stdout",
     "output_type": "stream",
     "text": [
      "Loss 0.33 and accuracy: 94.0%\n",
      "Loss 0.15 and accuracy: 96.0%\n",
      "Loss 0.22 and accuracy: 94.0%\n"
     ]
    }
   ],
   "source": [
    "model, optim = get_model()\n",
    "dl_train = DataLoader(ds_train, batch_size=50, shuffle=True)\n",
    "def fit(epoch):\n",
    "    for _ in range(epoch):\n",
    "        for xb, yb in dl_train:\n",
    "            pred = model(xb)\n",
    "            loss = loss_func(pred, yb)\n",
    "            loss.backward()\n",
    "            optim.step()\n",
    "            optim.zero_grad()\n",
    "        report(loss, pred, yb)\n",
    "        \n",
    "fit(3)"
   ]
  },
  {
   "cell_type": "code",
   "execution_count": 68,
   "id": "0c01e86c",
   "metadata": {},
   "outputs": [],
   "source": [
    "# Sampler in Dataloader\n",
    "from torch.utils.data import RandomSampler, SequentialSampler"
   ]
  },
  {
   "cell_type": "code",
   "execution_count": 69,
   "id": "5b8b0ab1",
   "metadata": {},
   "outputs": [
    {
     "data": {
      "text/plain": [
       "33826"
      ]
     },
     "execution_count": 69,
     "metadata": {},
     "output_type": "execute_result"
    }
   ],
   "source": [
    "sampler = RandomSampler(ds_train)\n",
    "next(iter(sampler))"
   ]
  },
  {
   "cell_type": "code",
   "execution_count": 70,
   "id": "53eef068",
   "metadata": {},
   "outputs": [
    {
     "data": {
      "text/plain": [
       "0"
      ]
     },
     "execution_count": 70,
     "metadata": {},
     "output_type": "execute_result"
    }
   ],
   "source": [
    "sampler = SequentialSampler(ds_train)\n",
    "next(iter(sampler))"
   ]
  },
  {
   "cell_type": "code",
   "execution_count": 71,
   "id": "5a2ab265",
   "metadata": {},
   "outputs": [],
   "source": [
    "from torch.utils.data import BatchSampler"
   ]
  },
  {
   "cell_type": "code",
   "execution_count": 72,
   "id": "2aeadfa4",
   "metadata": {},
   "outputs": [],
   "source": [
    "bs=50"
   ]
  },
  {
   "cell_type": "code",
   "execution_count": 73,
   "id": "68315274",
   "metadata": {},
   "outputs": [],
   "source": [
    "train_samp = BatchSampler(RandomSampler(ds_train),     batch_size=bs, drop_last=False)\n",
    "val_samp   = BatchSampler(SequentialSampler(ds_val), batch_size=bs, drop_last=False)"
   ]
  },
  {
   "cell_type": "code",
   "execution_count": 74,
   "id": "2136f27b",
   "metadata": {},
   "outputs": [],
   "source": [
    "train_dl = DataLoader(ds_train, batch_sampler=train_samp)\n",
    "val_dl   = DataLoader(ds_val,   batch_sampler=val_samp)"
   ]
  },
  {
   "cell_type": "code",
   "execution_count": 75,
   "id": "4f0372e0",
   "metadata": {},
   "outputs": [],
   "source": [
    "xb, yb = next(iter(train_dl))"
   ]
  },
  {
   "cell_type": "code",
   "execution_count": 76,
   "id": "6493732a",
   "metadata": {},
   "outputs": [],
   "source": [
    "def fit(epoch=3):\n",
    "    for _ in range(epoch):\n",
    "        for xb, yb in train_dl:\n",
    "            pred = model(xb)\n",
    "            loss = loss_func(pred, yb)\n",
    "            loss.backward()\n",
    "            optim.step()\n",
    "            optim.zero_grad()\n",
    "        report(loss, pred, yb)"
   ]
  },
  {
   "cell_type": "code",
   "execution_count": 77,
   "id": "156bca67",
   "metadata": {},
   "outputs": [],
   "source": [
    "model, optim = get_model()        \n",
    "# fit()"
   ]
  },
  {
   "cell_type": "code",
   "execution_count": 78,
   "id": "0162d48c",
   "metadata": {},
   "outputs": [],
   "source": [
    "# pytorch auto create batch_sampler and sampler for us\n",
    "train_dl = DataLoader(ds_train, batch_size=bs, drop_last=False, shuffle=True)\n",
    "val_dl   = DataLoader(ds_val,   batch_size=bs*2, drop_last=False, shuffle=True)"
   ]
  },
  {
   "cell_type": "code",
   "execution_count": 79,
   "id": "5d7c040a",
   "metadata": {},
   "outputs": [],
   "source": [
    "model, optim = get_model()        \n",
    "# fit()"
   ]
  },
  {
   "cell_type": "code",
   "execution_count": 80,
   "id": "3d20183c",
   "metadata": {},
   "outputs": [],
   "source": [
    "#|export\n",
    "def get_dls(train_ds, val_ds, bs, collate_fn=default_collate, **kwargs):\n",
    "    train_dl = DataLoader(train_ds, batch_size=bs, drop_last=False, shuffle=True, collate_fn=collate_fn, **kwargs)\n",
    "    val_dl   = DataLoader(val_ds,   batch_size=bs*2, drop_last=False, shuffle=True, collate_fn=collate_fn, **kwargs)\n",
    "    return train_dl, val_dl"
   ]
  },
  {
   "cell_type": "code",
   "execution_count": 81,
   "id": "967ad347",
   "metadata": {},
   "outputs": [],
   "source": [
    "model, optim = get_model()\n",
    "train_dl, val_dl = get_dls(ds_train, ds_val, bs)\n",
    "# fit()"
   ]
  },
  {
   "cell_type": "code",
   "execution_count": 82,
   "id": "f48434a1",
   "metadata": {},
   "outputs": [],
   "source": [
    "#|export\n",
    "def fit(epoch, model, loss_func, opt, train_dl, val_dl):\n",
    "    for _ in range(epoch):\n",
    "        for xb, yb in train_dl:\n",
    "            pred = model(xb)\n",
    "            loss = loss_func(pred, yb)\n",
    "            loss.backward()\n",
    "            opt.step()\n",
    "            opt.zero_grad()\n",
    "        model.eval()\n",
    "        with torch.no_grad():\n",
    "            tot_loss, tot_acc = 0, 0\n",
    "            for xb, yb in val_dl:\n",
    "                pred = model(xb)\n",
    "                loss = loss_func(pred, yb)\n",
    "                tot_loss += loss.item()\n",
    "                tot_acc += (pred.argmax(1) == yb).float().sum().item()\n",
    "            print(f\"Loss {tot_loss/len(val_dl.dataset):.4f}. Acc = {tot_acc/len(val_dl.dataset):.2f}\")"
   ]
  },
  {
   "cell_type": "code",
   "execution_count": 83,
   "id": "a0ebb53d",
   "metadata": {},
   "outputs": [],
   "source": [
    "model, opt = get_model()\n",
    "train_dl, valid_dl = get_dls(ds_train, ds_val, bs)"
   ]
  },
  {
   "cell_type": "code",
   "execution_count": 84,
   "id": "4d11cd35",
   "metadata": {},
   "outputs": [
    {
     "name": "stdout",
     "output_type": "stream",
     "text": [
      "Loss 0.0024. Acc = 0.93\n",
      "Loss 0.0019. Acc = 0.95\n",
      "Loss 0.0018. Acc = 0.95\n",
      "CPU times: user 26.2 s, sys: 7.97 ms, total: 26.2 s\n",
      "Wall time: 2.18 s\n"
     ]
    }
   ],
   "source": [
    "%time fit(3, model, loss_func, opt, train_dl, valid_dl)"
   ]
  },
  {
   "cell_type": "code",
   "execution_count": 85,
   "id": "275e3e9f",
   "metadata": {},
   "outputs": [],
   "source": [
    "#|export\n",
    "from typing import Mapping\n",
    "\n",
    "def_device = 'cuda' if torch.cuda.is_available() else 'cpu'\n",
    "\n",
    "def to_device(x):\n",
    "    if isinstance(x, torch.Tensor): return x.to(def_device)\n",
    "    if isinstance(x, Mapping): return {k: v.to(def_device) for k,v in x.items()}\n",
    "    return type(x)(o.to(def_device) for o in x)\n",
    "\n",
    "def collate_device(b): return to_device(default_collate(b))"
   ]
  },
  {
   "cell_type": "code",
   "execution_count": 86,
   "id": "3300cd5a",
   "metadata": {},
   "outputs": [],
   "source": [
    "train_dl, valid_dl = get_dls(ds_train, ds_val, bs, collate_device)"
   ]
  },
  {
   "cell_type": "code",
   "execution_count": 87,
   "id": "fe4c04a6",
   "metadata": {},
   "outputs": [
    {
     "name": "stdout",
     "output_type": "stream",
     "text": [
      "Loss 0.0014. Acc = 0.96\n",
      "Loss 0.0013. Acc = 0.96\n",
      "Loss 0.0012. Acc = 0.97\n",
      "CPU times: user 3.41 s, sys: 316 ms, total: 3.73 s\n",
      "Wall time: 3.33 s\n"
     ]
    }
   ],
   "source": [
    "%time fit(3, model.to(def_device), loss_func, opt, train_dl, valid_dl)"
   ]
  },
  {
   "cell_type": "code",
   "execution_count": 88,
   "id": "3d440a3c",
   "metadata": {},
   "outputs": [],
   "source": [
    "import nbdev; nbdev.nbdev_export()"
   ]
  }
 ],
 "metadata": {
  "kernelspec": {
   "display_name": "Python 3 (ipykernel)",
   "language": "python",
   "name": "python3"
  },
  "language_info": {
   "codemirror_mode": {
    "name": "ipython",
    "version": 3
   },
   "file_extension": ".py",
   "mimetype": "text/x-python",
   "name": "python",
   "nbconvert_exporter": "python",
   "pygments_lexer": "ipython3",
   "version": "3.9.7"
  }
 },
 "nbformat": 4,
 "nbformat_minor": 5
}
