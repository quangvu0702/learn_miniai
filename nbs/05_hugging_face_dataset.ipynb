{
 "cells": [
  {
   "cell_type": "code",
   "execution_count": null,
   "id": "2497a984",
   "metadata": {},
   "outputs": [],
   "source": [
    "#|default_exp datasets"
   ]
  },
  {
   "cell_type": "code",
   "execution_count": null,
   "id": "a09a778a",
   "metadata": {},
   "outputs": [],
   "source": [
    "# pip install datasets"
   ]
  },
  {
   "cell_type": "code",
   "execution_count": null,
   "id": "3c63c39a",
   "metadata": {},
   "outputs": [],
   "source": [
    "cd /home/admin/projects/learn_miniai/"
   ]
  },
  {
   "cell_type": "markdown",
   "id": "a59c258b",
   "metadata": {},
   "source": [
    "### Hugging Faces datasets"
   ]
  },
  {
   "cell_type": "code",
   "execution_count": null,
   "id": "7e37b1ad",
   "metadata": {},
   "outputs": [],
   "source": [
    "from datasets import load_dataset, load_dataset_builder"
   ]
  },
  {
   "cell_type": "code",
   "execution_count": null,
   "id": "05b2e3e1",
   "metadata": {},
   "outputs": [],
   "source": [
    "name = 'fashion_mnist'\n",
    "dataset = load_dataset(name)"
   ]
  },
  {
   "cell_type": "code",
   "execution_count": null,
   "id": "ffbb9eb6",
   "metadata": {},
   "outputs": [],
   "source": [
    "dataset"
   ]
  },
  {
   "cell_type": "code",
   "execution_count": null,
   "id": "3de2dcb1",
   "metadata": {},
   "outputs": [],
   "source": [
    "dataset_builder = load_dataset_builder(name)"
   ]
  },
  {
   "cell_type": "code",
   "execution_count": null,
   "id": "341c768c",
   "metadata": {},
   "outputs": [],
   "source": [
    "dataset_builder.name"
   ]
  },
  {
   "cell_type": "markdown",
   "id": "08b02d8d",
   "metadata": {},
   "source": [
    "Some of the main attributes and functions of DatasetBuilder include:\n",
    "\n",
    "* name: the name of the dataset\n",
    "\n",
    "* info: a DatasetInfo object containing metadata about the dataset\n",
    "\n",
    "* cache_files: a boolean indicating whether dataset files should be cached\n",
    "\n",
    "* manual_download: a boolean indicating whether dataset files should be downloaded manually\n",
    "\n",
    "* download_and_prepare(): a function to download and prepare the dataset\n",
    "\n",
    "* inspect(): a function to inspect the contents of the dataset\n",
    "\n",
    "* subsplit(): a function to split the dataset into subsplits\n",
    "\n",
    "* as_dataset(): a function to convert the dataset to a tf.data.Dataset object\n",
    "\n",
    "Additionally, some useful DatasetBuilder functions that can be used to manipulate and explore datasets include:\n",
    "\n",
    "* select(): select a subset of features from the dataset\n",
    "\n",
    "* filter(): filter examples in the dataset based on a given condition\n",
    "\n",
    "* shuffle(): shuffle the dataset\n",
    "\n",
    "* sort(): sort the dataset"
   ]
  },
  {
   "cell_type": "code",
   "execution_count": null,
   "id": "3ddd81ae",
   "metadata": {},
   "outputs": [],
   "source": [
    "print(dataset_builder.info.description)"
   ]
  },
  {
   "cell_type": "code",
   "execution_count": null,
   "id": "40857d18",
   "metadata": {},
   "outputs": [],
   "source": [
    "dataset_builder.info.features"
   ]
  },
  {
   "cell_type": "code",
   "execution_count": null,
   "id": "1bac5e73",
   "metadata": {},
   "outputs": [],
   "source": [
    "dataset_builder.info.splits"
   ]
  },
  {
   "cell_type": "code",
   "execution_count": null,
   "id": "773da812",
   "metadata": {},
   "outputs": [],
   "source": [
    "dataset_builder.info.download_checksums"
   ]
  },
  {
   "cell_type": "code",
   "execution_count": null,
   "id": "811b7356",
   "metadata": {},
   "outputs": [],
   "source": [
    "x, y = dataset_builder.info.features\n",
    "print(x, y)"
   ]
  },
  {
   "cell_type": "code",
   "execution_count": null,
   "id": "aadb41df",
   "metadata": {},
   "outputs": [],
   "source": [
    "train_ds = dataset['train']\n",
    "test_ds = dataset['test']\n",
    "# they have all functions of a dataset __len__ and __iter__\n",
    "len(train_ds), next(iter(train_ds)), train_ds[0]"
   ]
  },
  {
   "cell_type": "code",
   "execution_count": null,
   "id": "5de7d0c7",
   "metadata": {},
   "outputs": [],
   "source": [
    "featy = train_ds.features[y]"
   ]
  },
  {
   "cell_type": "code",
   "execution_count": null,
   "id": "3d5364e6",
   "metadata": {},
   "outputs": [],
   "source": [
    "train_ds.features"
   ]
  },
  {
   "cell_type": "code",
   "execution_count": null,
   "id": "9e2c8338",
   "metadata": {},
   "outputs": [],
   "source": [
    "train_ds.features"
   ]
  },
  {
   "cell_type": "code",
   "execution_count": null,
   "id": "7e5ed093",
   "metadata": {},
   "outputs": [],
   "source": [
    "featy.int2str(train_ds[0][y])"
   ]
  },
  {
   "cell_type": "code",
   "execution_count": null,
   "id": "bf72b4d5",
   "metadata": {},
   "outputs": [],
   "source": [
    "featy.str2int('Ankle boot')"
   ]
  },
  {
   "cell_type": "code",
   "execution_count": null,
   "id": "0bcd843e",
   "metadata": {},
   "outputs": [],
   "source": [
    "train_ds[0][x]"
   ]
  },
  {
   "cell_type": "code",
   "execution_count": null,
   "id": "40c74550",
   "metadata": {},
   "outputs": [],
   "source": [
    "train_ds[0]"
   ]
  },
  {
   "cell_type": "code",
   "execution_count": null,
   "id": "fd57a601",
   "metadata": {},
   "outputs": [],
   "source": [
    "from torch import tensor\n",
    "import numpy as np\n",
    "from matplotlib import pyplot as plt\n",
    "plt.rcParams[\"figure.figsize\"] = (1, 1)"
   ]
  },
  {
   "cell_type": "code",
   "execution_count": null,
   "id": "857ab12e",
   "metadata": {},
   "outputs": [],
   "source": [
    "plt.imshow(np.array(train_ds[0][x]), cmap='gray')"
   ]
  },
  {
   "cell_type": "code",
   "execution_count": null,
   "id": "a33dab93",
   "metadata": {},
   "outputs": [],
   "source": [
    "#|export\n",
    "import torchvision.transforms.functional as TF"
   ]
  },
  {
   "cell_type": "code",
   "execution_count": null,
   "id": "075fd85b",
   "metadata": {},
   "outputs": [],
   "source": [
    "TF.to_tensor(train_ds[0]['image']).shape"
   ]
  },
  {
   "cell_type": "code",
   "execution_count": null,
   "id": "db5de3af",
   "metadata": {},
   "outputs": [],
   "source": [
    "def collate_fn(b):\n",
    "    images = torch.stack([TF.to_tensor(x['image']) for x in b])\n",
    "    labels = tensor([x['label'] for x in b])\n",
    "    return images, labels"
   ]
  },
  {
   "cell_type": "code",
   "execution_count": null,
   "id": "31e61afb",
   "metadata": {},
   "outputs": [],
   "source": [
    "import torch\n",
    "from torch.utils.data import DataLoader\n",
    "\n",
    "train_dl = DataLoader(dataset=train_ds, batch_size=50,shuffle=True, collate_fn=collate_fn)"
   ]
  },
  {
   "cell_type": "code",
   "execution_count": null,
   "id": "4b37489e",
   "metadata": {},
   "outputs": [],
   "source": [
    "xb, yb = next(iter(train_dl))"
   ]
  },
  {
   "cell_type": "code",
   "execution_count": null,
   "id": "d41b1a55",
   "metadata": {},
   "outputs": [],
   "source": [
    "xb.shape"
   ]
  },
  {
   "cell_type": "code",
   "execution_count": null,
   "id": "9534047a",
   "metadata": {},
   "outputs": [],
   "source": [
    "featy.int2str(yb[0].item())"
   ]
  },
  {
   "cell_type": "code",
   "execution_count": null,
   "id": "cb49c7d1",
   "metadata": {},
   "outputs": [],
   "source": [
    "plt.imshow(xb[0,0], cmap='gray', )\n",
    "plt.title(featy.int2str(yb[0].item()))\n",
    "plt.show()"
   ]
  },
  {
   "cell_type": "code",
   "execution_count": null,
   "id": "9a2c669f",
   "metadata": {},
   "outputs": [],
   "source": [
    "def transforms(x):\n",
    "    x['image'] = [TF.to_tensor(o) for o in x['image']]\n",
    "    return x"
   ]
  },
  {
   "cell_type": "code",
   "execution_count": null,
   "id": "3854ac3f",
   "metadata": {},
   "outputs": [],
   "source": [
    "next(iter(train_ds))"
   ]
  },
  {
   "cell_type": "code",
   "execution_count": null,
   "id": "677eee2e",
   "metadata": {},
   "outputs": [],
   "source": [
    "tds = train_ds.with_transform(transforms)"
   ]
  },
  {
   "cell_type": "code",
   "execution_count": null,
   "id": "d7bf6a80",
   "metadata": {},
   "outputs": [],
   "source": [
    "next(iter(tds))"
   ]
  },
  {
   "cell_type": "code",
   "execution_count": null,
   "id": "624f8c55",
   "metadata": {},
   "outputs": [],
   "source": [
    "train_dl = DataLoader(dataset=tds, batch_size=50)"
   ]
  },
  {
   "cell_type": "code",
   "execution_count": null,
   "id": "b7126afa",
   "metadata": {},
   "outputs": [],
   "source": [
    "b = next(iter(train_dl))"
   ]
  },
  {
   "cell_type": "code",
   "execution_count": null,
   "id": "bda33a1d",
   "metadata": {},
   "outputs": [],
   "source": [
    "b['image'].shape, b['label'].shape"
   ]
  },
  {
   "cell_type": "markdown",
   "id": "8c780663",
   "metadata": {},
   "source": [
    "### create inplace function to simplify code"
   ]
  },
  {
   "cell_type": "code",
   "execution_count": null,
   "id": "bccb394b",
   "metadata": {},
   "outputs": [],
   "source": [
    "#|export\n",
    "def inplace(f):\n",
    "    def _f(b):\n",
    "        f(b)\n",
    "        return b\n",
    "    return _f"
   ]
  },
  {
   "cell_type": "code",
   "execution_count": null,
   "id": "3aeef5e9",
   "metadata": {},
   "outputs": [],
   "source": [
    "x={'a': 1, 'b': 2}\n",
    "def _transform(x): x['a'] = 2\n",
    "\n",
    "@inplace\n",
    "def transform(x): x['a'] = 2\n",
    "print(transform(x))"
   ]
  },
  {
   "cell_type": "code",
   "execution_count": null,
   "id": "71e82270",
   "metadata": {},
   "outputs": [],
   "source": [
    "@inplace\n",
    "def transforms(x): x['image'] = [TF.to_tensor(o) for o in x['image']]\n",
    "    \n",
    "tds = train_ds.with_transform(transforms)\n",
    "train_dl = DataLoader(dataset=tds, batch_size=50)\n",
    "\n",
    "b = next(iter(train_dl))\n",
    "b['image'].shape, b['label'].shape"
   ]
  },
  {
   "cell_type": "code",
   "execution_count": null,
   "id": "c0754932",
   "metadata": {},
   "outputs": [],
   "source": [
    "#|export\n",
    "from operator import itemgetter"
   ]
  },
  {
   "cell_type": "code",
   "execution_count": null,
   "id": "f8287ba1",
   "metadata": {},
   "outputs": [],
   "source": [
    "my_list = [[1, 2, 3], [4, 5, 6], [7, 8, 9]]\n",
    "list(map(itemgetter(1), my_list))\n"
   ]
  },
  {
   "cell_type": "code",
   "execution_count": null,
   "id": "7616d172",
   "metadata": {},
   "outputs": [],
   "source": [
    "from torch.utils.data import default_collate"
   ]
  },
  {
   "cell_type": "code",
   "execution_count": null,
   "id": "624e3a67",
   "metadata": {},
   "outputs": [],
   "source": [
    "batch = dict(image=[1],label=[2]), dict(image=[3],label=[4])\n",
    "batch"
   ]
  },
  {
   "cell_type": "code",
   "execution_count": null,
   "id": "d149b1e0",
   "metadata": {},
   "outputs": [],
   "source": [
    "default_collate(batch)"
   ]
  },
  {
   "cell_type": "code",
   "execution_count": null,
   "id": "259208d9",
   "metadata": {},
   "outputs": [],
   "source": [
    "itemgetter('image', 'label')(default_collate(batch))"
   ]
  },
  {
   "cell_type": "code",
   "execution_count": null,
   "id": "9593ff99",
   "metadata": {},
   "outputs": [],
   "source": [
    "itemgetter(*train_ds.features)(default_collate(batch))"
   ]
  },
  {
   "cell_type": "code",
   "execution_count": null,
   "id": "95bd8577",
   "metadata": {},
   "outputs": [],
   "source": [
    "def collate_dict(b):\n",
    "    get = itemgetter('image', 'label')\n",
    "    def _f(b):\n",
    "        return get(default_collate(b))\n",
    "    return _f(b)"
   ]
  },
  {
   "cell_type": "code",
   "execution_count": null,
   "id": "9f7a280d",
   "metadata": {},
   "outputs": [],
   "source": [
    "train_dl = DataLoader(dataset=tds, batch_size=8, collate_fn=collate_dict)"
   ]
  },
  {
   "cell_type": "code",
   "execution_count": null,
   "id": "deeeca71",
   "metadata": {},
   "outputs": [],
   "source": [
    "xb, yb = next(iter(train_dl))\n",
    "xb.shape, yb.shape"
   ]
  },
  {
   "cell_type": "markdown",
   "id": "fc3bbed4",
   "metadata": {},
   "source": [
    "## Plotting images"
   ]
  },
  {
   "cell_type": "code",
   "execution_count": null,
   "id": "417eac74",
   "metadata": {},
   "outputs": [],
   "source": [
    "#|export\n",
    "import matplotlib.pyplot as plt\n",
    "plt.rcParams[\"figure.figsize\"] = (5, 5)"
   ]
  },
  {
   "cell_type": "code",
   "execution_count": null,
   "id": "f92a449e",
   "metadata": {},
   "outputs": [],
   "source": [
    "fig, axs = plt.subplots(2, 2)\n",
    "axs[0, 0].plot([1, 2, 3], [4, 5, 6])\n",
    "axs[0, 1].scatter([1, 2, 3], [4, 5, 6])\n",
    "axs[1, 0].bar([1, 2, 3], [4, 5, 6])\n",
    "axs[1, 1].hist([1, 2, 2, 3, 3, 3, 3])\n",
    "plt.show()"
   ]
  },
  {
   "cell_type": "code",
   "execution_count": null,
   "id": "9607ba32",
   "metadata": {},
   "outputs": [],
   "source": [
    "# show one image\n",
    "nrows, ncols= 1, 1\n",
    "fig, axs = plt.subplots(nrows=1, ncols=1)\n",
    "fig.set_size_inches(nrows, ncols)\n",
    "axs.imshow(xb[0][0], cmap='gray')\n",
    "plt.show()"
   ]
  },
  {
   "cell_type": "code",
   "execution_count": null,
   "id": "963deade",
   "metadata": {},
   "outputs": [],
   "source": [
    "# show two images\n",
    "nrows, ncols= 1, 2\n",
    "fig, axs = plt.subplots(nrows, ncols)\n",
    "fig.set_size_inches(3, 3)\n",
    "axs[0].imshow(xb[0][0], cmap='gray')\n",
    "axs[1].imshow(xb[1][0], cmap='gray')\n",
    "plt.show()"
   ]
  },
  {
   "cell_type": "code",
   "execution_count": null,
   "id": "49e03247",
   "metadata": {},
   "outputs": [],
   "source": [
    "# show four images\n",
    "nrows, ncols= 2, 2\n",
    "fig, axs = plt.subplots(nrows, ncols)\n",
    "fig.set_size_inches(3, 3)\n",
    "\n",
    "axs[0,0].imshow(xb[0][0], cmap='gray')\n",
    "axs[0,0].set_title(f'{featy.int2str(yb[0].item())}', fontsize=11)\n",
    "axs[0,0].axis('off')\n",
    "\n",
    "axs[0,1].imshow(xb[1][0], cmap='gray')\n",
    "axs[0,1].set_title(f'{featy.int2str(yb[1].item())}', fontsize=11)\n",
    "axs[1,0].imshow(xb[2][0], cmap='gray')\n",
    "axs[1,0].set_title(f'{featy.int2str(yb[2].item())}', fontsize=11)\n",
    "axs[1,1].imshow(xb[3][0], cmap='gray')\n",
    "axs[1,1].set_title(f'{featy.int2str(yb[3].item())}', fontsize=11)\n",
    "\n",
    "fig.subplots_adjust(hspace=0.5, wspace=0.5)\n",
    "plt.show()"
   ]
  },
  {
   "cell_type": "code",
   "execution_count": null,
   "id": "e5f05521",
   "metadata": {},
   "outputs": [],
   "source": [
    "#|export\n",
    "def show_image(img, ax, title=None, fontsize=11):\n",
    "    ax.imshow(img, cmap='gray')\n",
    "    if title is not None: ax.set_title(title, fontsize=fontsize)\n",
    "    ax.axis('off')"
   ]
  },
  {
   "cell_type": "code",
   "execution_count": null,
   "id": "6a76ef0c",
   "metadata": {},
   "outputs": [],
   "source": [
    "nrows, ncols= 2, 2\n",
    "fig, axs = plt.subplots(nrows, ncols)\n",
    "fig.set_size_inches(3, 3)\n",
    "\n",
    "show_image(xb[0][0], axs[0,0], title=featy.int2str(yb[0].item()))\n",
    "show_image(xb[1][0], axs[0,1], title=featy.int2str(yb[1].item()))\n",
    "show_image(xb[2][0], axs[1,0], title=featy.int2str(yb[2].item()))\n",
    "show_image(xb[3][0], axs[1,1], title=featy.int2str(yb[3].item()))\n",
    "\n",
    "fig.subplots_adjust(hspace=0.5, wspace=0.5)\n",
    "plt.show()"
   ]
  },
  {
   "cell_type": "code",
   "execution_count": null,
   "id": "7e774c81",
   "metadata": {},
   "outputs": [],
   "source": [
    "nrows, ncols= 2, 2\n",
    "fig, axs = plt.subplots(nrows, ncols)\n",
    "fig.set_size_inches(3, 3)\n",
    "\n",
    "for i, ax in enumerate(axs.reshape(-1)):\n",
    "    show_image(xb[i][0], ax, title=featy.int2str(yb[i].item()))\n",
    "    \n",
    "fig.subplots_adjust(hspace=0.5, wspace=0.5)\n",
    "plt.show()"
   ]
  },
  {
   "cell_type": "code",
   "execution_count": null,
   "id": "1676711b",
   "metadata": {},
   "outputs": [],
   "source": [
    "nrows, ncols= 3, 3\n",
    "fig, axs = plt.subplots(nrows, ncols)\n",
    "fig.set_size_inches(3, 3)\n",
    "\n",
    "for img, ax in zip(xb, axs.flat):\n",
    "    show_image(img[0], ax, title=featy.int2str(yb[i].item()))\n",
    "    \n",
    "fig.subplots_adjust(hspace=0.5, wspace=0.5)\n",
    "plt.show()"
   ]
  },
  {
   "cell_type": "code",
   "execution_count": null,
   "id": "7d065293",
   "metadata": {},
   "outputs": [],
   "source": [
    "def show_image(img, ax, title=None, fontsize=11):\n",
    "    if img.shape[0]==1: img = img[0]\n",
    "    ax.imshow(img, cmap='gray')\n",
    "    if title is not None: ax.set_title(title, fontsize=fontsize)\n",
    "    ax.axis('off')"
   ]
  },
  {
   "cell_type": "code",
   "execution_count": null,
   "id": "fb6ac0ba",
   "metadata": {},
   "outputs": [],
   "source": [
    "nrows, ncols= 2, 2\n",
    "fig, axs = plt.subplots(nrows, ncols)\n",
    "fig.set_size_inches(3, 3)\n",
    "\n",
    "for i, (img, ax) in enumerate(zip(xb, axs.flat)):\n",
    "    show_image(img, ax, title=featy.int2str(yb[i].item()))\n",
    "    \n",
    "fig.subplots_adjust(hspace=0.5, wspace=0.5)\n",
    "plt.show()"
   ]
  },
  {
   "cell_type": "code",
   "execution_count": null,
   "id": "28745b81",
   "metadata": {},
   "outputs": [],
   "source": [
    "titles = None #[featy.int2str(o.item()) for o in yb]\n",
    "if titles is None: titles = [None] * len(xb)\n",
    "nrows, ncols= 3, 3\n",
    "fig, axs = plt.subplots(nrows, ncols)\n",
    "fig.set_size_inches(3, 3)\n",
    "\n",
    "for (img, title), ax in zip(zip(xb, titles), axs.flat):\n",
    "    show_image(img, ax, title=title)\n",
    "    \n",
    "fig.subplots_adjust(hspace=0.5, wspace=0.5)\n",
    "plt.show()"
   ]
  },
  {
   "cell_type": "code",
   "execution_count": null,
   "id": "e93d9d3c",
   "metadata": {},
   "outputs": [],
   "source": [
    "#|export\n",
    "def show_images(imgs, titles=None, n_rows=3, n_cols=3):\n",
    "    if titles is None: titles = [None] * len(imgs)\n",
    "    fig, axs = plt.subplots(n_rows, n_cols)\n",
    "    fig.set_size_inches(n_rows * 2, n_cols * 2)\n",
    "\n",
    "    for (img, title), ax in zip(zip(imgs, titles), axs.flat):\n",
    "        if len(img.shape) == 3 and img.shape[0] == 1:\n",
    "            img = img[0]\n",
    "        show_image(img, ax, title=title)\n",
    "\n",
    "    fig.subplots_adjust(hspace=0.5, wspace=0.5)\n",
    "    plt.show()"
   ]
  },
  {
   "cell_type": "code",
   "execution_count": null,
   "id": "f983e084",
   "metadata": {
    "scrolled": true
   },
   "outputs": [],
   "source": [
    "titles = [featy.int2str(o.item()) for o in yb]\n",
    "show_images(xb, None, 3, 3)"
   ]
  },
  {
   "cell_type": "code",
   "execution_count": null,
   "id": "75f94964",
   "metadata": {},
   "outputs": [],
   "source": [
    "#|export\n",
    "from torch.utils.data import default_collate\n",
    "from miniai.training import get_dls\n",
    "\n",
    "@inplace\n",
    "def transforms(x): x['image'] = [TF.to_tensor(o) for o in x['image']]\n",
    "\n",
    "def collate_dict(ds):\n",
    "    get = itemgetter(*ds.features)\n",
    "    def _f(b):\n",
    "        return get(default_collate(b))\n",
    "    return _f\n",
    "\n",
    "class DataLoaders():\n",
    "    def __init__(self, *args, **kwargs):\n",
    "        self.train, self.val = args[0:2]\n",
    "        \n",
    "    @classmethod\n",
    "    def from_dd(cls, dd, bs, **kwargs):\n",
    "        f = collate_dict(dd['train'])\n",
    "        return cls(*get_dls(*dd.values(), bs, collate_fn=f, **kwargs))"
   ]
  },
  {
   "cell_type": "code",
   "execution_count": null,
   "id": "448e0257",
   "metadata": {},
   "outputs": [],
   "source": [
    "dd_tf = dataset.with_transform(transforms)\n",
    "bs = 5"
   ]
  },
  {
   "cell_type": "code",
   "execution_count": null,
   "id": "9512e693",
   "metadata": {},
   "outputs": [],
   "source": [
    "dls = DataLoaders.from_dd(dd_tf, 50, num_workers=4)"
   ]
  },
  {
   "cell_type": "code",
   "execution_count": null,
   "id": "bc55cd46",
   "metadata": {},
   "outputs": [],
   "source": [
    "xb, yb = next(iter(dls.train))"
   ]
  },
  {
   "cell_type": "code",
   "execution_count": null,
   "id": "cbfda86e",
   "metadata": {},
   "outputs": [],
   "source": [
    "xb.shape, yb.shape"
   ]
  },
  {
   "cell_type": "code",
   "execution_count": 1,
   "id": "882c6ed5",
   "metadata": {},
   "outputs": [],
   "source": [
    "import nbdev; nbdev.nbdev_export()"
   ]
  }
 ],
 "metadata": {
  "kernelspec": {
   "display_name": "Python 3 (ipykernel)",
   "language": "python",
   "name": "python3"
  },
  "language_info": {
   "codemirror_mode": {
    "name": "ipython",
    "version": 3
   },
   "file_extension": ".py",
   "mimetype": "text/x-python",
   "name": "python",
   "nbconvert_exporter": "python",
   "pygments_lexer": "ipython3",
   "version": "3.8.12"
  }
 },
 "nbformat": 4,
 "nbformat_minor": 5
}
