{
 "cells": [
  {
   "cell_type": "code",
   "execution_count": 1,
   "id": "b70b98ad",
   "metadata": {},
   "outputs": [
    {
     "data": {
      "application/vnd.jupyter.widget-view+json": {
       "model_id": "24f69674ff6047bb98ad80fca68f97c9",
       "version_major": 2,
       "version_minor": 0
      },
      "text/plain": [
       "MyButton(description='Click me!', style=ButtonStyle())"
      ]
     },
     "metadata": {},
     "output_type": "display_data"
    },
    {
     "data": {
      "application/vnd.jupyter.widget-view+json": {
       "model_id": "8a4276aa5ce2465984379de079501d37",
       "version_major": 2,
       "version_minor": 0
      },
      "text/plain": [
       "MyButton(description='Click me!', style=ButtonStyle())"
      ]
     },
     "metadata": {},
     "output_type": "display_data"
    }
   ],
   "source": [
    "import ipywidgets as widgets\n",
    "\n",
    "class MyButton(widgets.Button):\n",
    "    def __init__(self, name, *args, **kwargs):\n",
    "        super().__init__(*args, **kwargs)\n",
    "        self.description = 'Click me!'\n",
    "        self.name = name\n",
    "        self.value = 0\n",
    "    \n",
    "    def count(self): self.value += 1\n",
    "\n",
    "button1 = MyButton('b1')\n",
    "button2 = MyButton('b2')\n",
    "\n",
    "def on_button_click(button):\n",
    "    button.count()\n",
    "    print(f'Button {button.name} clicked {button.value} times.')\n",
    "\n",
    "button1.on_click(on_button_click)\n",
    "button2.on_click(on_button_click)\n",
    "display(button1)\n",
    "display(button2)"
   ]
  },
  {
   "cell_type": "markdown",
   "id": "979eb98e",
   "metadata": {},
   "source": [
    "### create callback"
   ]
  },
  {
   "cell_type": "code",
   "execution_count": 2,
   "id": "796daa9d",
   "metadata": {},
   "outputs": [
    {
     "data": {
      "text/plain": [
       "10"
      ]
     },
     "execution_count": 2,
     "metadata": {},
     "output_type": "execute_result"
    }
   ],
   "source": [
    "from time import sleep\n",
    "\n",
    "def slow_calculation(n=5):\n",
    "    c = 0\n",
    "    for i in range(5):\n",
    "        sleep(1)\n",
    "        c+=2\n",
    "    return c\n",
    "\n",
    "slow_calculation(n=5)"
   ]
  },
  {
   "cell_type": "code",
   "execution_count": 3,
   "id": "62bcde5e",
   "metadata": {},
   "outputs": [
    {
     "name": "stdout",
     "output_type": "stream",
     "text": [
      "Epoch 0\n",
      "Epoch 1\n",
      "Epoch 2\n",
      "Epoch 3\n",
      "Epoch 4\n"
     ]
    },
    {
     "data": {
      "text/plain": [
       "10"
      ]
     },
     "execution_count": 3,
     "metadata": {},
     "output_type": "execute_result"
    }
   ],
   "source": [
    "def show_progress(c):\n",
    "    print(f\"Epoch {c}\")\n",
    "    \n",
    "def slow_calculation(cb=None, n=5):\n",
    "    c = 0\n",
    "    for i in range(5):\n",
    "        sleep(1)\n",
    "        c+=2\n",
    "        if cb is not None: cb(i)\n",
    "    return c\n",
    "\n",
    "slow_calculation(show_progress, n=5)"
   ]
  },
  {
   "cell_type": "markdown",
   "id": "06330acf",
   "metadata": {},
   "source": [
    "### Lambdas and partials"
   ]
  },
  {
   "cell_type": "code",
   "execution_count": 4,
   "id": "2ac5595d",
   "metadata": {},
   "outputs": [
    {
     "name": "stdout",
     "output_type": "stream",
     "text": [
      "Epoch 0!\n",
      "Epoch 1!\n",
      "Epoch 2!\n",
      "Epoch 3!\n",
      "Epoch 4!\n"
     ]
    },
    {
     "data": {
      "text/plain": [
       "10"
      ]
     },
     "execution_count": 4,
     "metadata": {},
     "output_type": "execute_result"
    }
   ],
   "source": [
    "# using lambda to create \n",
    "slow_calculation(lambda epoch: print(f\"Epoch {epoch}!\"))"
   ]
  },
  {
   "cell_type": "code",
   "execution_count": 5,
   "id": "66693020",
   "metadata": {},
   "outputs": [],
   "source": [
    "from functools import partial"
   ]
  },
  {
   "cell_type": "code",
   "execution_count": 6,
   "id": "e7aaa8d7",
   "metadata": {},
   "outputs": [
    {
     "name": "stdout",
     "output_type": "stream",
     "text": [
      "I guess! Epoch 2.\n"
     ]
    }
   ],
   "source": [
    "def show_progress(explaination, epoch):\n",
    "    print(f\"{explaination} Epoch {epoch}.\")\n",
    "    \n",
    "show_progress(\"I guess!\", 2)"
   ]
  },
  {
   "cell_type": "code",
   "execution_count": 7,
   "id": "89236ee8",
   "metadata": {},
   "outputs": [
    {
     "name": "stdout",
     "output_type": "stream",
     "text": [
      "We guess! Epoch 0.\n",
      "We guess! Epoch 1.\n",
      "We guess! Epoch 2.\n",
      "We guess! Epoch 3.\n",
      "We guess! Epoch 4.\n"
     ]
    },
    {
     "data": {
      "text/plain": [
       "10"
      ]
     },
     "execution_count": 7,
     "metadata": {},
     "output_type": "execute_result"
    }
   ],
   "source": [
    "cb = partial(show_progress, \"We guess!\")\n",
    "\n",
    "slow_calculation(cb)"
   ]
  },
  {
   "cell_type": "markdown",
   "id": "55149ac8",
   "metadata": {},
   "source": [
    "### Callbacks as callable classes"
   ]
  },
  {
   "cell_type": "code",
   "execution_count": 8,
   "id": "9ac72719",
   "metadata": {},
   "outputs": [
    {
     "name": "stdout",
     "output_type": "stream",
     "text": [
      "He guesses! Epoch 0.\n",
      "He guesses! Epoch 1.\n",
      "He guesses! Epoch 2.\n",
      "He guesses! Epoch 3.\n",
      "He guesses! Epoch 4.\n"
     ]
    },
    {
     "data": {
      "text/plain": [
       "10"
      ]
     },
     "execution_count": 8,
     "metadata": {},
     "output_type": "execute_result"
    }
   ],
   "source": [
    "class CallBack():\n",
    "    def __init__(self, explaination):\n",
    "        self.explaination = explaination\n",
    "        \n",
    "    def __call__(self, epoch):\n",
    "        print(f\"{self.explaination} Epoch {epoch}.\")\n",
    "        \n",
    "cb = CallBack(\"He guesses!\")\n",
    "\n",
    "slow_calculation(cb)"
   ]
  },
  {
   "cell_type": "markdown",
   "id": "ec4de4ce",
   "metadata": {},
   "source": [
    "### Multiple callback funcs; `*args` and `**kwargs`"
   ]
  },
  {
   "cell_type": "code",
   "execution_count": 9,
   "id": "d1c5e27a",
   "metadata": {},
   "outputs": [
    {
     "name": "stdout",
     "output_type": "stream",
     "text": [
      "2\n",
      "3\n",
      "b\n",
      "c\n",
      "d\n"
     ]
    }
   ],
   "source": [
    "def my_function(a, *arguments):\n",
    "    for arg in arguments:\n",
    "        print(arg)\n",
    "        \n",
    "my_function(1, 2, 3) # Output: 1 2 3\n",
    "my_function('a', 'b', 'c', 'd') # Output: a b c d"
   ]
  },
  {
   "cell_type": "code",
   "execution_count": 10,
   "id": "fe9a5df4",
   "metadata": {},
   "outputs": [
    {
     "name": "stdout",
     "output_type": "stream",
     "text": [
      "a 1\n",
      "b 2\n",
      "c 3\n"
     ]
    }
   ],
   "source": [
    "def my_function(**kwargs):\n",
    "    for k, v in kwargs.items():\n",
    "        print(k, v)\n",
    "        \n",
    "my_function(a=1, b=2, c=3) # Output: 1 2 3"
   ]
  },
  {
   "cell_type": "code",
   "execution_count": 11,
   "id": "7ffa3b41",
   "metadata": {},
   "outputs": [
    {
     "name": "stdout",
     "output_type": "stream",
     "text": [
      "a\n",
      "b\n",
      "c\n",
      "a 1\n",
      "b 2\n",
      "c 3\n"
     ]
    }
   ],
   "source": [
    "def my_function(*args, **kwargs):\n",
    "    for v in args:\n",
    "        print(v)\n",
    "    for k, v in kwargs.items():\n",
    "        print(k, v)\n",
    "        \n",
    "my_function('a', 'b', 'c', a=1, b=2, c=3) # Output: 1 2 3"
   ]
  },
  {
   "cell_type": "code",
   "execution_count": 12,
   "id": "10838562",
   "metadata": {},
   "outputs": [],
   "source": [
    "# using *args, **kwargs to put general parameters in callbacks"
   ]
  },
  {
   "cell_type": "code",
   "execution_count": 13,
   "id": "a1ab8194",
   "metadata": {},
   "outputs": [
    {
     "data": {
      "text/plain": [
       "10"
      ]
     },
     "execution_count": 13,
     "metadata": {},
     "output_type": "execute_result"
    }
   ],
   "source": [
    "class CallBack():\n",
    "    def __init__(self, *args, **kwargs):\n",
    "        self.args = args\n",
    "        self.kwargs = kwargs\n",
    "        \n",
    "    def before_epoch(self, *args, **kwargs): pass\n",
    "    \n",
    "    def after_epoch(self, *args, **kwargs): pass\n",
    "    \n",
    "def slow_calculation(cb=None, n=5):\n",
    "    c = 0\n",
    "    for i in range(5):\n",
    "        if cb: cb.before_epoch()\n",
    "        sleep(1)\n",
    "        c+=2\n",
    "        if cb: cb.after_epoch()\n",
    "    return c\n",
    "\n",
    "cb = CallBack()\n",
    "\n",
    "slow_calculation(cb)"
   ]
  },
  {
   "cell_type": "markdown",
   "id": "4135503d",
   "metadata": {},
   "source": [
    "### Using CallBack to modify behavior"
   ]
  },
  {
   "cell_type": "code",
   "execution_count": 14,
   "id": "ea04d8e1",
   "metadata": {},
   "outputs": [
    {
     "name": "stdout",
     "output_type": "stream",
     "text": [
      "Before Epoch 0\n",
      "After! Value 2\n",
      "Before Epoch 1\n",
      "After! Value 4\n",
      "Before Epoch 2\n",
      "After! Value 6\n",
      "Early stopping!\n"
     ]
    },
    {
     "data": {
      "text/plain": [
       "6"
      ]
     },
     "execution_count": 14,
     "metadata": {},
     "output_type": "execute_result"
    }
   ],
   "source": [
    "class PrintStepCallBack(CallBack):\n",
    "    def before_epoch(self, epoch, *args, **kwargs): print(f\"Before Epoch {epoch}\")\n",
    "    def after_epoch(self, value, *args, **kwargs):\n",
    "        print(f\"After! Value {value}\")\n",
    "        if value > 5: return True\n",
    "        return False\n",
    "\n",
    "def slow_calculation(cb=None, n=5):\n",
    "    c = 0\n",
    "    for i in range(10):\n",
    "        if cb: cb.before_epoch(i)\n",
    "        sleep(1)\n",
    "        c+=2\n",
    "        if cb: \n",
    "            if cb.after_epoch(c):\n",
    "                print(\"Early stopping!\")\n",
    "                break\n",
    "    return c\n",
    "\n",
    "cb = PrintStepCallBack()\n",
    "\n",
    "slow_calculation(cb)"
   ]
  },
  {
   "cell_type": "code",
   "execution_count": 15,
   "id": "73d3eeec",
   "metadata": {},
   "outputs": [
    {
     "name": "stdout",
     "output_type": "stream",
     "text": [
      "After! Value 2\n",
      "After! Value 4\n",
      "After! Value 6\n",
      "Early stopping!\n"
     ]
    },
    {
     "data": {
      "text/plain": [
       "6"
      ]
     },
     "execution_count": 15,
     "metadata": {},
     "output_type": "execute_result"
    }
   ],
   "source": [
    "class PrintStepCallBack():\n",
    "    def after_epoch(self, value, *args, **kwargs):\n",
    "        print(f\"After! Value {value}\")\n",
    "        if value > 5: return True\n",
    "        return False\n",
    "\n",
    "def slow_calculation(cb=None, n=5):\n",
    "    c = 0\n",
    "    for i in range(10):\n",
    "        if cb and hasattr(cb, 'before_epoch'): cb.before_epoch(i)\n",
    "        sleep(1)\n",
    "        c+=2\n",
    "        if cb and hasattr(cb, 'after_epoch'): \n",
    "            if cb.after_epoch(c):\n",
    "                print(\"Early stopping!\")\n",
    "                break\n",
    "    return c\n",
    "\n",
    "cb = PrintStepCallBack()\n",
    "\n",
    "slow_calculation(cb)"
   ]
  },
  {
   "cell_type": "markdown",
   "id": "05cfc94e",
   "metadata": {},
   "source": [
    "### define abitrary cb name to adapt the change in future"
   ]
  },
  {
   "cell_type": "code",
   "execution_count": 16,
   "id": "3e90a01f",
   "metadata": {},
   "outputs": [
    {
     "name": "stdout",
     "output_type": "stream",
     "text": [
      "After! Value 3\n"
     ]
    },
    {
     "data": {
      "text/plain": [
       "False"
      ]
     },
     "execution_count": 16,
     "metadata": {},
     "output_type": "execute_result"
    }
   ],
   "source": [
    "class CallBack():\n",
    "    def callback(self, name, *args, **kwargs):\n",
    "        cb = getattr(self, name, None)\n",
    "        if cb: return cb(*args, **kwargs)\n",
    "        else: return None\n",
    "    \n",
    "    def after_epoch(self, value, *args, **kwargs):\n",
    "        print(f\"After! Value {value}\")\n",
    "        if value > 5: return True\n",
    "        return False\n",
    "\n",
    "cb = CallBack()\n",
    "\n",
    "\n",
    "cb.callback('a', 3, c=4)\n",
    "\n",
    "cb.callback('after_epoch', 3, c=4)"
   ]
  },
  {
   "cell_type": "code",
   "execution_count": 17,
   "id": "77e7b997",
   "metadata": {},
   "outputs": [
    {
     "name": "stdout",
     "output_type": "stream",
     "text": [
      "After! Value 2\n",
      "After! Value 4\n",
      "After! Value 6\n",
      "Early stopping!\n"
     ]
    },
    {
     "data": {
      "text/plain": [
       "6"
      ]
     },
     "execution_count": 17,
     "metadata": {},
     "output_type": "execute_result"
    }
   ],
   "source": [
    "slow_calculation(cb)"
   ]
  },
  {
   "cell_type": "code",
   "execution_count": 22,
   "id": "9e5b3650",
   "metadata": {},
   "outputs": [
    {
     "name": "stdout",
     "output_type": "stream",
     "text": [
      "After! Value 2\n",
      "After! Value 4\n",
      "After! Value 6\n",
      "Early stopping!\n"
     ]
    },
    {
     "data": {
      "text/plain": [
       "6"
      ]
     },
     "execution_count": 22,
     "metadata": {},
     "output_type": "execute_result"
    }
   ],
   "source": [
    "class CallBack():\n",
    "    def callback(self, name, *args, **kwargs):\n",
    "        cb = getattr(self, name, None)\n",
    "        if cb: return cb(*args, **kwargs)\n",
    "        else: return None\n",
    "    \n",
    "    def after_epoch(self, value, *args, **kwargs):\n",
    "        print(f\"After! Value {value}\")\n",
    "        if value > 5: return True\n",
    "        return False\n",
    "\n",
    "cb = CallBack()\n",
    "\n",
    "def slow_calculation(cb=None, n=10):\n",
    "    c = 0\n",
    "    for i in range(n):\n",
    "        cb.callback(\"before_epoch\", i)\n",
    "        sleep(1)\n",
    "        c+=2\n",
    "        if cb.callback(\"after_epoch\", c):\n",
    "            print(\"Early stopping!\")\n",
    "            break\n",
    "    return c\n",
    "\n",
    "slow_calculation(cb)"
   ]
  },
  {
   "cell_type": "markdown",
   "id": "c83fa5db",
   "metadata": {},
   "source": [
    "### inject callback into class to modify value from class"
   ]
  },
  {
   "cell_type": "code",
   "execution_count": 40,
   "id": "dc482258",
   "metadata": {
    "scrolled": true
   },
   "outputs": [
    {
     "name": "stdout",
     "output_type": "stream",
     "text": [
      "Epoch 0!\n",
      "After! Value 2.1\n",
      "Epoch 1!\n",
      "After! Value 4.2\n",
      "Epoch 2!\n",
      "After! Value 6.2\n",
      "Early stopping!\n"
     ]
    },
    {
     "data": {
      "text/plain": [
       "6.2"
      ]
     },
     "execution_count": 40,
     "metadata": {},
     "output_type": "execute_result"
    }
   ],
   "source": [
    "class CallBack():\n",
    "    def callback(self, name, *args, **kwargs):\n",
    "        cb = getattr(self, name, None)\n",
    "        if cb: return cb(*args, **kwargs)\n",
    "        else: return None\n",
    "    \n",
    "    def before_epoch(self, cals, i):\n",
    "        print(f\"Epoch {i}!\")\n",
    "        if cals.value < 4:\n",
    "            cals.value += 0.1\n",
    "    \n",
    "    def after_epoch(self, cals, *args, **kwargs):\n",
    "        print(f\"After! Value {cals.value}\")\n",
    "        if cals.value > 5: return True\n",
    "        return False\n",
    "    \n",
    "class SlowCalculation():\n",
    "    def __init__(self, cb=None, epoch=10):\n",
    "        self.cb, self.epoch, self.value = cb, epoch, 0\n",
    "        \n",
    "    def callback(self, name, *args, **kwargs):\n",
    "        if self.cb: cb = getattr(self.cb, name, None)\n",
    "        if cb: return cb(self, *args, **kwargs)\n",
    "        else: return None\n",
    "\n",
    "    def slow_calculation(self):\n",
    "        for i in range(self.epoch):\n",
    "            self.callback(\"before_epoch\", i)\n",
    "            sleep(1)\n",
    "            self.value += 2\n",
    "            if self.callback(\"after_epoch\"):\n",
    "                print(\"Early stopping!\")\n",
    "                break\n",
    "    \n",
    "cb = CallBack()\n",
    "\n",
    "cals = SlowCalculation(cb)\n",
    "\n",
    "cals.slow_calculation()\n",
    "\n",
    "cals.value"
   ]
  },
  {
   "cell_type": "markdown",
   "id": "a7de18e9",
   "metadata": {},
   "source": [
    "### `__dunder__` thingies"
   ]
  },
  {
   "cell_type": "code",
   "execution_count": null,
   "id": "02b8d82a",
   "metadata": {},
   "outputs": [],
   "source": [
    "# __getitem__\n",
    "# __getattr__\n",
    "# __setattr__\n",
    "# __del__\n",
    "# __init__\n",
    "# __new__\n",
    "# __enter__\n",
    "# __exit__\n",
    "# __len__\n",
    "# __repr__\n",
    "# __str__"
   ]
  },
  {
   "cell_type": "code",
   "execution_count": 77,
   "id": "2a3f5ea8",
   "metadata": {},
   "outputs": [
    {
     "name": "stdout",
     "output_type": "stream",
     "text": [
      "[0, 1, 2]\n",
      "[2]\n",
      "2\n",
      "Hello!\n"
     ]
    },
    {
     "data": {
      "text/plain": [
       "Basic"
      ]
     },
     "execution_count": 77,
     "metadata": {},
     "output_type": "execute_result"
    }
   ],
   "source": [
    "class Basic():\n",
    "    def __init__(self, xs):\n",
    "        self.xs = xs\n",
    "        self.default_value = [2]\n",
    "    # __getitem__\n",
    "    def __getitem__(self, i):\n",
    "        return self.xs[i]\n",
    "    \n",
    "    def __getattr__(self, name):\n",
    "        if name in self.__dict__:\n",
    "            return self.__dict__[name]\n",
    "        else:\n",
    "            return self.default_value\n",
    "    \n",
    "    def __setattr__(self, name, value):\n",
    "        self.__dict__[name] = value\n",
    "    \n",
    "    def __repr__(self):\n",
    "        return 'Basic'\n",
    "    \n",
    "    def __str__(self):\n",
    "        return \"Hello!\"\n",
    "\n",
    "X = Basic(list(range(100)))\n",
    "assert X[0] == 0\n",
    "assert X[10] == 10\n",
    "xs = getattr(X, 'xs')\n",
    "print(xs[0:3])\n",
    "xs = getattr(X, 'xs3')\n",
    "print(xs)\n",
    "X.abc = 2\n",
    "print(getattr(X, 'abc'))\n",
    "print(X)\n",
    "X"
   ]
  }
 ],
 "metadata": {
  "kernelspec": {
   "display_name": "Python 3 (ipykernel)",
   "language": "python",
   "name": "python3"
  },
  "language_info": {
   "codemirror_mode": {
    "name": "ipython",
    "version": 3
   },
   "file_extension": ".py",
   "mimetype": "text/x-python",
   "name": "python",
   "nbconvert_exporter": "python",
   "pygments_lexer": "ipython3",
   "version": "3.8.12"
  }
 },
 "nbformat": 4,
 "nbformat_minor": 5
}
