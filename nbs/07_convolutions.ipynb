{
 "cells": [
  {
   "cell_type": "code",
   "execution_count": 1,
   "id": "3cdfee26",
   "metadata": {},
   "outputs": [],
   "source": [
    "#|default_exp conv"
   ]
  },
  {
   "cell_type": "markdown",
   "id": "7dabcbf0",
   "metadata": {},
   "source": [
    "https://www.youtube.com/watch?v=0Hi2r4CaHvk&t=154s"
   ]
  },
  {
   "cell_type": "markdown",
   "id": "ec8b4880",
   "metadata": {},
   "source": [
    "## Convolution"
   ]
  },
  {
   "cell_type": "code",
   "execution_count": 2,
   "id": "3fe3c851",
   "metadata": {},
   "outputs": [
    {
     "name": "stdout",
     "output_type": "stream",
     "text": [
      "/home/admin/projects/learn_miniai\n"
     ]
    }
   ],
   "source": [
    "cd /home/admin/projects/learn_miniai/"
   ]
  },
  {
   "cell_type": "code",
   "execution_count": 3,
   "id": "1a8b6aac",
   "metadata": {},
   "outputs": [],
   "source": [
    "#|export\n",
    "import torch\n",
    "from torch import nn, tensor\n",
    "from torch.functional import F\n",
    "\n",
    "from pathlib import Path\n",
    "import gzip, pickle\n",
    "\n",
    "from torch.utils.data import default_collate\n",
    "from typing import Mapping\n",
    "\n",
    "from miniai.training import Dataset, get_dls, fit, collate_device, def_device\n",
    "from miniai.datasets import show_images"
   ]
  },
  {
   "cell_type": "markdown",
   "id": "e6051b9b",
   "metadata": {},
   "source": [
    "### Load mmist data"
   ]
  },
  {
   "cell_type": "code",
   "execution_count": 4,
   "id": "837e7eb7",
   "metadata": {},
   "outputs": [
    {
     "data": {
      "text/plain": [
       "(torch.Size([50000, 784]), torch.Size([50000]))"
      ]
     },
     "execution_count": 4,
     "metadata": {},
     "output_type": "execute_result"
    }
   ],
   "source": [
    "data_path = Path('/home/admin/projects/learn_miniai/nbs/data')\n",
    "data_fn = data_path/'mnist.pkl.gz'\n",
    "\n",
    "with gzip.open(data_fn) as f:\n",
    "    (x_train, y_train), (x_val, y_val), _ = pickle.load(f, encoding='latin')\n",
    "\n",
    "x_train, y_train, x_val, y_val = map(tensor, (x_train, y_train, x_val, y_val,))\n",
    "x_train.shape, y_train.shape"
   ]
  },
  {
   "cell_type": "code",
   "execution_count": 5,
   "id": "f61dbb40",
   "metadata": {},
   "outputs": [],
   "source": [
    "x_train, x_val = x_train.reshape(-1, 1, 28, 28), x_val.reshape(-1, 1, 28, 28)"
   ]
  },
  {
   "cell_type": "code",
   "execution_count": 6,
   "id": "899e6b18",
   "metadata": {},
   "outputs": [],
   "source": [
    "train_ds, val_ds = Dataset(x_train, y_train), Dataset(x_val, y_val)"
   ]
  },
  {
   "cell_type": "code",
   "execution_count": 7,
   "id": "cc16aa5a",
   "metadata": {},
   "outputs": [],
   "source": [
    "train_dl, val_dl = get_dls(train_ds, val_ds, 9)"
   ]
  },
  {
   "cell_type": "code",
   "execution_count": 8,
   "id": "82ec56ce",
   "metadata": {},
   "outputs": [],
   "source": [
    "xb, yb = next(iter(train_dl))"
   ]
  },
  {
   "cell_type": "code",
   "execution_count": 9,
   "id": "b713c718",
   "metadata": {},
   "outputs": [
    {
     "data": {
      "text/plain": [
       "torch.Size([9, 1, 28, 28])"
      ]
     },
     "execution_count": 9,
     "metadata": {},
     "output_type": "execute_result"
    }
   ],
   "source": [
    "xb.shape"
   ]
  },
  {
   "cell_type": "code",
   "execution_count": 10,
   "id": "3f9b3622",
   "metadata": {
    "scrolled": true
   },
   "outputs": [
    {
     "data": {
      "image/png": "[encoded data removed]",
      "text/plain": [
       "<Figure size 600x600 with 9 Axes>"
      ]
     },
     "metadata": {},
     "output_type": "display_data"
    }
   ],
   "source": [
    "show_images(xb, yb)"
   ]
  },
  {
   "cell_type": "markdown",
   "id": "b57684fa",
   "metadata": {},
   "source": [
    "## Model"
   ]
  },
  {
   "cell_type": "code",
   "execution_count": 11,
   "id": "03ecf5cc",
   "metadata": {},
   "outputs": [],
   "source": [
    "#|export\n",
    "def conv(ni, nf, ks=3, stride=2, act=True):\n",
    "    res = nn.Conv2d(ni, nf, stride=stride, kernel_size=ks, padding=ks//2)\n",
    "    if act == True: res = nn.Sequential(res, nn.ReLU())\n",
    "    return res"
   ]
  },
  {
   "cell_type": "code",
   "execution_count": 12,
   "id": "d4840027",
   "metadata": {},
   "outputs": [],
   "source": [
    "# model\n",
    "simple_conv = nn.Sequential(\n",
    "    conv(1, 4), # 14, 14\n",
    "    conv(4, 8), # 7, 7\n",
    "    conv(8, 16), # 4, 4\n",
    "    conv(16, 16), # 2, 2\n",
    "    conv(16, 10, act=False),\n",
    "    nn.Flatten()\n",
    ")\n",
    "y_pred = simple_conv(xb)"
   ]
  },
  {
   "cell_type": "code",
   "execution_count": 13,
   "id": "d14c096a",
   "metadata": {},
   "outputs": [],
   "source": [
    "# loss_func\n",
    "loss_func = F.cross_entropy"
   ]
  },
  {
   "cell_type": "code",
   "execution_count": 14,
   "id": "9595283c",
   "metadata": {},
   "outputs": [],
   "source": [
    "# opt\n",
    "opt = torch.optim.Adam(list(simple_conv.parameters()))"
   ]
  },
  {
   "cell_type": "markdown",
   "id": "4d514434",
   "metadata": {},
   "source": [
    "## Fit"
   ]
  },
  {
   "cell_type": "code",
   "execution_count": 15,
   "id": "3e472323",
   "metadata": {},
   "outputs": [],
   "source": [
    "train_dl, val_dl = get_dls(train_ds, val_ds, 9)"
   ]
  },
  {
   "cell_type": "code",
   "execution_count": 16,
   "id": "31b6741a",
   "metadata": {},
   "outputs": [],
   "source": [
    "# %time fit(1, simple_conv, loss_func, opt, train_dl, val_dl)\n",
    "# user 2min 26s"
   ]
  },
  {
   "cell_type": "code",
   "execution_count": 17,
   "id": "0c9477cf",
   "metadata": {},
   "outputs": [],
   "source": [
    "train_dl, val_dl = get_dls(train_ds, val_ds, 9, collate_device)"
   ]
  },
  {
   "cell_type": "code",
   "execution_count": 18,
   "id": "1c3666a1",
   "metadata": {},
   "outputs": [
    {
     "name": "stdout",
     "output_type": "stream",
     "text": [
      "Loss 0.0085. Acc = 0.95\n",
      "CPU times: user 12.9 s, sys: 468 ms, total: 13.3 s\n",
      "Wall time: 13.2 s\n"
     ]
    }
   ],
   "source": [
    "%time fit(1, simple_conv.to(def_device), loss_func, opt, train_dl, val_dl)\n",
    "# 12.2 s"
   ]
  },
  {
   "cell_type": "code",
   "execution_count": 19,
   "id": "46ca187a",
   "metadata": {},
   "outputs": [],
   "source": [
    "import nbdev; nbdev.nbdev_export()"
   ]
  }
 ],
 "metadata": {
  "kernelspec": {
   "display_name": "Python 3 (ipykernel)",
   "language": "python",
   "name": "python3"
  },
  "language_info": {
   "codemirror_mode": {
    "name": "ipython",
    "version": 3
   },
   "file_extension": ".py",
   "mimetype": "text/x-python",
   "name": "python",
   "nbconvert_exporter": "python",
   "pygments_lexer": "ipython3",
   "version": "3.8.12"
  }
 },
 "nbformat": 4,
 "nbformat_minor": 5
}
