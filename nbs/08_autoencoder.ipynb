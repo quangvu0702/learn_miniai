{
 "cells": [
  {
   "cell_type": "code",
   "execution_count": 1,
   "id": "0f8d9601",
   "metadata": {},
   "outputs": [
    {
     "name": "stdout",
     "output_type": "stream",
     "text": [
      "/home/admin/projects/learn_miniai\n"
     ]
    }
   ],
   "source": [
    "cd /home/admin/projects/learn_miniai/"
   ]
  },
  {
   "cell_type": "code",
   "execution_count": 2,
   "id": "69a4361d",
   "metadata": {},
   "outputs": [],
   "source": [
    "from datasets import load_dataset\n",
    "import torch\n",
    "from torch.utils.data import DataLoader, default_collate\n",
    "from torch import tensor\n",
    "import torchvision.transforms.functional as TF\n",
    "\n",
    "from miniai.datasets import inplace\n",
    "from miniai.datasets import show_images\n",
    "from miniai.training import get_dls\n",
    "from miniai.training import to_device"
   ]
  },
  {
   "cell_type": "code",
   "execution_count": 3,
   "id": "2292c3b3",
   "metadata": {},
   "outputs": [
    {
     "name": "stdout",
     "output_type": "stream",
     "text": [
      "\u001b[0m\u001b[01;34mminiai\u001b[0m/  \u001b[01;34mnbs\u001b[0m/  settings.ini\r\n"
     ]
    }
   ],
   "source": [
    "ls"
   ]
  },
  {
   "cell_type": "markdown",
   "id": "4d986443",
   "metadata": {},
   "source": [
    "## Review data"
   ]
  },
  {
   "cell_type": "code",
   "execution_count": 4,
   "id": "5aa97128",
   "metadata": {},
   "outputs": [
    {
     "name": "stderr",
     "output_type": "stream",
     "text": [
      "Found cached dataset fashion_mnist (/home/admin/.cache/huggingface/datasets/fashion_mnist/fashion_mnist/1.0.0/0a671f063342996f19779d38c0ab4abef9c64f757b35af8134b331c294d7ba48)\n"
     ]
    },
    {
     "data": {
      "application/vnd.jupyter.widget-view+json": {
       "model_id": "6b43868cee34489c9a59ea3e1a5680a7",
       "version_major": 2,
       "version_minor": 0
      },
      "text/plain": [
       "  0%|          | 0/2 [00:00<?, ?it/s]"
      ]
     },
     "metadata": {},
     "output_type": "display_data"
    }
   ],
   "source": [
    "x, y = 'image', 'label'\n",
    "name = 'fashion_mnist'\n",
    "dataset = load_dataset(name)"
   ]
  },
  {
   "cell_type": "code",
   "execution_count": 5,
   "id": "c83594be",
   "metadata": {},
   "outputs": [],
   "source": [
    "train_ds, val_ds = dataset['train'], dataset['test']\n",
    "\n",
    "featy = train_ds.features[y]"
   ]
  },
  {
   "cell_type": "code",
   "execution_count": null,
   "id": "14918f34",
   "metadata": {},
   "outputs": [],
   "source": []
  },
  {
   "cell_type": "code",
   "execution_count": 6,
   "id": "e7df487f",
   "metadata": {},
   "outputs": [
    {
     "data": {
      "image/png": "[encoded data removed]",
      "text/plain": [
       "<PIL.PngImagePlugin.PngImageFile image mode=L size=28x28 at 0x7F08D4974B20>"
      ]
     },
     "execution_count": 6,
     "metadata": {},
     "output_type": "execute_result"
    }
   ],
   "source": [
    "image, label = train_ds[0].values()\n",
    "image"
   ]
  },
  {
   "cell_type": "code",
   "execution_count": 7,
   "id": "152beeda",
   "metadata": {},
   "outputs": [
    {
     "data": {
      "text/plain": [
       "{'image': <PIL.PngImagePlugin.PngImageFile image mode=L size=28x28 at 0x7F08D1E5B550>,\n",
       " 'label': 9}"
      ]
     },
     "execution_count": 7,
     "metadata": {},
     "output_type": "execute_result"
    }
   ],
   "source": [
    "train_ds[0]"
   ]
  },
  {
   "cell_type": "code",
   "execution_count": 8,
   "id": "801d0d99",
   "metadata": {},
   "outputs": [],
   "source": [
    "featy = train_ds.features[y]"
   ]
  },
  {
   "cell_type": "code",
   "execution_count": 9,
   "id": "2d7fa5f1",
   "metadata": {
    "scrolled": true
   },
   "outputs": [
    {
     "data": {
      "text/plain": [
       "'Ankle boot'"
      ]
     },
     "execution_count": 9,
     "metadata": {},
     "output_type": "execute_result"
    }
   ],
   "source": [
    "featy.int2str(label)"
   ]
  },
  {
   "cell_type": "code",
   "execution_count": 10,
   "id": "ea2bf060",
   "metadata": {},
   "outputs": [
    {
     "data": {
      "text/plain": [
       "10"
      ]
     },
     "execution_count": 10,
     "metadata": {},
     "output_type": "execute_result"
    }
   ],
   "source": [
    "len(featy.names)"
   ]
  },
  {
   "cell_type": "code",
   "execution_count": 11,
   "id": "b58d32d9",
   "metadata": {},
   "outputs": [],
   "source": [
    "@inplace\n",
    "def image_2_tensor(b):\n",
    "    for o in b:\n",
    "        o[x] = TF.to_tensor(o[x])\n",
    "        o[y] = tensor(o[y])\n",
    "\n",
    "def collate_fn(b): \n",
    "    b = to_device(default_collate(image_2_tensor(b)))\n",
    "    return b[x], b[y]"
   ]
  },
  {
   "cell_type": "code",
   "execution_count": 12,
   "id": "a67145cb",
   "metadata": {},
   "outputs": [],
   "source": [
    "train_dl, val_dl = get_dls(train_ds, val_ds, bs=50, collate_fn=collate_fn)"
   ]
  },
  {
   "cell_type": "code",
   "execution_count": 13,
   "id": "5fefde63",
   "metadata": {},
   "outputs": [],
   "source": [
    "xb, yb = next(iter(train_dl))"
   ]
  },
  {
   "cell_type": "code",
   "execution_count": 14,
   "id": "de622b87",
   "metadata": {},
   "outputs": [
    {
     "data": {
      "text/plain": [
       "(torch.Size([50, 1, 28, 28]), torch.Size([50]))"
      ]
     },
     "execution_count": 14,
     "metadata": {},
     "output_type": "execute_result"
    }
   ],
   "source": [
    "xb.shape, yb.shape"
   ]
  },
  {
   "cell_type": "code",
   "execution_count": 15,
   "id": "b95f731b",
   "metadata": {},
   "outputs": [
    {
     "data": {
      "image/png": "[encoded data removed]",
      "text/plain": [
       "<Figure size 600x600 with 9 Axes>"
      ]
     },
     "metadata": {},
     "output_type": "display_data"
    }
   ],
   "source": [
    "show_images(xb[0:9].to('cpu'), titles=[featy.int2str(i.item()) for i in yb])"
   ]
  },
  {
   "cell_type": "markdown",
   "id": "cdc68496",
   "metadata": {},
   "source": [
    "## Warm up classify"
   ]
  },
  {
   "cell_type": "code",
   "execution_count": 16,
   "id": "911bf2e4",
   "metadata": {},
   "outputs": [],
   "source": [
    "from miniai.conv import conv\n",
    "from torch import nn\n",
    "from miniai.training import fit\n",
    "from miniai.training import def_device\n",
    "from torch import optim\n",
    "\n",
    "bs = 256\n",
    "lr = 0.4"
   ]
  },
  {
   "cell_type": "code",
   "execution_count": 17,
   "id": "6cc503aa",
   "metadata": {},
   "outputs": [
    {
     "data": {
      "text/plain": [
       "torch.Size([50, 10])"
      ]
     },
     "execution_count": 17,
     "metadata": {},
     "output_type": "execute_result"
    }
   ],
   "source": [
    "model = nn.Sequential(conv(1,4), #14x14\n",
    "                      conv(4,8), #7x7\n",
    "                      conv(8,16), #4x4\n",
    "                      conv(16,16), #2x2\n",
    "                      conv(16,10, act=False), #2x2\n",
    "                      nn.Flatten()\n",
    "                     ).to(def_device)\n",
    "model(xb).shape"
   ]
  },
  {
   "cell_type": "code",
   "execution_count": 18,
   "id": "936a4434",
   "metadata": {},
   "outputs": [],
   "source": [
    "epoch = 3\n",
    "loss_func = nn.CrossEntropyLoss()\n",
    "opt = optim.SGD(model.parameters(), lr=lr)\n",
    "train_dl, val_dl = get_dls(train_ds, val_ds, bs=bs, collate_fn=collate_fn)"
   ]
  },
  {
   "cell_type": "code",
   "execution_count": 19,
   "id": "10fe2ad4",
   "metadata": {},
   "outputs": [
    {
     "name": "stdout",
     "output_type": "stream",
     "text": [
      "Loss 0.0017. Acc = 0.68\n",
      "Loss 0.0011. Acc = 0.79\n",
      "Loss 0.0010. Acc = 0.82\n"
     ]
    }
   ],
   "source": [
    "fit(epoch, model, loss_func, opt, train_dl, val_dl)"
   ]
  },
  {
   "cell_type": "markdown",
   "id": "f490af4b",
   "metadata": {},
   "source": [
    "## Auto-encoder"
   ]
  },
  {
   "cell_type": "code",
   "execution_count": 20,
   "id": "73df55d2",
   "metadata": {},
   "outputs": [],
   "source": [
    "import torch.nn as nn\n",
    "import torch.nn.functional as F"
   ]
  },
  {
   "cell_type": "code",
   "execution_count": 21,
   "id": "b57b8a96",
   "metadata": {},
   "outputs": [],
   "source": [
    "def deconv(ni, nf, ks=3, stride=1, act=True):\n",
    "    layers = [nn.UpsamplingNearest2d(scale_factor=2),\n",
    "              nn.Conv2d(ni, nf, stride=stride, kernel_size=ks, padding=ks//2)]\n",
    "    if act == True: layers.append(nn.ReLU())\n",
    "    return nn.Sequential(*layers)"
   ]
  },
  {
   "cell_type": "code",
   "execution_count": 22,
   "id": "8d541e50",
   "metadata": {},
   "outputs": [
    {
     "data": {
      "text/plain": [
       "torch.Size([50, 1, 28, 28])"
      ]
     },
     "execution_count": 22,
     "metadata": {},
     "output_type": "execute_result"
    }
   ],
   "source": [
    "model = nn.Sequential(                 #28x28\n",
    "                      nn.ZeroPad2d(2), #32x32\n",
    "                      conv(1,2), #16x16\n",
    "                      conv(2,4), #8x8\n",
    "#                       conv(4,8), #4x4\n",
    "#                       deconv(8,4), #8x8\n",
    "                      deconv(4,2), #16x16\n",
    "                      deconv(2,1, act=False), #8x8\n",
    "                      nn.ZeroPad2d(-2),\n",
    "                      nn.Sigmoid()\n",
    "                     ).to(def_device)\n",
    "model(xb).shape"
   ]
  },
  {
   "cell_type": "code",
   "execution_count": 23,
   "id": "dabcf139",
   "metadata": {},
   "outputs": [],
   "source": [
    "epoch = 5\n",
    "lr = 0.04\n",
    "loss_func = nn.MSELoss()\n",
    "opt = optim.AdamW(model.parameters(), lr=lr)\n",
    "train_dl, val_dl = get_dls(train_ds, val_ds, bs=bs, collate_fn=collate_fn)"
   ]
  },
  {
   "cell_type": "code",
   "execution_count": 24,
   "id": "9307d754",
   "metadata": {},
   "outputs": [
    {
     "name": "stdout",
     "output_type": "stream",
     "text": [
      "0.1680\n"
     ]
    }
   ],
   "source": [
    "import numpy as np\n",
    "\n",
    "def eval(model, dl, loss_func):\n",
    "    total_loss = []\n",
    "    model.eval()\n",
    "    with torch.no_grad():\n",
    "        for xb, yb in dl:\n",
    "            pred = model(xb)\n",
    "            loss = loss_func(pred, xb)\n",
    "            total_loss.append(loss.item())\n",
    "    print(f\"{np.mean(total_loss):.4f}\")\n",
    "\n",
    "eval(model, val_dl, loss_func)"
   ]
  },
  {
   "cell_type": "code",
   "execution_count": 25,
   "id": "6156e230",
   "metadata": {},
   "outputs": [],
   "source": [
    "def fit(epoch, model, loss_func, opt, train_dl, val_dl):\n",
    "    for _ in range(epoch):\n",
    "        model.train()\n",
    "        for xb, yb in train_dl:\n",
    "            pred = model(xb)\n",
    "            loss = loss_func(pred, xb)\n",
    "            loss.backward()\n",
    "            opt.step()\n",
    "            opt.zero_grad()\n",
    "        eval(model, val_dl, loss_func)"
   ]
  },
  {
   "cell_type": "code",
   "execution_count": null,
   "id": "b7a6b4a2",
   "metadata": {},
   "outputs": [
    {
     "name": "stdout",
     "output_type": "stream",
     "text": [
      "0.0420\n"
     ]
    }
   ],
   "source": [
    "opt = optim.SGD(model.parameters(), lr=0.1)\n",
    "fit(epoch, model, loss_func, opt, train_dl, val_dl)"
   ]
  },
  {
   "cell_type": "code",
   "execution_count": null,
   "id": "d75d875c",
   "metadata": {
    "scrolled": true
   },
   "outputs": [],
   "source": [
    "pred = model(xb)\n",
    "show_images(pred.detach()[0:9].to('cpu'), titles=[featy.int2str(i.item()) for i in yb])"
   ]
  },
  {
   "cell_type": "code",
   "execution_count": null,
   "id": "c9a48e3e",
   "metadata": {},
   "outputs": [],
   "source": [
    "opt = optim.SGD(model.parameters(), lr=0.01)\n",
    "fit(epoch, model, loss_func, opt, train_dl, val_dl)"
   ]
  },
  {
   "cell_type": "code",
   "execution_count": null,
   "id": "d81bc571",
   "metadata": {},
   "outputs": [],
   "source": [
    "pred = model(xb)\n",
    "show_images(pred.data[0:9].to('cpu'), titles=[featy.int2str(i.item()) for i in yb])"
   ]
  },
  {
   "cell_type": "code",
   "execution_count": null,
   "id": "ebfc8632",
   "metadata": {},
   "outputs": [],
   "source": [
    "show_images(xb[0:9].to('cpu'), titles=[featy.int2str(i.item()) for i in yb])"
   ]
  }
 ],
 "metadata": {
  "kernelspec": {
   "display_name": "Python 3 (ipykernel)",
   "language": "python",
   "name": "python3"
  },
  "language_info": {
   "codemirror_mode": {
    "name": "ipython",
    "version": 3
   },
   "file_extension": ".py",
   "mimetype": "text/x-python",
   "name": "python",
   "nbconvert_exporter": "python",
   "pygments_lexer": "ipython3",
   "version": "3.8.12"
  }
 },
 "nbformat": 4,
 "nbformat_minor": 5
}
