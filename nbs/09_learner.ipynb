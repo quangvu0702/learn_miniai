{
 "cells": [
  {
   "cell_type": "code",
   "execution_count": 1,
   "id": "c90888e7",
   "metadata": {},
   "outputs": [
    {
     "name": "stdout",
     "output_type": "stream",
     "text": [
      "/home/admin/projects/learn_miniai\n"
     ]
    }
   ],
   "source": [
    "cd /home/admin/projects/learn_miniai/"
   ]
  },
  {
   "cell_type": "code",
   "execution_count": 2,
   "id": "7cf28872",
   "metadata": {},
   "outputs": [],
   "source": [
    "#| default_exp learner"
   ]
  },
  {
   "cell_type": "code",
   "execution_count": 3,
   "id": "fc46f756",
   "metadata": {},
   "outputs": [],
   "source": [
    "from datasets import load_dataset\n",
    "import torch\n",
    "from torch.utils.data import DataLoader, default_collate\n",
    "from torch import tensor\n",
    "import torchvision.transforms.functional as TF\n",
    "\n",
    "from miniai.datasets import inplace\n",
    "from miniai.datasets import show_images\n",
    "from miniai.datasets import transforms\n",
    "from miniai.datasets import DataLoaders\n",
    "from miniai.training import get_dls\n",
    "from miniai.training import to_device\n",
    "from miniai.training import accuracy\n",
    "from operator import attrgetter\n",
    "\n",
    "from miniai.conv import conv\n",
    "from torch import nn\n",
    "from miniai.training import fit\n",
    "from miniai.training import def_device\n",
    "from torch import optim\n",
    "from functools import partial\n",
    "from collections.abc import Mapping"
   ]
  },
  {
   "cell_type": "code",
   "execution_count": 4,
   "id": "83f278d9",
   "metadata": {},
   "outputs": [
    {
     "data": {
      "text/plain": [
       "'cuda'"
      ]
     },
     "execution_count": 4,
     "metadata": {},
     "output_type": "execute_result"
    }
   ],
   "source": [
    "def_device"
   ]
  },
  {
   "cell_type": "code",
   "execution_count": 5,
   "id": "fc9ff7be",
   "metadata": {},
   "outputs": [],
   "source": [
    "class Learner():\n",
    "    def __init__(self, model, dls, loss_func, opt_func=optim.SGD, lr=0.1):\n",
    "        self.model, self.dls, self.loss_func, self.opt_func, self.lr = model, dls, loss_func, opt_func, lr\n",
    "        \n",
    "    def one_batch(self):\n",
    "        xb, yb = to_device(self.batch)\n",
    "        pred = self.model(xb)\n",
    "        loss = self.loss_func(pred, yb)\n",
    "        acc = accuracy(pred, yb)\n",
    "        if self.model.training:\n",
    "            loss.backward()\n",
    "            self.opt.step()\n",
    "            self.opt.zero_grad()\n",
    "        self.losses.append(loss.item())\n",
    "        self.accs.append(acc.item())\n",
    "        \n",
    "    def one_epoch(self, train):\n",
    "        self.losses, self.accs = [], []\n",
    "        self.model.training = train\n",
    "        dl = self.dls.train if self.model.training else self.dls.val\n",
    "        for self.i, self.batch in enumerate(dl):\n",
    "            self.one_batch()\n",
    "        print(f\"Epoch: {self.epoch}: Loss {sum(self.losses) / len(self.losses):.2f}. Acc {sum(self.accs) / len(self.accs):.2f}\")\n",
    "\n",
    "    def fit(self, n_epoch):\n",
    "        self.model.to(def_device)\n",
    "        self.opt = self.opt_func(self.model.parameters(), self.lr)\n",
    "        self.n_epochs = n_epoch\n",
    "        for self.epoch in range(n_epoch):\n",
    "            self.one_epoch(True)\n",
    "            with torch.no_grad(): self.one_epoch(False)"
   ]
  },
  {
   "cell_type": "code",
   "execution_count": 6,
   "id": "05762989",
   "metadata": {},
   "outputs": [
    {
     "name": "stderr",
     "output_type": "stream",
     "text": [
      "Found cached dataset fashion_mnist (/home/admin/.cache/huggingface/datasets/fashion_mnist/fashion_mnist/1.0.0/0a671f063342996f19779d38c0ab4abef9c64f757b35af8134b331c294d7ba48)\n"
     ]
    },
    {
     "data": {
      "application/vnd.jupyter.widget-view+json": {
       "model_id": "d4493fb16090455786d8688a46bf3cab",
       "version_major": 2,
       "version_minor": 0
      },
      "text/plain": [
       "  0%|          | 0/2 [00:00<?, ?it/s]"
      ]
     },
     "metadata": {},
     "output_type": "display_data"
    }
   ],
   "source": [
    "name = 'fashion_mnist'\n",
    "bs = 1024\n",
    "dataset = load_dataset(name).with_transform(transforms)\n",
    "dls = DataLoaders.from_dd(dataset, bs, num_workers=8)"
   ]
  },
  {
   "cell_type": "code",
   "execution_count": 7,
   "id": "e59eacdb",
   "metadata": {},
   "outputs": [],
   "source": [
    "def get_model():\n",
    "    return nn.Sequential(conv(1,4), #14x14\n",
    "                          conv(4,8), #7x7\n",
    "                          conv(8,32), #4x4\n",
    "                          conv(32,32), #2x2\n",
    "                          conv(32,10, act=False), #2x2\n",
    "                          nn.Flatten()\n",
    "                         )"
   ]
  },
  {
   "cell_type": "code",
   "execution_count": 8,
   "id": "f2465868",
   "metadata": {},
   "outputs": [],
   "source": [
    "model = get_model()"
   ]
  },
  {
   "cell_type": "code",
   "execution_count": 9,
   "id": "25afd8b2",
   "metadata": {},
   "outputs": [
    {
     "name": "stdout",
     "output_type": "stream",
     "text": [
      "Epoch: 0: Loss 2.30. Acc 0.10\n",
      "Epoch: 0: Loss 2.30. Acc 0.10\n",
      "Epoch: 1: Loss 2.30. Acc 0.12\n",
      "Epoch: 1: Loss 2.29. Acc 0.19\n",
      "Epoch: 2: Loss 2.20. Acc 0.24\n",
      "Epoch: 2: Loss 1.56. Acc 0.53\n",
      "Epoch: 3: Loss 1.15. Acc 0.59\n",
      "Epoch: 3: Loss 1.01. Acc 0.60\n",
      "Epoch: 4: Loss 0.84. Acc 0.69\n",
      "Epoch: 4: Loss 0.80. Acc 0.70\n",
      "Epoch: 5: Loss 0.74. Acc 0.72\n",
      "Epoch: 5: Loss 0.73. Acc 0.73\n",
      "Epoch: 6: Loss 0.70. Acc 0.74\n",
      "Epoch: 6: Loss 0.71. Acc 0.73\n",
      "Epoch: 7: Loss 0.66. Acc 0.75\n",
      "Epoch: 7: Loss 0.64. Acc 0.77\n"
     ]
    }
   ],
   "source": [
    "learner = Learner(model, dls, loss_func = nn.CrossEntropyLoss())\n",
    "\n",
    "learner.fit(8)"
   ]
  },
  {
   "cell_type": "markdown",
   "id": "4f58eed8",
   "metadata": {},
   "source": [
    "## Add callback"
   ]
  },
  {
   "cell_type": "code",
   "execution_count": 10,
   "id": "cc6c796d",
   "metadata": {},
   "outputs": [],
   "source": [
    "class CancelFitException(Exception): pass\n",
    "class CancelBatchException(Exception): pass\n",
    "class CancelEpochException(Exception): pass"
   ]
  },
  {
   "cell_type": "code",
   "execution_count": 11,
   "id": "acd21e87",
   "metadata": {},
   "outputs": [],
   "source": [
    "import time\n",
    "\n",
    "class Callback():\n",
    "    order = 0\n",
    "\n",
    "class CompletionCB(Callback):\n",
    "    def before_fit(self, learn): self.count = 0\n",
    "    def after_batch(self, learn): self.count += 1\n",
    "    def after_fit(self, learn): print(f\"There are total {self.count} batches!\")\n",
    "    def __repr__(self): return f\"CB.order_{self.order}. count {self.count}\"\n",
    "\n",
    "class TimeCB(Callback):\n",
    "    def before_fit(self, learn): self.start_time = time.time()\n",
    "    def after_fit(self, learn): print(f\"Elapsed time: {time.time() - self.start_time:.04f} seconds\")\n",
    "    def __repr__(self): return f\"CB.order_{self.order}\"\n",
    "    \n",
    "class HighOrder(Callback):\n",
    "    order = 10\n",
    "#     def before_fit(self, learn): self.count = 0\n",
    "#     def after_epoch(self, learn): self.count += 1\n",
    "#     def after_fit(self, learn): print(f\"There are total {self.count} epoch!\")\n",
    "    def __repr__(self): return f\"CB.order_{self.order}\""
   ]
  },
  {
   "cell_type": "code",
   "execution_count": 12,
   "id": "9eb7bc4c",
   "metadata": {},
   "outputs": [
    {
     "name": "stdout",
     "output_type": "stream",
     "text": [
      "CB.order_0. count 0\n",
      "CB.order_0\n",
      "CB.order_0. count 1\n",
      "CB.order_0\n",
      "There are total 1 batches!\n",
      "CB.order_0. count 1\n",
      "Elapsed time: 0.0001 seconds\n",
      "CB.order_0\n"
     ]
    }
   ],
   "source": [
    "cbs = [CompletionCB(), TimeCB()]\n",
    "cbs.sort(key=lambda p: -p.order)\n",
    "\n",
    "method_name, learn = 'before_fit', None\n",
    "for cb in cbs:\n",
    "    method = getattr(cb, method_name, None)\n",
    "    if method is not None: method(learn)\n",
    "    print(cb)\n",
    "    \n",
    "method_name, learn = 'after_batch', None\n",
    "for cb in cbs:\n",
    "    method = getattr(cb, method_name, None)\n",
    "    if method is not None: method(learn)\n",
    "    print(cb)\n",
    "    \n",
    "method_name, learn = 'after_fit', None\n",
    "for cb in cbs:\n",
    "    method = getattr(cb, method_name, None)\n",
    "    if method is not None: method(learn)\n",
    "    print(cb)"
   ]
  },
  {
   "cell_type": "code",
   "execution_count": 13,
   "id": "a641d283",
   "metadata": {},
   "outputs": [],
   "source": [
    "def run_cbs(cbs, method_name, learn=None):\n",
    "    cbs.sort(key=lambda p: p.order)\n",
    "    for cb in cbs:\n",
    "        method = getattr(cb, method_name, None)\n",
    "        if method is not None: method(learn)"
   ]
  },
  {
   "cell_type": "code",
   "execution_count": 14,
   "id": "f88c0e69",
   "metadata": {},
   "outputs": [],
   "source": [
    "class OneBatchCB(Callback):\n",
    "    order = 10\n",
    "    def after_batch(self, learn): raise CancelFitException\n",
    "        \n",
    "    def __repr__(self): return f\"CB.order_{self.order}\""
   ]
  },
  {
   "cell_type": "code",
   "execution_count": 15,
   "id": "9ac268ff",
   "metadata": {},
   "outputs": [
    {
     "name": "stdout",
     "output_type": "stream",
     "text": [
      "There are total 3 batches!\n"
     ]
    }
   ],
   "source": [
    "cbs = [CompletionCB()]\n",
    "run_cbs(cbs, 'before_fit', learn=None)\n",
    "run_cbs(cbs, 'after_batch', learn=None)\n",
    "run_cbs(cbs, 'after_batch', learn=None)\n",
    "run_cbs(cbs, 'after_batch', learn=None)\n",
    "run_cbs(cbs, 'after_fit', learn=None)"
   ]
  },
  {
   "cell_type": "code",
   "execution_count": 16,
   "id": "5e2f998b",
   "metadata": {},
   "outputs": [],
   "source": [
    "class Learner():\n",
    "    def __init__(self, model, dls, loss_func, cbs=[], opt_func=optim.SGD, lr=0.1):\n",
    "        self.model, self.dls, self.loss_func, self.cbs, self.opt_func, self.lr = model, dls, loss_func, cbs, opt_func, lr\n",
    "        \n",
    "    def one_batch(self):\n",
    "        try:\n",
    "            self.callback('before_batch')\n",
    "            self.xb, self.yb = self.batch\n",
    "            self.pred = self.model(self.xb)\n",
    "            self.loss = self.loss_func(self.pred, self.yb)\n",
    "            if self.model.training:\n",
    "                self.loss.backward()\n",
    "                self.opt.step()\n",
    "                self.opt.zero_grad()\n",
    "            self.callback('after_batch')\n",
    "        except CancelBatchException: pass\n",
    "\n",
    "    def one_epoch(self, train):\n",
    "        self.losses, self.accs = [], []\n",
    "        self.model.training = train\n",
    "        dl = self.dls.train if self.model.training else self.dls.val\n",
    "        try:\n",
    "            self.callback('before_epoch')\n",
    "            for self.i, self.batch in enumerate(dl):\n",
    "                self.one_batch()\n",
    "            self.callback('after_epoch')\n",
    "        except CancelEpochException: pass\n",
    "\n",
    "    def fit(self, n_epoch):\n",
    "        self.opt = self.opt_func(self.model.parameters(), self.lr)\n",
    "        self.n_epochs = n_epoch\n",
    "        try:\n",
    "            self.callback('before_fit')\n",
    "            for self.epoch in range(n_epoch):\n",
    "                self.one_epoch(True)\n",
    "                with torch.no_grad(): self.one_epoch(False)\n",
    "            self.callback('after_fit')\n",
    "        except CancelFitException: pass\n",
    "        \n",
    "    def callback(self, method_name): run_cbs(self.cbs, method_name, self)\n",
    "        \n",
    "    @property\n",
    "    def training(self): return self.model.training"
   ]
  },
  {
   "cell_type": "code",
   "execution_count": 17,
   "id": "2720c726",
   "metadata": {},
   "outputs": [],
   "source": [
    "_ = model.to('cpu')"
   ]
  },
  {
   "cell_type": "code",
   "execution_count": 18,
   "id": "240998bc",
   "metadata": {},
   "outputs": [],
   "source": [
    "learner = Learner(model, dls, cbs = [OneBatchCB()], loss_func = nn.CrossEntropyLoss())\n",
    "\n",
    "learner.fit(1)"
   ]
  },
  {
   "cell_type": "code",
   "execution_count": 19,
   "id": "ea3921ee",
   "metadata": {},
   "outputs": [
    {
     "name": "stdout",
     "output_type": "stream",
     "text": [
      "There are total 64 batches!\n",
      "Elapsed time: 2.4892 seconds\n"
     ]
    }
   ],
   "source": [
    "learner = Learner(model, dls, cbs = [CompletionCB(), TimeCB()], loss_func = nn.CrossEntropyLoss())\n",
    "\n",
    "learner.fit(1)"
   ]
  },
  {
   "cell_type": "markdown",
   "id": "d2bb7391",
   "metadata": {},
   "source": [
    "## Metric"
   ]
  },
  {
   "cell_type": "code",
   "execution_count": 20,
   "id": "e4d820b5",
   "metadata": {},
   "outputs": [
    {
     "data": {
      "text/plain": [
       "3.5"
      ]
     },
     "execution_count": 20,
     "metadata": {},
     "output_type": "execute_result"
    }
   ],
   "source": [
    "class Metric():\n",
    "    def __init__(self):\n",
    "        self.ns, self.vs = [], []\n",
    "    \n",
    "    def reset(self): self.ns, self.vs = [], []\n",
    "\n",
    "    def add(self, x, targs=None, n=1):\n",
    "        last = self.calc(x, targs)\n",
    "        self.ns.append(n)\n",
    "        self.vs.append(last)\n",
    "    \n",
    "    @property\n",
    "    def value(self):\n",
    "        return sum(self.vs)/sum(self.ns)\n",
    "    \n",
    "    def calc(self, x, y):\n",
    "        return x\n",
    "\n",
    "metric = Metric()\n",
    "\n",
    "metric.add(3)\n",
    "metric.add(4)\n",
    "metric.value"
   ]
  },
  {
   "cell_type": "code",
   "execution_count": 21,
   "id": "12e85039",
   "metadata": {},
   "outputs": [],
   "source": [
    "class Accuracy(Metric):\n",
    "    def calc(self, pred, yb):\n",
    "        return (pred.argmax(1) == yb).float().mean()\n",
    "    \n",
    "class Loss(Metric):\n",
    "    def calc(self, x, yb):\n",
    "        return x"
   ]
  },
  {
   "cell_type": "code",
   "execution_count": 22,
   "id": "acb1cbbd",
   "metadata": {},
   "outputs": [],
   "source": [
    "def to_cpu(x):\n",
    "    if isinstance(x, torch.Tensor): return x.to('cpu')\n",
    "    if isinstance(x, Mapping): return {k: v.to('cpu') for k,v in x.items()}\n",
    "    return type(x)(o.to('cpu') for o in x)"
   ]
  },
  {
   "cell_type": "code",
   "execution_count": 23,
   "id": "62b16dda",
   "metadata": {},
   "outputs": [],
   "source": [
    "xb, yb = next(iter(dls.train))\n",
    "\n",
    "model.to('cpu')\n",
    "pred = model(xb)"
   ]
  },
  {
   "cell_type": "code",
   "execution_count": 24,
   "id": "242b8fda",
   "metadata": {},
   "outputs": [
    {
     "data": {
      "text/plain": [
       "tensor(0.8086)"
      ]
     },
     "execution_count": 24,
     "metadata": {},
     "output_type": "execute_result"
    }
   ],
   "source": [
    "acc = Accuracy()\n",
    "acc.add(pred, yb)\n",
    "acc.value"
   ]
  },
  {
   "cell_type": "code",
   "execution_count": 25,
   "id": "0fb81daf",
   "metadata": {},
   "outputs": [
    {
     "data": {
      "text/plain": [
       "3.0"
      ]
     },
     "execution_count": 25,
     "metadata": {},
     "output_type": "execute_result"
    }
   ],
   "source": [
    "loss = Loss()\n",
    "loss.add(3, None)\n",
    "loss.value"
   ]
  },
  {
   "cell_type": "code",
   "execution_count": 26,
   "id": "4631e4a8",
   "metadata": {},
   "outputs": [],
   "source": [
    "class MatrixCB(Callback):\n",
    "    acc, loss = Accuracy(), Loss()\n",
    "    def after_batch(self, learn):\n",
    "        self.acc.add(learn.pred, learn.yb)\n",
    "        self.loss.add(learn.loss)\n",
    "        \n",
    "    def after_epoch(self, learn):\n",
    "        print(self)\n",
    "        self.reset()\n",
    "        \n",
    "    def reset(self):\n",
    "        self.acc.reset()\n",
    "        self.loss.reset()\n",
    "\n",
    "    def __repr__(self): return f\"acc {self.acc.value}, loss {self.loss.value}\""
   ]
  },
  {
   "cell_type": "code",
   "execution_count": 27,
   "id": "7ac930be",
   "metadata": {
    "scrolled": true
   },
   "outputs": [
    {
     "name": "stdout",
     "output_type": "stream",
     "text": [
      "acc 0.7796923518180847, loss 0.5916836857795715\n",
      "acc 0.7497260570526123, loss 0.6467958688735962\n",
      "Elapsed time: 2.4914 seconds\n"
     ]
    }
   ],
   "source": [
    "model.to('cpu')\n",
    "learner = Learner(model, dls, cbs = [MatrixCB(), TimeCB()], loss_func = nn.CrossEntropyLoss())\n",
    "\n",
    "learner.fit(1)"
   ]
  },
  {
   "cell_type": "code",
   "execution_count": 28,
   "id": "9d7b4da8",
   "metadata": {},
   "outputs": [],
   "source": [
    "class DeviceCB(Callback):\n",
    "    \n",
    "    def before_fit(self, learn):\n",
    "        if hasattr(learn.model, 'to'): learn.model.to(def_device)\n",
    "    \n",
    "    def before_batch(self, learn):\n",
    "        learn.batch = to_device(learn.batch)"
   ]
  },
  {
   "cell_type": "code",
   "execution_count": 29,
   "id": "fa4c7bdb",
   "metadata": {},
   "outputs": [
    {
     "name": "stdout",
     "output_type": "stream",
     "text": [
      "acc 0.7899885773658752, loss 0.5681154131889343\n",
      "acc 0.7894038558006287, loss 0.5770344138145447\n",
      "Elapsed time: 2.3563 seconds\n"
     ]
    }
   ],
   "source": [
    "learner = Learner(model, dls, cbs = [MatrixCB(), TimeCB(), DeviceCB()], loss_func = nn.CrossEntropyLoss())\n",
    "\n",
    "learner.fit(1)"
   ]
  },
  {
   "cell_type": "code",
   "execution_count": 30,
   "id": "7dcbbbfa",
   "metadata": {},
   "outputs": [],
   "source": [
    "# pip install torcheval"
   ]
  },
  {
   "cell_type": "code",
   "execution_count": 31,
   "id": "64252ee8",
   "metadata": {},
   "outputs": [
    {
     "data": {
      "text/plain": [
       "tensor(0.7500)"
      ]
     },
     "execution_count": 31,
     "metadata": {},
     "output_type": "execute_result"
    }
   ],
   "source": [
    "import torch\n",
    "from torcheval.metrics import MulticlassAccuracy, Mean\n",
    "metric = MulticlassAccuracy()\n",
    "input = torch.tensor([0, 2, 1, 3])\n",
    "target = torch.tensor([0, 1, 1, 3])\n",
    "metric.update(input, target)\n",
    "metric.compute()"
   ]
  },
  {
   "cell_type": "code",
   "execution_count": 32,
   "id": "c9c41a1b",
   "metadata": {},
   "outputs": [],
   "source": [
    "class MatrixCB(Callback):\n",
    "    acc, loss = MulticlassAccuracy(), Mean()\n",
    "    def after_batch(self, learn):\n",
    "        self.acc.update(to_cpu(learn.pred), to_cpu(learn.yb.to('cpu')))\n",
    "        self.loss.update(to_cpu(learn.loss))\n",
    "        \n",
    "    def after_epoch(self, learn):\n",
    "        print(self)\n",
    "        self.reset()\n",
    "        \n",
    "    def reset(self):\n",
    "        self.acc.reset()\n",
    "        self.loss.reset()\n",
    "\n",
    "    def __repr__(self): return f\"acc {self.acc.compute()}, loss {self.loss.compute()}\""
   ]
  },
  {
   "cell_type": "code",
   "execution_count": 33,
   "id": "9d90dfec",
   "metadata": {},
   "outputs": [
    {
     "name": "stdout",
     "output_type": "stream",
     "text": [
      "acc 0.7980333566665649, loss 0.5465482402656038\n",
      "acc 0.7853000164031982, loss 0.5690273880958557\n",
      "Elapsed time: 2.3862 seconds\n"
     ]
    }
   ],
   "source": [
    "learner = Learner(model, dls, cbs = [MatrixCB(), TimeCB(), DeviceCB()], loss_func = nn.CrossEntropyLoss())\n",
    "learner.fit(1)"
   ]
  },
  {
   "cell_type": "code",
   "execution_count": 34,
   "id": "cd97b24c",
   "metadata": {},
   "outputs": [],
   "source": [
    "from copy import copy\n",
    "\n",
    "class MetricsCB(Callback):\n",
    "    def __init__(self, *ms, **metrics):\n",
    "        for o in ms: metrics[type(o).__name__] = o\n",
    "        self.metrics = metrics\n",
    "        self.all_metrics = copy(metrics)\n",
    "        self.all_metrics['loss'] = self.loss = Mean()\n",
    "    \n",
    "    def before_fit(self, learn): learn.metrics = self\n",
    "        \n",
    "    def after_batch(self, learn):\n",
    "        for v in self.metrics.values():\n",
    "            v.update(to_cpu(learn.pred), to_cpu(learn.yb.to('cpu')))\n",
    "        self.loss.update(to_cpu(learn.loss))\n",
    "        \n",
    "    def before_epoch(self, learn):\n",
    "        for v in self.all_metrics.values(): v.reset()\n",
    "        \n",
    "    def _log(self, log):\n",
    "        print(log)\n",
    "        \n",
    "    def after_epoch(self, learn):\n",
    "        log = {k:f\"{v.compute().item():.2f}\" for k, v in self.all_metrics.items()}\n",
    "        log['train'] = learn.model.training\n",
    "        log['epoch'] = learn.epoch\n",
    "        self._log(log)\n",
    "    \n",
    "    def reset(self):\n",
    "        for v in self.matrics.values():\n",
    "            v.reset()\n",
    "        self.loss.reset()"
   ]
  },
  {
   "cell_type": "code",
   "execution_count": 35,
   "id": "27a42e83",
   "metadata": {},
   "outputs": [
    {
     "name": "stdout",
     "output_type": "stream",
     "text": [
      "{'acc': '0.11', 'loss': '2.30', 'train': True, 'epoch': 0}\n",
      "{'acc': '0.25', 'loss': '2.30', 'train': False, 'epoch': 0}\n",
      "{'acc': '0.30', 'loss': '2.29', 'train': True, 'epoch': 1}\n",
      "{'acc': '0.30', 'loss': '2.25', 'train': False, 'epoch': 1}\n",
      "{'acc': '0.48', 'loss': '1.56', 'train': True, 'epoch': 2}\n",
      "{'acc': '0.61', 'loss': '1.01', 'train': False, 'epoch': 2}\n",
      "Elapsed time: 7.0845 seconds\n"
     ]
    }
   ],
   "source": [
    "metrics = MetricsCB(acc=MulticlassAccuracy())\n",
    "\n",
    "learner = Learner(get_model(), dls, cbs = [metrics, TimeCB(), DeviceCB()], loss_func = nn.CrossEntropyLoss())\n",
    "learner.fit(3)"
   ]
  },
  {
   "cell_type": "markdown",
   "id": "3af25b9e",
   "metadata": {},
   "source": [
    "### Context"
   ]
  },
  {
   "cell_type": "code",
   "execution_count": 36,
   "id": "c2edc0a4",
   "metadata": {
    "scrolled": false
   },
   "outputs": [
    {
     "name": "stdout",
     "output_type": "stream",
     "text": [
      "before 23\n",
      "26\n",
      "after 26\n"
     ]
    }
   ],
   "source": [
    "from contextlib import contextmanager\n",
    "\n",
    "@contextmanager\n",
    "def print_out(a):\n",
    "    print(f'before {a.value}')\n",
    "    yield\n",
    "    print(f'after {a.value}')\n",
    "    \n",
    "class Variable():\n",
    "    def __init__(self, x):\n",
    "        self.value = x\n",
    "        \n",
    "    def add(self, n):\n",
    "        self.value += n\n",
    "\n",
    "x = Variable(23)\n",
    "\n",
    "with print_out(x):\n",
    "    x.add(3)\n",
    "    print(x.value)"
   ]
  },
  {
   "cell_type": "code",
   "execution_count": 37,
   "id": "6b87e82a",
   "metadata": {},
   "outputs": [],
   "source": [
    "class with_cbs():\n",
    "    def __init__(self, nm):\n",
    "        self.nm = nm\n",
    "        self.train = 1\n",
    "        self.val = 1\n",
    "\n",
    "    def __call__(self, func):\n",
    "        def wrapper(o, *args, **kwargs):\n",
    "            try:\n",
    "                o.callback(f\"before_{self.nm}\")\n",
    "            \n",
    "                func(o, *args, **kwargs)\n",
    "            except globals()[f'Cancel{self.nm.title()}Exception']:\n",
    "                pass\n",
    "            finally: o.callback(f\"after_{self.nm}\")\n",
    "        return wrapper\n",
    "\n",
    "class Learner():\n",
    "    def __init__(self, model, dls, cbs=[], loss_func=nn.CrossEntropyLoss(), opt_func=optim.SGD, lr=0.1):\n",
    "        self.model, self.dls, self.loss_func, self.cbs, self.opt_func, self.lr = model, dls, loss_func, cbs, opt_func, lr\n",
    "    \n",
    "    @with_cbs('batch')\n",
    "    def one_batch(self):\n",
    "        self.xb, self.yb = self.batch\n",
    "        self.predict()\n",
    "        self.get_loss()\n",
    "        if self.model.training:\n",
    "            self.backward()\n",
    "            self.step()\n",
    "            self.zero_grad()\n",
    "    \n",
    "    @with_cbs('epoch')\n",
    "    def _one_epoch(self):\n",
    "        for self.i, self.batch in enumerate(self.dl):\n",
    "            self.one_batch()\n",
    "\n",
    "    def one_epoch(self, train):\n",
    "        self.losses, self.accs = [], []\n",
    "        self.model.training = train\n",
    "        self.dl = self.dls.train if self.model.training else self.dls.val\n",
    "        self._one_epoch()\n",
    "\n",
    "    @with_cbs('fit')\n",
    "    def _fit(self, train=1, val=1):\n",
    "        for self.epoch in self.epochs:\n",
    "            if train: self.one_epoch(True)\n",
    "            if val:\n",
    "                with torch.no_grad(): self.one_epoch(False)\n",
    "    \n",
    "    def fit(self, n_epochs, train=1, val=1):\n",
    "        self.opt = self.opt_func(self.model.parameters(), self.lr)\n",
    "        self.n_epochs = n_epochs\n",
    "        self.epochs = range(n_epochs)\n",
    "        self._fit(train, val)\n",
    "        \n",
    "    def callback(self, method_name): run_cbs(self.cbs, method_name, self)\n",
    "        \n",
    "    @property\n",
    "    def training(self): return self.model.training\n",
    "    \n",
    "    def __getattr__(self, attr):\n",
    "        if attr in ['predict', 'get_loss', 'backward', 'step', 'zero_grad']:\n",
    "            return partial(self.callback, attr)\n",
    "        else: AttributeError(attr)"
   ]
  },
  {
   "cell_type": "code",
   "execution_count": 57,
   "id": "d9d6fa8f",
   "metadata": {},
   "outputs": [],
   "source": [
    "class TrainCB(Callback):\n",
    "    def predict(self): self.pred = self.model(self.xb)\n",
    "    def get_loss(self): self.loss = self.loss_func(self.pred, self.yb)\n",
    "    def backward(self): self.loss.backward()\n",
    "    def step(self): self.opt.step()\n",
    "    def zero_grad(self): self.opt.zero_grad()"
   ]
  },
  {
   "cell_type": "code",
   "execution_count": 58,
   "id": "5c7163ae",
   "metadata": {},
   "outputs": [],
   "source": [
    "class TrainLearner(Learner):\n",
    "    def predict(self): self.pred = self.model(self.xb)\n",
    "    def get_loss(self): self.loss = self.loss_func(self.pred, self.yb)\n",
    "    def backward(self): self.loss.backward()\n",
    "    def step(self): self.opt.step()\n",
    "    def zero_grad(self): self.opt.zero_grad()"
   ]
  },
  {
   "cell_type": "code",
   "execution_count": 39,
   "id": "3d19ce15",
   "metadata": {},
   "outputs": [],
   "source": [
    "from fastprogress import progress_bar, master_bar\n",
    "import fastcore.all as fc\n",
    "\n",
    "class ProgressCB(Callback):\n",
    "    order = MetricsCB.order+1\n",
    "    def __init__(self, plot=False): self.plot = plot\n",
    "\n",
    "    def before_fit(self, learn):\n",
    "        learn.epochs = self.mbar = master_bar(learn.epochs)\n",
    "        self.first = True\n",
    "        if hasattr(learn, 'metrics'): learn.metrics._log = self._log\n",
    "        self.losses = []\n",
    "        self.val_losses = []\n",
    "\n",
    "    def _log(self, d):\n",
    "        if self.first:\n",
    "            self.mbar.write(list(d), table=True)\n",
    "            self.first = False\n",
    "        self.mbar.write(list(d.values()), table=True)\n",
    "\n",
    "    def before_epoch(self, learn): learn.dl = progress_bar(learn.dl, leave=False, parent=self.mbar)\n",
    "\n",
    "    def after_batch(self, learn):\n",
    "        learn.dl.comment = f'{learn.loss:.3f}'\n",
    "        if self.plot and hasattr(learn, 'metrics') and learn.training:\n",
    "            self.losses.append(learn.loss.item())\n",
    "            if self.val_losses: self.mbar.update_graph([[fc.L.range(self.losses), self.losses],[fc.L.range(learn.epoch).map(lambda x: (x+1)*len(learn.dls.train)), self.val_losses]])\n",
    "    \n",
    "    def after_epoch(self, learn): \n",
    "        if not learn.training:\n",
    "            if self.plot and hasattr(learn, 'metrics'): \n",
    "                self.val_losses.append(learn.metrics.all_metrics['loss'].compute())\n",
    "                self.mbar.update_graph([[fc.L.range(self.losses), self.losses],[fc.L.range(learn.epoch+1).map(lambda x: (x+1)*len(learn.dls.train)), self.val_losses]])"
   ]
  },
  {
   "cell_type": "code",
   "execution_count": 40,
   "id": "831cf93a",
   "metadata": {
    "scrolled": true
   },
   "outputs": [
    {
     "data": {
      "text/html": [
       "\n",
       "<style>\n",
       "    /* Turns off some styling */\n",
       "    progress {\n",
       "        /* gets rid of default border in Firefox and Opera. */\n",
       "        border: none;\n",
       "        /* Needs to be in here for Safari polyfill so background images work as expected. */\n",
       "        background-size: auto;\n",
       "    }\n",
       "    progress:not([value]), progress:not([value])::-webkit-progress-bar {\n",
       "        background: repeating-linear-gradient(45deg, #7e7e7e, #7e7e7e 10px, #5c5c5c 10px, #5c5c5c 20px);\n",
       "    }\n",
       "    .progress-bar-interrupted, .progress-bar-interrupted::-webkit-progress-bar {\n",
       "        background: #F44336;\n",
       "    }\n",
       "</style>\n"
      ],
      "text/plain": [
       "<IPython.core.display.HTML object>"
      ]
     },
     "metadata": {},
     "output_type": "display_data"
    },
    {
     "data": {
      "text/html": [
       "<table border=\"1\" class=\"dataframe\">\n",
       "  <thead>\n",
       "    <tr style=\"text-align: left;\">\n",
       "      <th>acc</th>\n",
       "      <th>loss</th>\n",
       "      <th>train</th>\n",
       "      <th>epoch</th>\n",
       "    </tr>\n",
       "  </thead>\n",
       "  <tbody>\n",
       "    <tr>\n",
       "      <td>0.13</td>\n",
       "      <td>2.30</td>\n",
       "      <td>True</td>\n",
       "      <td>0</td>\n",
       "    </tr>\n",
       "    <tr>\n",
       "      <td>0.18</td>\n",
       "      <td>2.30</td>\n",
       "      <td>False</td>\n",
       "      <td>0</td>\n",
       "    </tr>\n",
       "    <tr>\n",
       "      <td>0.24</td>\n",
       "      <td>2.30</td>\n",
       "      <td>True</td>\n",
       "      <td>1</td>\n",
       "    </tr>\n",
       "    <tr>\n",
       "      <td>0.35</td>\n",
       "      <td>2.29</td>\n",
       "      <td>False</td>\n",
       "      <td>1</td>\n",
       "    </tr>\n",
       "    <tr>\n",
       "      <td>0.35</td>\n",
       "      <td>2.10</td>\n",
       "      <td>True</td>\n",
       "      <td>2</td>\n",
       "    </tr>\n",
       "    <tr>\n",
       "      <td>0.56</td>\n",
       "      <td>1.26</td>\n",
       "      <td>False</td>\n",
       "      <td>2</td>\n",
       "    </tr>\n",
       "  </tbody>\n",
       "</table>"
      ],
      "text/plain": [
       "<IPython.core.display.HTML object>"
      ]
     },
     "metadata": {},
     "output_type": "display_data"
    },
    {
     "data": {
      "image/png": "[encoded data removed]",
      "text/plain": [
       "<Figure size 600x400 with 1 Axes>"
      ]
     },
     "metadata": {},
     "output_type": "display_data"
    },
    {
     "name": "stdout",
     "output_type": "stream",
     "text": [
      "Elapsed time: 13.9948 seconds\n"
     ]
    }
   ],
   "source": [
    "metrics = MetricsCB(acc=MulticlassAccuracy())\n",
    "cbs = [metrics, TimeCB(), DeviceCB(), ProgressCB(plot=True)]\n",
    "learner = TrainLearner(get_model(), dls, cbs=cbs)\n",
    "learner.fit(3, 1, 1)"
   ]
  },
  {
   "cell_type": "code",
   "execution_count": 41,
   "id": "3b5c5b9c",
   "metadata": {},
   "outputs": [],
   "source": [
    "class MomentumLearner(TrainLearner):\n",
    "    def __init__(self, model, dls, cbs=None, loss_func=nn.CrossEntropyLoss(), lr=None, opt_func=optim.SGD, mom=0.85):\n",
    "        self.mom = mom\n",
    "        super().__init__(model, dls, cbs, loss_func, opt_func, lr)\n",
    "# def __init__(self, model, dls, cbs=[], loss_func=nn.CrossEntropyLoss(), opt_func=optim.SGD, lr=0.1):\n",
    "    def zero_grad(self):\n",
    "        with torch.no_grad():\n",
    "            for p in self.model.parameters(): p.grad *= self.mom"
   ]
  },
  {
   "cell_type": "code",
   "execution_count": 42,
   "id": "47cadd75",
   "metadata": {},
   "outputs": [
    {
     "data": {
      "text/html": [
       "\n",
       "<style>\n",
       "    /* Turns off some styling */\n",
       "    progress {\n",
       "        /* gets rid of default border in Firefox and Opera. */\n",
       "        border: none;\n",
       "        /* Needs to be in here for Safari polyfill so background images work as expected. */\n",
       "        background-size: auto;\n",
       "    }\n",
       "    progress:not([value]), progress:not([value])::-webkit-progress-bar {\n",
       "        background: repeating-linear-gradient(45deg, #7e7e7e, #7e7e7e 10px, #5c5c5c 10px, #5c5c5c 20px);\n",
       "    }\n",
       "    .progress-bar-interrupted, .progress-bar-interrupted::-webkit-progress-bar {\n",
       "        background: #F44336;\n",
       "    }\n",
       "</style>\n"
      ],
      "text/plain": [
       "<IPython.core.display.HTML object>"
      ]
     },
     "metadata": {},
     "output_type": "display_data"
    },
    {
     "data": {
      "text/html": [
       "<table border=\"1\" class=\"dataframe\">\n",
       "  <thead>\n",
       "    <tr style=\"text-align: left;\">\n",
       "      <th>acc</th>\n",
       "      <th>loss</th>\n",
       "      <th>train</th>\n",
       "      <th>epoch</th>\n",
       "    </tr>\n",
       "  </thead>\n",
       "  <tbody>\n",
       "    <tr>\n",
       "      <td>0.33</td>\n",
       "      <td>2.02</td>\n",
       "      <td>True</td>\n",
       "      <td>0</td>\n",
       "    </tr>\n",
       "    <tr>\n",
       "      <td>0.67</td>\n",
       "      <td>0.96</td>\n",
       "      <td>False</td>\n",
       "      <td>0</td>\n",
       "    </tr>\n",
       "    <tr>\n",
       "      <td>0.75</td>\n",
       "      <td>0.67</td>\n",
       "      <td>True</td>\n",
       "      <td>1</td>\n",
       "    </tr>\n",
       "    <tr>\n",
       "      <td>0.78</td>\n",
       "      <td>0.59</td>\n",
       "      <td>False</td>\n",
       "      <td>1</td>\n",
       "    </tr>\n",
       "    <tr>\n",
       "      <td>0.81</td>\n",
       "      <td>0.52</td>\n",
       "      <td>True</td>\n",
       "      <td>2</td>\n",
       "    </tr>\n",
       "    <tr>\n",
       "      <td>0.81</td>\n",
       "      <td>0.52</td>\n",
       "      <td>False</td>\n",
       "      <td>2</td>\n",
       "    </tr>\n",
       "  </tbody>\n",
       "</table>"
      ],
      "text/plain": [
       "<IPython.core.display.HTML object>"
      ]
     },
     "metadata": {},
     "output_type": "display_data"
    },
    {
     "data": {
      "image/png": "[encoded data removed]",
      "text/plain": [
       "<Figure size 600x400 with 1 Axes>"
      ]
     },
     "metadata": {},
     "output_type": "display_data"
    },
    {
     "name": "stdout",
     "output_type": "stream",
     "text": [
      "Elapsed time: 13.6155 seconds\n"
     ]
    }
   ],
   "source": [
    "metrics = MetricsCB(acc=MulticlassAccuracy())\n",
    "cbs = [metrics, TimeCB(), DeviceCB(), ProgressCB(plot=True)]\n",
    "learner = MomentumLearner(get_model(), dls, cbs=cbs, lr=0.1)\n",
    "learner.fit(3, 1, 1)"
   ]
  },
  {
   "cell_type": "markdown",
   "id": "74e1e2fd",
   "metadata": {},
   "source": [
    "### LRfinder"
   ]
  },
  {
   "cell_type": "code",
   "execution_count": 55,
   "id": "62cc48d8",
   "metadata": {},
   "outputs": [],
   "source": [
    "import math\n",
    "from matplotlib import pyplot as plt\n",
    "\n",
    "class LRFinderCB(Callback):\n",
    "    def __init__(self, lr_mult=1.1):\n",
    "        self.lr_mult = lr_mult\n",
    "        self.i = 0\n",
    "        \n",
    "    def before_fit(self, learn):\n",
    "        self.lrs,self.losses = [],[]\n",
    "        self.min = math.inf\n",
    "        \n",
    "    def after_batch(self, learn):\n",
    "        self.i += 1\n",
    "        if not learn.training: raise CancelEpochException()\n",
    "        self.lrs.append(learn.opt.param_groups[0]['lr'])\n",
    "        loss = to_cpu(learn.loss)\n",
    "        self.losses.append(loss.item())\n",
    "        if loss < self.min: self.min = loss\n",
    "        if loss > self.min*3: raise CancelFitException()\n",
    "        for g in learn.opt.param_groups: g['lr'] *= self.lr_mult\n",
    "                \n",
    "    def after_fit(self, learn):\n",
    "        plt.plot(self.lrs, self.losses)\n",
    "        plt.xscale('log')"
   ]
  },
  {
   "cell_type": "code",
   "execution_count": 56,
   "id": "02e941ca",
   "metadata": {},
   "outputs": [
    {
     "name": "stdout",
     "output_type": "stream",
     "text": [
      "{'acc': '0.12', 'loss': '2.30', 'train': True, 'epoch': 0}\n",
      "{'acc': '0.11', 'loss': '2.30', 'train': False, 'epoch': 0}\n",
      "{'acc': '0.12', 'loss': '2.29', 'train': True, 'epoch': 1}\n",
      "{'acc': '0.30', 'loss': '2.13', 'train': False, 'epoch': 1}\n",
      "Elapsed time: 4.6400 seconds\n"
     ]
    },
    {
     "data": {
      "image/png": "[encoded data removed]",
      "text/plain": [
       "<Figure size 500x500 with 1 Axes>"
      ]
     },
     "metadata": {},
     "output_type": "display_data"
    }
   ],
   "source": [
    "metrics = MetricsCB(acc=MulticlassAccuracy())\n",
    "lr_finder = LRFinderCB()\n",
    "cbs = [metrics, TimeCB(), DeviceCB(), lr_finder]\n",
    "learner = MomentumLearner(get_model(), dls, cbs=cbs, lr=1e-5)\n",
    "learner.fit(2)"
   ]
  },
  {
   "cell_type": "code",
   "execution_count": 50,
   "id": "ab74a8e2",
   "metadata": {},
   "outputs": [
    {
     "name": "stdout",
     "output_type": "stream",
     "text": [
      "{'acc': '0.13', 'loss': '2.28', 'train': True, 'epoch': 0}\n",
      "{'acc': '0.38', 'loss': '1.80', 'train': False, 'epoch': 0}\n",
      "{'acc': '0.16', 'loss': '2.26', 'train': True, 'epoch': 1}\n",
      "{'acc': '0.36', 'loss': '1.64', 'train': False, 'epoch': 1}\n",
      "{'acc': '0.49', 'loss': '1.48', 'train': True, 'epoch': 2}\n",
      "{'acc': '0.69', 'loss': '0.83', 'train': False, 'epoch': 2}\n",
      "Elapsed time: 7.1548 seconds\n"
     ]
    }
   ],
   "source": [
    "metrics = MetricsCB(acc=MulticlassAccuracy())\n",
    "cbs = [metrics, TimeCB(), DeviceCB()]\n",
    "learner = MomentumLearner(get_model(), dls, cbs=cbs, lr=0.1)\n",
    "learner.fit(3)"
   ]
  }
 ],
 "metadata": {
  "kernelspec": {
   "display_name": "Python 3 (ipykernel)",
   "language": "python",
   "name": "python3"
  },
  "language_info": {
   "codemirror_mode": {
    "name": "ipython",
    "version": 3
   },
   "file_extension": ".py",
   "mimetype": "text/x-python",
   "name": "python",
   "nbconvert_exporter": "python",
   "pygments_lexer": "ipython3",
   "version": "3.8.12"
  }
 },
 "nbformat": 4,
 "nbformat_minor": 5
}
